{
 "cells": [
  {
   "cell_type": "code",
   "execution_count": 1,
   "metadata": {},
   "outputs": [],
   "source": [
    "import numpy as np\n",
    "import pandas as pd"
   ]
  },
  {
   "cell_type": "code",
   "execution_count": 2,
   "metadata": {},
   "outputs": [],
   "source": [
    "SC_MEAN    = 16\n",
    "SC_STD     = 35\n",
    "TARGET_COL = 'scalar_coupling_constant'\n",
    "\n",
    "PROC_DATA_PATH = '../proc_data/'\n",
    "SUB_PATH       = '../submissions/'\n",
    "OOF_PATH       = '../oofs/'"
   ]
  },
  {
   "cell_type": "code",
   "execution_count": 3,
   "metadata": {},
   "outputs": [],
   "source": [
    "version = 1\n",
    "fold_id = 5\n",
    "epochs  = 40"
   ]
  },
  {
   "cell_type": "code",
   "execution_count": 6,
   "metadata": {
    "scrolled": true
   },
   "outputs": [
    {
     "name": "stderr",
     "output_type": "stream",
     "text": [
      "/anaconda2/envs/python36/lib/python3.6/site-packages/numpy/lib/arraysetops.py:522: FutureWarning: elementwise comparison failed; returning scalar instead, but in the future will perform elementwise comparison\n",
      "  mask |= (ar1 == a)\n"
     ]
    }
   ],
   "source": [
    "train_df = pd.read_csv(PROC_DATA_PATH + 'train_proc_df.csv', index_col=0)\n",
    "val_idxs = pd.read_csv(PROC_DATA_PATH + 'val_idxs_8_fold_cv.csv', usecols=[0, fold_id], \n",
    "                       index_col=0).dropna().astype(int).iloc[:,0]"
   ]
  },
  {
   "cell_type": "code",
   "execution_count": 7,
   "metadata": {},
   "outputs": [
    {
     "name": "stderr",
     "output_type": "stream",
     "text": [
      "/anaconda2/envs/python36/lib/python3.6/site-packages/numpy/lib/arraysetops.py:522: FutureWarning: elementwise comparison failed; returning scalar instead, but in the future will perform elementwise comparison\n",
      "  mask |= (ar1 == a)\n"
     ]
    }
   ],
   "source": [
    "sub_file = f'mol_transformer_snapshots_v{version}_fold{fold_id}-submission.csv'\n",
    "sub_base_file = f'mol_transformer_v{version}_fold{fold_id}-submission.csv'\n",
    "oof_file = f'mol_transformer_snapshots_v{version}_fold{fold_id}-oof.csv'\n",
    "oof_base_file = f'mol_transformer_v{version}_fold{fold_id}-oof.csv'\n",
    "base_sub = pd.read_csv(SUB_PATH + sub_base_file, index_col=0)\n",
    "subs = pd.concat((base_sub.reset_index(drop=True), \n",
    "                  pd.read_csv(SUB_PATH + sub_file)), axis=1)\n",
    "oofs = pd.concat((pd.read_csv(OOF_PATH + oof_base_file, index_col=0),\n",
    "                  pd.read_csv(OOF_PATH + oof_file, index_col=0)), axis=1)\n",
    "subs.columns = [str(i) for i in range(epochs+1)]\n",
    "oofs.columns = [str(i) for i in range(epochs+1)]"
   ]
  },
  {
   "cell_type": "code",
   "execution_count": 8,
   "metadata": {},
   "outputs": [],
   "source": [
    "val_df = train_df[train_df['molecule_id'].isin(val_idxs)]\n",
    "y_true, types = val_df[TARGET_COL] * SC_STD + SC_MEAN, val_df['type']"
   ]
  },
  {
   "cell_type": "code",
   "execution_count": 9,
   "metadata": {},
   "outputs": [],
   "source": [
    "def group_mean_log_mae(y_true, y_pred, types, return_groups=False):\n",
    "    maes = (y_true - y_pred).abs().groupby(types).mean()\n",
    "    return np.log(maes).mean()"
   ]
  },
  {
   "cell_type": "code",
   "execution_count": 10,
   "metadata": {},
   "outputs": [
    {
     "name": "stdout",
     "output_type": "stream",
     "text": [
      "-2.8489835587157417 ['0']\n",
      "-2.8504853284868727 ['8']\n",
      "-2.852540849279369 ['15']\n",
      "-2.853238272695925 ['16']\n",
      "-2.8547816737673086 ['23']\n",
      "-2.855946341923628 ['24']\n",
      "-2.857300856513066 ['32']\n",
      "-2.859050538286121 ['40']\n",
      "-2.859066922437052 ['40', '23']\n",
      "-2.859152005282061 ['40', '24']\n",
      "-2.85920610889473 ['40', '31']\n",
      "-2.859619202107832 ['40', '32']\n",
      "-2.859754098415871 ['40', '32', '40']\n",
      "-2.85981527424827 ['40', '32', '40', '23']\n",
      "-2.8599723178828165 ['40', '32', '40', '30']\n",
      "-2.8599913763488036 ['40', '32', '40', '30', '24']\n",
      "-2.8600258941444103 ['40', '32', '40', '30', '31']\n",
      "-2.8602183143148627 ['40', '32', '40', '30', '38']\n",
      "-2.860219109346976 ['40', '32', '40', '30', '38', '24']\n",
      "-2.8602995003877028 ['40', '32', '40', '30', '38', '39']\n",
      "-2.8603162465221272 ['40', '32', '40', '30', '38', '39', '40']\n",
      "-2.8603363412280576 ['40', '32', '40', '30', '38', '39', '40', '23']\n"
     ]
    }
   ],
   "source": [
    "used_models, avail_models = [], list(range(epochs+1))\n",
    "improved, best_score, model_to_add = True, 0, None\n",
    "while improved:\n",
    "    improved = False\n",
    "    for i in avail_models:\n",
    "        y_pred = oofs[[str(m) for m in used_models]+[str(i)]].values.mean(axis=1)\n",
    "        gmlmae = group_mean_log_mae(y_true, y_pred, types)\n",
    "        if gmlmae < best_score:\n",
    "            improved = True\n",
    "            model_to_add = str(i)\n",
    "            best_score = gmlmae\n",
    "            print(best_score, used_models+[model_to_add])\n",
    "    if improved:\n",
    "        used_models.append(model_to_add)           "
   ]
  },
  {
   "cell_type": "code",
   "execution_count": 11,
   "metadata": {},
   "outputs": [
    {
     "data": {
      "text/html": [
       "<div>\n",
       "<style scoped>\n",
       "    .dataframe tbody tr th:only-of-type {\n",
       "        vertical-align: middle;\n",
       "    }\n",
       "\n",
       "    .dataframe tbody tr th {\n",
       "        vertical-align: top;\n",
       "    }\n",
       "\n",
       "    .dataframe thead th {\n",
       "        text-align: right;\n",
       "    }\n",
       "</style>\n",
       "<table border=\"1\" class=\"dataframe\">\n",
       "  <thead>\n",
       "    <tr style=\"text-align: right;\">\n",
       "      <th></th>\n",
       "      <th>scalar_coupling_constant</th>\n",
       "    </tr>\n",
       "    <tr>\n",
       "      <th>id</th>\n",
       "      <th></th>\n",
       "    </tr>\n",
       "  </thead>\n",
       "  <tbody>\n",
       "    <tr>\n",
       "      <th>4658147</th>\n",
       "      <td>16.962313</td>\n",
       "    </tr>\n",
       "    <tr>\n",
       "      <th>4658148</th>\n",
       "      <td>186.399607</td>\n",
       "    </tr>\n",
       "    <tr>\n",
       "      <th>4658149</th>\n",
       "      <td>1.787979</td>\n",
       "    </tr>\n",
       "    <tr>\n",
       "      <th>4658150</th>\n",
       "      <td>184.165779</td>\n",
       "    </tr>\n",
       "    <tr>\n",
       "      <th>4658151</th>\n",
       "      <td>17.519956</td>\n",
       "    </tr>\n",
       "  </tbody>\n",
       "</table>\n",
       "</div>"
      ],
      "text/plain": [
       "         scalar_coupling_constant\n",
       "id                               \n",
       "4658147                 16.962313\n",
       "4658148                186.399607\n",
       "4658149                  1.787979\n",
       "4658150                184.165779\n",
       "4658151                 17.519956"
      ]
     },
     "execution_count": 11,
     "metadata": {},
     "output_type": "execute_result"
    }
   ],
   "source": [
    "sub_ens = base_sub.copy()\n",
    "sub_ens[TARGET_COL] = subs[used_models].mean(axis=1).values\n",
    "sub_ens.head()"
   ]
  },
  {
   "cell_type": "code",
   "execution_count": 12,
   "metadata": {},
   "outputs": [],
   "source": [
    "sub_ens.to_csv(f'{SUB_PATH}mol_transformer_se_v{version}_fold{fold_id}-submission.csv')"
   ]
  },
  {
   "cell_type": "code",
   "execution_count": null,
   "metadata": {},
   "outputs": [],
   "source": []
  }
 ],
 "metadata": {
  "kernelspec": {
   "display_name": "Python 3",
   "language": "python",
   "name": "python3"
  },
  "language_info": {
   "codemirror_mode": {
    "name": "ipython",
    "version": 3
   },
   "file_extension": ".py",
   "mimetype": "text/x-python",
   "name": "python",
   "nbconvert_exporter": "python",
   "pygments_lexer": "ipython3",
   "version": "3.6.8"
  }
 },
 "nbformat": 4,
 "nbformat_minor": 2
}
