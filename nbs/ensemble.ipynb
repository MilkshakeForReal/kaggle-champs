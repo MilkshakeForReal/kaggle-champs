{
 "cells": [
  {
   "cell_type": "code",
   "execution_count": 1,
   "metadata": {},
   "outputs": [],
   "source": [
    "import numpy as np\n",
    "import pandas as pd"
   ]
  },
  {
   "cell_type": "code",
   "execution_count": 2,
   "metadata": {},
   "outputs": [],
   "source": [
    "TARGET_COL = 'scalar_coupling_constant'\n",
    "SUB_PATH   = '../submissions/'"
   ]
  },
  {
   "cell_type": "code",
   "execution_count": 3,
   "metadata": {},
   "outputs": [],
   "source": [
    "sub_name = 'mol_transformer_se_v1'\n",
    "sub_files = ['mol_transformer_se_v1_fold1-submission',\n",
    "             'mol_transformer_se_v1_fold2-submission',\n",
    "             'mol_transformer_se_v1_fold3-submission',\n",
    "             'mol_transformer_se_v1_fold4-submission',\n",
    "             'mol_transformer_se_v1_fold5-submission',\n",
    "             'mol_transformer_se_v1_fold6-submission',\n",
    "             'mol_transformer_se_v1_fold7-submission',\n",
    "             'mol_transformer_se_v1_fold8-submission']"
   ]
  },
  {
   "cell_type": "code",
   "execution_count": 4,
   "metadata": {},
   "outputs": [
    {
     "name": "stderr",
     "output_type": "stream",
     "text": [
      "/anaconda2/envs/python36/lib/python3.6/site-packages/numpy/lib/arraysetops.py:522: FutureWarning: elementwise comparison failed; returning scalar instead, but in the future will perform elementwise comparison\n",
      "  mask |= (ar1 == a)\n"
     ]
    },
    {
     "data": {
      "text/html": [
       "<div>\n",
       "<style scoped>\n",
       "    .dataframe tbody tr th:only-of-type {\n",
       "        vertical-align: middle;\n",
       "    }\n",
       "\n",
       "    .dataframe tbody tr th {\n",
       "        vertical-align: top;\n",
       "    }\n",
       "\n",
       "    .dataframe thead th {\n",
       "        text-align: right;\n",
       "    }\n",
       "</style>\n",
       "<table border=\"1\" class=\"dataframe\">\n",
       "  <thead>\n",
       "    <tr style=\"text-align: right;\">\n",
       "      <th></th>\n",
       "      <th>scalar_coupling_constant</th>\n",
       "      <th>scalar_coupling_constant</th>\n",
       "      <th>scalar_coupling_constant</th>\n",
       "      <th>scalar_coupling_constant</th>\n",
       "      <th>scalar_coupling_constant</th>\n",
       "      <th>scalar_coupling_constant</th>\n",
       "      <th>scalar_coupling_constant</th>\n",
       "      <th>scalar_coupling_constant</th>\n",
       "    </tr>\n",
       "    <tr>\n",
       "      <th>id</th>\n",
       "      <th></th>\n",
       "      <th></th>\n",
       "      <th></th>\n",
       "      <th></th>\n",
       "      <th></th>\n",
       "      <th></th>\n",
       "      <th></th>\n",
       "      <th></th>\n",
       "    </tr>\n",
       "  </thead>\n",
       "  <tbody>\n",
       "    <tr>\n",
       "      <th>4658147</th>\n",
       "      <td>17.371484</td>\n",
       "      <td>18.655994</td>\n",
       "      <td>20.307257</td>\n",
       "      <td>16.386114</td>\n",
       "      <td>16.962313</td>\n",
       "      <td>16.450684</td>\n",
       "      <td>14.794403</td>\n",
       "      <td>15.722380</td>\n",
       "    </tr>\n",
       "    <tr>\n",
       "      <th>4658148</th>\n",
       "      <td>175.052613</td>\n",
       "      <td>190.173212</td>\n",
       "      <td>183.319609</td>\n",
       "      <td>186.451602</td>\n",
       "      <td>186.399607</td>\n",
       "      <td>183.811991</td>\n",
       "      <td>183.777876</td>\n",
       "      <td>187.985145</td>\n",
       "    </tr>\n",
       "    <tr>\n",
       "      <th>4658149</th>\n",
       "      <td>3.091208</td>\n",
       "      <td>3.463454</td>\n",
       "      <td>5.346866</td>\n",
       "      <td>3.252589</td>\n",
       "      <td>1.787979</td>\n",
       "      <td>3.553262</td>\n",
       "      <td>2.929881</td>\n",
       "      <td>3.832933</td>\n",
       "    </tr>\n",
       "    <tr>\n",
       "      <th>4658150</th>\n",
       "      <td>178.712479</td>\n",
       "      <td>192.914780</td>\n",
       "      <td>182.283992</td>\n",
       "      <td>185.989138</td>\n",
       "      <td>184.165779</td>\n",
       "      <td>181.722357</td>\n",
       "      <td>179.891873</td>\n",
       "      <td>182.456367</td>\n",
       "    </tr>\n",
       "    <tr>\n",
       "      <th>4658151</th>\n",
       "      <td>16.901625</td>\n",
       "      <td>19.047178</td>\n",
       "      <td>19.848913</td>\n",
       "      <td>15.971139</td>\n",
       "      <td>17.519956</td>\n",
       "      <td>15.924099</td>\n",
       "      <td>15.599675</td>\n",
       "      <td>15.109349</td>\n",
       "    </tr>\n",
       "  </tbody>\n",
       "</table>\n",
       "</div>"
      ],
      "text/plain": [
       "         scalar_coupling_constant  scalar_coupling_constant  \\\n",
       "id                                                            \n",
       "4658147                 17.371484                 18.655994   \n",
       "4658148                175.052613                190.173212   \n",
       "4658149                  3.091208                  3.463454   \n",
       "4658150                178.712479                192.914780   \n",
       "4658151                 16.901625                 19.047178   \n",
       "\n",
       "         scalar_coupling_constant  scalar_coupling_constant  \\\n",
       "id                                                            \n",
       "4658147                 20.307257                 16.386114   \n",
       "4658148                183.319609                186.451602   \n",
       "4658149                  5.346866                  3.252589   \n",
       "4658150                182.283992                185.989138   \n",
       "4658151                 19.848913                 15.971139   \n",
       "\n",
       "         scalar_coupling_constant  scalar_coupling_constant  \\\n",
       "id                                                            \n",
       "4658147                 16.962313                 16.450684   \n",
       "4658148                186.399607                183.811991   \n",
       "4658149                  1.787979                  3.553262   \n",
       "4658150                184.165779                181.722357   \n",
       "4658151                 17.519956                 15.924099   \n",
       "\n",
       "         scalar_coupling_constant  scalar_coupling_constant  \n",
       "id                                                           \n",
       "4658147                 14.794403                 15.722380  \n",
       "4658148                183.777876                187.985145  \n",
       "4658149                  2.929881                  3.832933  \n",
       "4658150                179.891873                182.456367  \n",
       "4658151                 15.599675                 15.109349  "
      ]
     },
     "execution_count": 4,
     "metadata": {},
     "output_type": "execute_result"
    }
   ],
   "source": [
    "preds = pd.concat([pd.read_csv(SUB_PATH+f+'.csv', index_col=0) for f in sub_files], axis=1)\n",
    "preds.head()"
   ]
  },
  {
   "cell_type": "code",
   "execution_count": 5,
   "metadata": {},
   "outputs": [
    {
     "data": {
      "text/html": [
       "<div>\n",
       "<style scoped>\n",
       "    .dataframe tbody tr th:only-of-type {\n",
       "        vertical-align: middle;\n",
       "    }\n",
       "\n",
       "    .dataframe tbody tr th {\n",
       "        vertical-align: top;\n",
       "    }\n",
       "\n",
       "    .dataframe thead th {\n",
       "        text-align: right;\n",
       "    }\n",
       "</style>\n",
       "<table border=\"1\" class=\"dataframe\">\n",
       "  <thead>\n",
       "    <tr style=\"text-align: right;\">\n",
       "      <th></th>\n",
       "      <th>scalar_coupling_constant</th>\n",
       "    </tr>\n",
       "    <tr>\n",
       "      <th>id</th>\n",
       "      <th></th>\n",
       "    </tr>\n",
       "  </thead>\n",
       "  <tbody>\n",
       "    <tr>\n",
       "      <th>4658147</th>\n",
       "      <td>17.081329</td>\n",
       "    </tr>\n",
       "    <tr>\n",
       "      <th>4658148</th>\n",
       "      <td>184.621457</td>\n",
       "    </tr>\n",
       "    <tr>\n",
       "      <th>4658149</th>\n",
       "      <td>3.407271</td>\n",
       "    </tr>\n",
       "    <tr>\n",
       "      <th>4658150</th>\n",
       "      <td>183.517096</td>\n",
       "    </tr>\n",
       "    <tr>\n",
       "      <th>4658151</th>\n",
       "      <td>16.990242</td>\n",
       "    </tr>\n",
       "  </tbody>\n",
       "</table>\n",
       "</div>"
      ],
      "text/plain": [
       "         scalar_coupling_constant\n",
       "id                               \n",
       "4658147                 17.081329\n",
       "4658148                184.621457\n",
       "4658149                  3.407271\n",
       "4658150                183.517096\n",
       "4658151                 16.990242"
      ]
     },
     "execution_count": 5,
     "metadata": {},
     "output_type": "execute_result"
    }
   ],
   "source": [
    "sub_ens = pd.DataFrame(preds.mean(axis=1), columns=[TARGET_COL])\n",
    "sub_ens.head()"
   ]
  },
  {
   "cell_type": "code",
   "execution_count": 6,
   "metadata": {},
   "outputs": [],
   "source": [
    "sub_ens.to_csv(f'{SUB_PATH}{sub_name}-submission.csv')"
   ]
  },
  {
   "cell_type": "code",
   "execution_count": null,
   "metadata": {},
   "outputs": [],
   "source": []
  }
 ],
 "metadata": {
  "kernelspec": {
   "display_name": "Python 3",
   "language": "python",
   "name": "python3"
  },
  "language_info": {
   "codemirror_mode": {
    "name": "ipython",
    "version": 3
   },
   "file_extension": ".py",
   "mimetype": "text/x-python",
   "name": "python",
   "nbconvert_exporter": "python",
   "pygments_lexer": "ipython3",
   "version": "3.6.8"
  }
 },
 "nbformat": 4,
 "nbformat_minor": 2
}
