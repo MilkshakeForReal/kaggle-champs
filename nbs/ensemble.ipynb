{
 "cells": [
  {
   "cell_type": "code",
   "execution_count": 19,
   "metadata": {},
   "outputs": [],
   "source": [
    "import numpy as np\n",
    "import pandas as pd"
   ]
  },
  {
   "cell_type": "code",
   "execution_count": 20,
   "metadata": {},
   "outputs": [],
   "source": [
    "TARGET_COL = 'scalar_coupling_constant'\n",
    "N_FOLDS = 8\n",
    "VERSION = 2\n",
    "FOLD_IDS = [1, 2, 3, 4, 5, 6, 7, 8]"
   ]
  },
  {
   "cell_type": "code",
   "execution_count": 21,
   "metadata": {},
   "outputs": [],
   "source": [
    "PATH = '../tmp/'\n",
    "SUB_PATH = '../submissions/'\n",
    "OOF_PATH = '../oofs/'"
   ]
  },
  {
   "cell_type": "code",
   "execution_count": 22,
   "metadata": {},
   "outputs": [
    {
     "name": "stderr",
     "output_type": "stream",
     "text": [
      "/anaconda2/envs/python36/lib/python3.6/site-packages/numpy/lib/arraysetops.py:522: FutureWarning: elementwise comparison failed; returning scalar instead, but in the future will perform elementwise comparison\n",
      "  mask |= (ar1 == a)\n"
     ]
    }
   ],
   "source": [
    "train_df = pd.read_csv(PATH+'train_proc_df.csv', index_col=0)\n",
    "val_idxs = pd.read_csv(PATH+'val_idxs_8_fold_cv.csv', index_col=0)"
   ]
  },
  {
   "cell_type": "code",
   "execution_count": 23,
   "metadata": {
    "scrolled": true
   },
   "outputs": [
    {
     "name": "stderr",
     "output_type": "stream",
     "text": [
      "/anaconda2/envs/python36/lib/python3.6/site-packages/numpy/lib/arraysetops.py:522: FutureWarning: elementwise comparison failed; returning scalar instead, but in the future will perform elementwise comparison\n",
      "  mask |= (ar1 == a)\n"
     ]
    }
   ],
   "source": [
    "sub_files = [f'mpnn-v{VERSION}-idx{i}-submission' for i in FOLD_IDS]\n",
    "oof_files = [f'mpnn-v{VERSION}-idx{i}-oof' for i in FOLD_IDS]\n",
    "preds = pd.concat([pd.read_csv(SUB_PATH+f+'.csv', index_col=0) for f in sub_files], axis=1)\n",
    "oofs = pd.concat([pd.read_csv(OOF_PATH+f+'.csv', index_col=0) for f in oof_files], axis=1)"
   ]
  },
  {
   "cell_type": "code",
   "execution_count": 24,
   "metadata": {},
   "outputs": [],
   "source": [
    "def group_mean_log_mae(y_true, y_pred, types, return_groups=False):\n",
    "    maes = (y_true - y_pred).abs().groupby(types).mean()\n",
    "    if return_groups:\n",
    "        return np.log(maes).mean(), np.log(maes)\n",
    "    else:\n",
    "        return np.log(maes).mean()"
   ]
  },
  {
   "cell_type": "code",
   "execution_count": 25,
   "metadata": {},
   "outputs": [
    {
     "name": "stderr",
     "output_type": "stream",
     "text": [
      "/anaconda2/envs/python36/lib/python3.6/site-packages/ipykernel_launcher.py:5: SettingWithCopyWarning: \n",
      "A value is trying to be set on a copy of a slice from a DataFrame\n",
      "\n",
      "See the caveats in the documentation: http://pandas.pydata.org/pandas-docs/stable/indexing.html#indexing-view-versus-copy\n",
      "  \"\"\"\n"
     ]
    },
    {
     "data": {
      "text/plain": [
       "(-2.640727070215746, 1JHC   -1.767384\n",
       " 2JHH   -3.145183\n",
       " 1JHN   -2.103106\n",
       " 2JHN   -2.872853\n",
       " 2JHC   -2.619462\n",
       " 3JHH   -3.016509\n",
       " 3JHC   -2.535968\n",
       " 3JHN   -3.065352\n",
       " Name: scalar_coupling_constant, dtype: float64)"
      ]
     },
     "execution_count": 25,
     "metadata": {},
     "output_type": "execute_result"
    }
   ],
   "source": [
    "oof = pd.DataFrame(train_df['molecule_id'])\n",
    "oof[TARGET_COL] = np.nan\n",
    "for i, idx in zip(range(N_FOLDS), FOLD_IDS):\n",
    "    idx = oof['molecule_id'].isin(val_idxs.iloc[:,idx-1].dropna().astype(int))\n",
    "    oof[TARGET_COL][idx] = oofs.iloc[:,i].dropna().values\n",
    "\n",
    "gml_mae, gml_maes = group_mean_log_mae(train_df[TARGET_COL], oof[TARGET_COL], train_df['type'], True)\n",
    "gml_maes.index = ['1JHC', '2JHH', '1JHN', '2JHN', '2JHC', '3JHH', '3JHC', '3JHN']\n",
    "gml_mae, gml_maes"
   ]
  },
  {
   "cell_type": "code",
   "execution_count": 26,
   "metadata": {},
   "outputs": [
    {
     "data": {
      "text/html": [
       "<div>\n",
       "<style scoped>\n",
       "    .dataframe tbody tr th:only-of-type {\n",
       "        vertical-align: middle;\n",
       "    }\n",
       "\n",
       "    .dataframe tbody tr th {\n",
       "        vertical-align: top;\n",
       "    }\n",
       "\n",
       "    .dataframe thead th {\n",
       "        text-align: right;\n",
       "    }\n",
       "</style>\n",
       "<table border=\"1\" class=\"dataframe\">\n",
       "  <thead>\n",
       "    <tr style=\"text-align: right;\">\n",
       "      <th></th>\n",
       "      <th>scalar_coupling_constant</th>\n",
       "    </tr>\n",
       "    <tr>\n",
       "      <th>id</th>\n",
       "      <th></th>\n",
       "    </tr>\n",
       "  </thead>\n",
       "  <tbody>\n",
       "    <tr>\n",
       "      <th>4658147</th>\n",
       "      <td>15.146106</td>\n",
       "    </tr>\n",
       "    <tr>\n",
       "      <th>4658148</th>\n",
       "      <td>189.054861</td>\n",
       "    </tr>\n",
       "    <tr>\n",
       "      <th>4658149</th>\n",
       "      <td>1.804049</td>\n",
       "    </tr>\n",
       "    <tr>\n",
       "      <th>4658150</th>\n",
       "      <td>189.054860</td>\n",
       "    </tr>\n",
       "    <tr>\n",
       "      <th>4658151</th>\n",
       "      <td>15.146106</td>\n",
       "    </tr>\n",
       "  </tbody>\n",
       "</table>\n",
       "</div>"
      ],
      "text/plain": [
       "         scalar_coupling_constant\n",
       "id                               \n",
       "4658147                 15.146106\n",
       "4658148                189.054861\n",
       "4658149                  1.804049\n",
       "4658150                189.054860\n",
       "4658151                 15.146106"
      ]
     },
     "execution_count": 26,
     "metadata": {},
     "output_type": "execute_result"
    }
   ],
   "source": [
    "sub_ens = pd.DataFrame(preds.mean(axis=1), columns=[TARGET_COL])\n",
    "sub_ens.head()"
   ]
  },
  {
   "cell_type": "code",
   "execution_count": 27,
   "metadata": {},
   "outputs": [],
   "source": [
    "sub_ens.to_csv(f'{SUB_PATH}mpnn-v{VERSION}-submission.csv')"
   ]
  },
  {
   "cell_type": "code",
   "execution_count": 32,
   "metadata": {},
   "outputs": [
    {
     "name": "stdout",
     "output_type": "stream",
     "text": [
      "(-2.6567292615048768, type\n",
      "0   -1.778491\n",
      "1   -3.154441\n",
      "2   -2.114161\n",
      "3   -2.935002\n",
      "4   -2.635238\n",
      "5   -3.027673\n",
      "6   -2.553026\n",
      "7   -3.055802\n",
      "Name: scalar_coupling_constant, dtype: float64)\n",
      "(-2.6544766968056157, type\n",
      "0   -1.776686\n",
      "1   -3.150140\n",
      "2   -2.115865\n",
      "3   -2.931155\n",
      "4   -2.632283\n",
      "5   -3.023888\n",
      "6   -2.549252\n",
      "7   -3.056545\n",
      "Name: scalar_coupling_constant, dtype: float64)\n"
     ]
    }
   ],
   "source": [
    "oof_swa = pd.read_csv(OOF_PATH+f'mpnn-swa-v{VERSION}-idx{5}-oof'+'.csv', index_col=0)\n",
    "idx = oof['molecule_id'].isin(val_idxs.iloc[:,4].dropna().astype(int))\n",
    "print(group_mean_log_mae(train_df[TARGET_COL][idx], oof_swa.iloc[:,0].values, train_df['type'][idx], True))\n",
    "print(group_mean_log_mae(train_df[TARGET_COL][idx], oofs.iloc[:,4].dropna().values, train_df['type'][idx], True))"
   ]
  },
  {
   "cell_type": "code",
   "execution_count": null,
   "metadata": {},
   "outputs": [],
   "source": []
  }
 ],
 "metadata": {
  "kernelspec": {
   "display_name": "Python 3",
   "language": "python",
   "name": "python3"
  },
  "language_info": {
   "codemirror_mode": {
    "name": "ipython",
    "version": 3
   },
   "file_extension": ".py",
   "mimetype": "text/x-python",
   "name": "python",
   "nbconvert_exporter": "python",
   "pygments_lexer": "ipython3",
   "version": "3.6.8"
  }
 },
 "nbformat": 4,
 "nbformat_minor": 2
}
