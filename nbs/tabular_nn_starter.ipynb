{
 "cells": [
  {
   "cell_type": "code",
   "execution_count": 1,
   "metadata": {},
   "outputs": [],
   "source": [
    "import pandas as pd\n",
    "import numpy as np\n",
    "import matplotlib.pyplot as plt\n",
    "import seaborn as sns\n",
    "\n",
    "from sklearn.model_selection import train_test_split\n",
    "from sklearn.preprocessing import StandardScaler\n",
    "\n",
    "import fastai\n",
    "from fastai.tabular import *\n",
    "from fastai.callbacks import SaveModelCallback"
   ]
  },
  {
   "cell_type": "code",
   "execution_count": 2,
   "metadata": {},
   "outputs": [],
   "source": [
    "DATA_PATH = '../data/'\n",
    "PATH = '../tmp'"
   ]
  },
  {
   "cell_type": "code",
   "execution_count": 3,
   "metadata": {},
   "outputs": [
    {
     "data": {
      "text/plain": [
       "['scalar_coupling_contributions.csv',\n",
       " 'mulliken_charges.csv',\n",
       " 'structures.csv',\n",
       " 'test.csv',\n",
       " 'train.csv',\n",
       " 'magnetic_shielding_tensors.csv',\n",
       " 'dipole_moments.csv',\n",
       " 'sample_submission.csv',\n",
       " 'potential_energy.csv']"
      ]
     },
     "execution_count": 3,
     "metadata": {},
     "output_type": "execute_result"
    }
   ],
   "source": [
    "import os\n",
    "files = os.listdir(DATA_PATH)\n",
    "files = [f for f in files if f.find('.csv') != -1]\n",
    "files"
   ]
  },
  {
   "cell_type": "code",
   "execution_count": 4,
   "metadata": {},
   "outputs": [],
   "source": [
    "train_df = pd.read_csv(DATA_PATH+'train.csv')\n",
    "test_df = pd.read_csv(DATA_PATH+'test.csv')\n",
    "structures_df = pd.read_csv(DATA_PATH+'structures.csv')\n",
    "scc_df = pd.read_csv(DATA_PATH+'scalar_coupling_contributions.csv')\n",
    "mc_df = pd.read_csv(DATA_PATH+'mulliken_charges.csv')\n",
    "mst_df = pd.read_csv(DATA_PATH+'magnetic_shielding_tensors.csv')\n",
    "dm_df = pd.read_csv(DATA_PATH+'dipole_moments.csv')\n",
    "pe_df = pd.read_csv(DATA_PATH+'potential_energy.csv')"
   ]
  },
  {
   "cell_type": "code",
   "execution_count": 5,
   "metadata": {},
   "outputs": [],
   "source": [
    "def map_atom_info(df, atom_idx):\n",
    "    df = pd.merge(df, structures_df, how = 'left',\n",
    "                  left_on  = ['molecule_name', f'atom_index_{atom_idx}'],\n",
    "                  right_on = ['molecule_name',  'atom_index'])\n",
    "    \n",
    "    df = df.drop('atom_index', axis=1)\n",
    "    df = df.rename(columns={'atom': f'atom_{atom_idx}',\n",
    "                            'x': f'x_{atom_idx}',\n",
    "                            'y': f'y_{atom_idx}',\n",
    "                            'z': f'z_{atom_idx}'})\n",
    "    return df"
   ]
  },
  {
   "cell_type": "code",
   "execution_count": 6,
   "metadata": {},
   "outputs": [
    {
     "name": "stdout",
     "output_type": "stream",
     "text": [
      "CPU times: user 28.6 s, sys: 6.29 s, total: 34.9 s\n",
      "Wall time: 10.9 s\n"
     ]
    }
   ],
   "source": [
    "%%time\n",
    "train_df = map_atom_info(train_df, 0)\n",
    "train_df = map_atom_info(train_df, 1)\n",
    "test_df = map_atom_info(test_df, 0)\n",
    "test_df = map_atom_info(test_df, 1)"
   ]
  },
  {
   "cell_type": "code",
   "execution_count": 7,
   "metadata": {},
   "outputs": [],
   "source": [
    "train_p_0 = train_df[['x_0', 'y_0', 'z_0']].values\n",
    "train_p_1 = train_df[['x_1', 'y_1', 'z_1']].values\n",
    "test_p_0 = test_df[['x_0', 'y_0', 'z_0']].values\n",
    "test_p_1 = test_df[['x_1', 'y_1', 'z_1']].values"
   ]
  },
  {
   "cell_type": "code",
   "execution_count": 8,
   "metadata": {},
   "outputs": [
    {
     "name": "stdout",
     "output_type": "stream",
     "text": [
      "CPU times: user 695 ms, sys: 220 ms, total: 915 ms\n",
      "Wall time: 158 ms\n"
     ]
    }
   ],
   "source": [
    "%%time\n",
    "train_df['dist'] = np.linalg.norm(train_p_0 - train_p_1, axis=1)\n",
    "test_df['dist'] = np.linalg.norm(test_p_0 - test_p_1, axis=1)"
   ]
  },
  {
   "cell_type": "code",
   "execution_count": 9,
   "metadata": {},
   "outputs": [
    {
     "name": "stdout",
     "output_type": "stream",
     "text": [
      "CPU times: user 2.48 s, sys: 1.14 s, total: 3.61 s\n",
      "Wall time: 620 ms\n"
     ]
    }
   ],
   "source": [
    "%%time\n",
    "train_df['dist_to_type_mean'] = train_df['dist'] / train_df.groupby('type')['dist'].transform('mean')\n",
    "test_df['dist_to_type_mean'] = test_df['dist'] / test_df.groupby('type')['dist'].transform('mean')"
   ]
  },
  {
   "cell_type": "code",
   "execution_count": 10,
   "metadata": {},
   "outputs": [
    {
     "name": "stdout",
     "output_type": "stream",
     "text": [
      "CPU times: user 2.16 s, sys: 391 ms, total: 2.55 s\n",
      "Wall time: 628 ms\n"
     ]
    }
   ],
   "source": [
    "%%time\n",
    "atoms_per_molecule_df = structures_df.groupby(['molecule_name', 'atom']).count()\n",
    "atoms_per_molecule_map = atoms_per_molecule_df['atom_index'].unstack().fillna(0).astype(int).to_dict()"
   ]
  },
  {
   "cell_type": "code",
   "execution_count": 11,
   "metadata": {},
   "outputs": [
    {
     "name": "stdout",
     "output_type": "stream",
     "text": [
      "CPU times: user 13.2 s, sys: 1.94 s, total: 15.1 s\n",
      "Wall time: 4.51 s\n"
     ]
    }
   ],
   "source": [
    "%%time\n",
    "pd.options.mode.chained_assignment = None\n",
    "atoms = structures_df['atom'].unique()\n",
    "train_df['num_atoms'] = 0\n",
    "test_df['num_atoms'] = 0\n",
    "for atom in atoms:\n",
    "    train_df[f'num_{atom}_atoms'] = train_df['molecule_name'].map(atoms_per_molecule_map[atom])\n",
    "    train_df['num_atoms'] += train_df[f'num_{atom}_atoms']\n",
    "    test_df[f'num_{atom}_atoms'] = test_df['molecule_name'].map(atoms_per_molecule_map[atom])\n",
    "    test_df['num_atoms'] += test_df[f'num_{atom}_atoms']"
   ]
  },
  {
   "cell_type": "markdown",
   "metadata": {},
   "source": [
    "##  Fit Tabular Model"
   ]
  },
  {
   "cell_type": "code",
   "execution_count": 12,
   "metadata": {},
   "outputs": [],
   "source": [
    "train_df_ = train_df.copy()\n",
    "train_df = train_df_[:200000]"
   ]
  },
  {
   "cell_type": "code",
   "execution_count": 13,
   "metadata": {},
   "outputs": [],
   "source": [
    "def emb_factors(n_cats):\n",
    "    if n_cats > 1000: return 50\n",
    "    else: return min((n_cats + 1) // 2, 50)"
   ]
  },
  {
   "cell_type": "code",
   "execution_count": 14,
   "metadata": {},
   "outputs": [
    {
     "data": {
      "text/plain": [
       "Index(['id', 'molecule_name', 'atom_index_0', 'atom_index_1', 'type',\n",
       "       'scalar_coupling_constant', 'atom_0', 'x_0', 'y_0', 'z_0', 'atom_1',\n",
       "       'x_1', 'y_1', 'z_1', 'dist', 'dist_to_type_mean', 'num_atoms',\n",
       "       'num_C_atoms', 'num_H_atoms', 'num_N_atoms', 'num_O_atoms',\n",
       "       'num_F_atoms'],\n",
       "      dtype='object')"
      ]
     },
     "execution_count": 14,
     "metadata": {},
     "output_type": "execute_result"
    }
   ],
   "source": [
    "train_df.columns"
   ]
  },
  {
   "cell_type": "code",
   "execution_count": 15,
   "metadata": {},
   "outputs": [],
   "source": [
    "cat_vars = ['atom_0', 'atom_1', 'type', 'num_H_atoms', 'num_C_atoms',\n",
    "            'num_H_atoms', 'num_N_atoms', 'num_O_atoms', 'num_F_atoms',\n",
    "            'num_atoms']\n",
    "cont_vars = ['x_0', 'y_0', 'z_0', 'x_1', 'y_1', 'z_1', 'dist', 'dist_to_type_mean']\n",
    "target_var = 'scalar_coupling_constant'"
   ]
  },
  {
   "cell_type": "code",
   "execution_count": 16,
   "metadata": {},
   "outputs": [],
   "source": [
    "unique_cats = train_df[cat_vars].nunique()"
   ]
  },
  {
   "cell_type": "code",
   "execution_count": 17,
   "metadata": {},
   "outputs": [],
   "source": [
    "for f in cat_vars:\n",
    "    train_df[f] = train_df[f].astype('category')\n",
    "    test_df[f] = pd.Categorical(test_df[f], categories=train_df[f].cat.categories)"
   ]
  },
  {
   "cell_type": "code",
   "execution_count": 18,
   "metadata": {},
   "outputs": [],
   "source": [
    "ss_target, ss = StandardScaler(), StandardScaler()"
   ]
  },
  {
   "cell_type": "code",
   "execution_count": 19,
   "metadata": {},
   "outputs": [],
   "source": [
    "train_df[target_var] = ss_target.fit_transform(train_df[target_var].values.reshape(-1,1))\n",
    "train_df[cont_vars] = ss.fit_transform(train_df[cont_vars].values)\n",
    "test_df[cont_vars] = ss.transform(test_df[cont_vars].values)"
   ]
  },
  {
   "cell_type": "code",
   "execution_count": 20,
   "metadata": {},
   "outputs": [],
   "source": [
    "y_mean, y_scale = ss_target.mean_[0], ss_target.scale_[0]"
   ]
  },
  {
   "cell_type": "code",
   "execution_count": 21,
   "metadata": {},
   "outputs": [],
   "source": [
    "def group_mean_log_mae(y_true, y_pred, types):\n",
    "    y_true, y_pred, types = y_true.cpu().numpy().ravel(), y_pred.cpu().numpy().ravel(), types.cpu().numpy().ravel()\n",
    "    y_true = y_mean + y_true * y_scale\n",
    "    y_pred = y_mean + y_pred * y_scale\n",
    "    maes = pd.Series(y_true-y_pred).abs().groupby(types).mean()\n",
    "    return np.log(maes).mean()\n",
    "\n",
    "class GroupMeanLogMAE(Callback):\n",
    "    _order = -20 # Needs to run before the recorder\n",
    "    types_cidx = 2\n",
    "\n",
    "    def __init__(self, learn, **kwargs): self.learn = learn\n",
    "    def on_train_begin(self, **kwargs): self.learn.recorder.add_metric_names(['GroupMeanLogMAE'])\n",
    "    def on_epoch_begin(self, **kwargs): self.input, self.output, self.target = [], [], []\n",
    "    \n",
    "    def on_batch_end(self, last_target, last_output, last_input, train, **kwargs):\n",
    "        if not train:\n",
    "            self.input.append(last_input[0])\n",
    "            self.output.append(last_output)\n",
    "            self.target.append(last_target)\n",
    "                \n",
    "    def on_epoch_end(self, last_metrics, **kwargs):\n",
    "        if (len(self.input) > 0) and (len(self.output) > 0):\n",
    "            inputs = torch.cat(self.input)\n",
    "            preds = torch.cat(self.output)\n",
    "            target = torch.cat(self.target)\n",
    "            metric = group_mean_log_mae(preds, target, inputs[:, self.types_cidx])\n",
    "            return add_metrics(last_metrics, [metric])\n",
    "\n",
    "def set_seed(seed=100):\n",
    "    # python RNG\n",
    "    random.seed(seed)\n",
    "\n",
    "    # pytorch RNGs\n",
    "    import torch\n",
    "    torch.manual_seed(seed)\n",
    "    torch.backends.cudnn.deterministic = True\n",
    "    if torch.cuda.is_available(): torch.cuda.manual_seed_all(seed)\n",
    "\n",
    "    # numpy RNG\n",
    "    import numpy as np\n",
    "    np.random.seed(seed)"
   ]
  },
  {
   "cell_type": "code",
   "execution_count": 92,
   "metadata": {},
   "outputs": [],
   "source": [
    "bs = 1024\n",
    "layers = [1000, 500, 250, 100]\n",
    "ps = [0.0, 0.01, 0.02, 0.02]\n",
    "emb_drop = 0.03\n",
    "wd = 0.002\n",
    "use_bn = True\n",
    "emb_szs = [(n_cats + 1, emb_factors(n_cats)) for n_cats in unique_cats]"
   ]
  },
  {
   "cell_type": "code",
   "execution_count": 93,
   "metadata": {},
   "outputs": [],
   "source": [
    "train_idx, val_idx = train_test_split(train_df.index, test_size=0.25, shuffle=True, random_state=100)"
   ]
  },
  {
   "cell_type": "code",
   "execution_count": 94,
   "metadata": {},
   "outputs": [],
   "source": [
    "db = (TabularList.from_df(train_df, path=PATH, cat_names=cat_vars, cont_names=cont_vars, procs=[])\n",
    "        .split_by_idx(val_idx)\n",
    "        .label_from_df(cols=target_var)\n",
    "        .add_test(TabularList.from_df(test_df, path=PATH, cat_names=cat_vars, cont_names=cont_vars, procs=[]))\n",
    "        .databunch(bs=bs))"
   ]
  },
  {
   "cell_type": "code",
   "execution_count": 95,
   "metadata": {},
   "outputs": [],
   "source": [
    "set_seed(100)\n",
    "model = TabularModel(emb_szs, len(db.cont_names), out_sz=1, layers=layers, ps=ps, emb_drop=emb_drop, \n",
    "                     y_range=None, use_bn=use_bn)"
   ]
  },
  {
   "cell_type": "code",
   "execution_count": 96,
   "metadata": {},
   "outputs": [],
   "source": [
    "learn = Learner(db, model, metrics=[mean_absolute_error, root_mean_squared_error], \n",
    "                callback_fns=GroupMeanLogMAE, wd=wd)"
   ]
  },
  {
   "cell_type": "code",
   "execution_count": 97,
   "metadata": {},
   "outputs": [
    {
     "data": {
      "text/html": [],
      "text/plain": [
       "<IPython.core.display.HTML object>"
      ]
     },
     "metadata": {},
     "output_type": "display_data"
    },
    {
     "name": "stdout",
     "output_type": "stream",
     "text": [
      "LR Finder is complete, type {learner_name}.recorder.plot() to see the graph.\n"
     ]
    },
    {
     "data": {
      "image/png": "[encoded data removed]",
      "text/plain": [
       "<matplotlib.figure.Figure at 0x10c16ddd8>"
      ]
     },
     "metadata": {
      "needs_background": "light"
     },
     "output_type": "display_data"
    }
   ],
   "source": [
    "learn.lr_find(start_lr=1e-7, end_lr=10, num_it=100, stop_div=True)\n",
    "learn.recorder.plot()"
   ]
  },
  {
   "cell_type": "code",
   "execution_count": 98,
   "metadata": {
    "scrolled": true
   },
   "outputs": [
    {
     "data": {
      "text/html": [
       "<table border=\"1\" class=\"dataframe\">\n",
       "  <thead>\n",
       "    <tr style=\"text-align: left;\">\n",
       "      <th>epoch</th>\n",
       "      <th>train_loss</th>\n",
       "      <th>valid_loss</th>\n",
       "      <th>mean_absolute_error</th>\n",
       "      <th>root_mean_squared_error</th>\n",
       "      <th>GroupMeanLogMAE</th>\n",
       "      <th>time</th>\n",
       "    </tr>\n",
       "  </thead>\n",
       "  <tbody>\n",
       "    <tr>\n",
       "      <td>0</td>\n",
       "      <td>0.099103</td>\n",
       "      <td>0.076670</td>\n",
       "      <td>0.144219</td>\n",
       "      <td>0.276019</td>\n",
       "      <td>1.708212</td>\n",
       "      <td>00:18</td>\n",
       "    </tr>\n",
       "    <tr>\n",
       "      <td>1</td>\n",
       "      <td>0.043560</td>\n",
       "      <td>0.029539</td>\n",
       "      <td>0.100388</td>\n",
       "      <td>0.171460</td>\n",
       "      <td>1.184620</td>\n",
       "      <td>00:19</td>\n",
       "    </tr>\n",
       "    <tr>\n",
       "      <td>2</td>\n",
       "      <td>0.026811</td>\n",
       "      <td>0.020557</td>\n",
       "      <td>0.094752</td>\n",
       "      <td>0.143227</td>\n",
       "      <td>1.185980</td>\n",
       "      <td>00:19</td>\n",
       "    </tr>\n",
       "    <tr>\n",
       "      <td>3</td>\n",
       "      <td>0.021416</td>\n",
       "      <td>0.015904</td>\n",
       "      <td>0.081877</td>\n",
       "      <td>0.125918</td>\n",
       "      <td>1.033582</td>\n",
       "      <td>00:20</td>\n",
       "    </tr>\n",
       "    <tr>\n",
       "      <td>4</td>\n",
       "      <td>0.016778</td>\n",
       "      <td>0.012348</td>\n",
       "      <td>0.069910</td>\n",
       "      <td>0.110926</td>\n",
       "      <td>0.829796</td>\n",
       "      <td>00:22</td>\n",
       "    </tr>\n",
       "    <tr>\n",
       "      <td>5</td>\n",
       "      <td>0.015030</td>\n",
       "      <td>0.012091</td>\n",
       "      <td>0.073047</td>\n",
       "      <td>0.109819</td>\n",
       "      <td>0.912763</td>\n",
       "      <td>00:22</td>\n",
       "    </tr>\n",
       "    <tr>\n",
       "      <td>6</td>\n",
       "      <td>0.014241</td>\n",
       "      <td>0.010411</td>\n",
       "      <td>0.065042</td>\n",
       "      <td>0.101852</td>\n",
       "      <td>0.749114</td>\n",
       "      <td>00:21</td>\n",
       "    </tr>\n",
       "    <tr>\n",
       "      <td>7</td>\n",
       "      <td>0.013247</td>\n",
       "      <td>0.009954</td>\n",
       "      <td>0.062750</td>\n",
       "      <td>0.099584</td>\n",
       "      <td>0.706221</td>\n",
       "      <td>00:21</td>\n",
       "    </tr>\n",
       "    <tr>\n",
       "      <td>8</td>\n",
       "      <td>0.012245</td>\n",
       "      <td>0.009438</td>\n",
       "      <td>0.060186</td>\n",
       "      <td>0.096946</td>\n",
       "      <td>0.649348</td>\n",
       "      <td>00:20</td>\n",
       "    </tr>\n",
       "    <tr>\n",
       "      <td>9</td>\n",
       "      <td>0.011821</td>\n",
       "      <td>0.009242</td>\n",
       "      <td>0.059768</td>\n",
       "      <td>0.095933</td>\n",
       "      <td>0.638755</td>\n",
       "      <td>00:20</td>\n",
       "    </tr>\n",
       "  </tbody>\n",
       "</table>"
      ],
      "text/plain": [
       "<IPython.core.display.HTML object>"
      ]
     },
     "metadata": {},
     "output_type": "display_data"
    },
    {
     "name": "stdout",
     "output_type": "stream",
     "text": [
      "Better model found at epoch 0 with GroupMeanLogMAE value: 1.7082124948501587.\n",
      "Better model found at epoch 1 with GroupMeanLogMAE value: 1.1846199035644531.\n",
      "Better model found at epoch 3 with GroupMeanLogMAE value: 1.0335824489593506.\n",
      "Better model found at epoch 4 with GroupMeanLogMAE value: 0.8297963738441467.\n",
      "Better model found at epoch 6 with GroupMeanLogMAE value: 0.7491143345832825.\n",
      "Better model found at epoch 7 with GroupMeanLogMAE value: 0.7062205672264099.\n",
      "Better model found at epoch 8 with GroupMeanLogMAE value: 0.6493479013442993.\n",
      "Better model found at epoch 9 with GroupMeanLogMAE value: 0.6387554407119751.\n"
     ]
    }
   ],
   "source": [
    "learn.fit_one_cycle(10, max_lr=1e-3, callbacks=[SaveModelCallback(learn, every='improvement', mode='min',\n",
    "                                                                  monitor='GroupMeanLogMAE',  name=f'starter')])"
   ]
  },
  {
   "cell_type": "code",
   "execution_count": 99,
   "metadata": {
    "scrolled": false
   },
   "outputs": [
    {
     "data": {
      "text/html": [
       "<table border=\"1\" class=\"dataframe\">\n",
       "  <thead>\n",
       "    <tr style=\"text-align: left;\">\n",
       "      <th>epoch</th>\n",
       "      <th>train_loss</th>\n",
       "      <th>valid_loss</th>\n",
       "      <th>mean_absolute_error</th>\n",
       "      <th>root_mean_squared_error</th>\n",
       "      <th>GroupMeanLogMAE</th>\n",
       "      <th>time</th>\n",
       "    </tr>\n",
       "  </thead>\n",
       "  <tbody>\n",
       "    <tr>\n",
       "      <td>0</td>\n",
       "      <td>0.011980</td>\n",
       "      <td>0.009442</td>\n",
       "      <td>0.060610</td>\n",
       "      <td>0.096976</td>\n",
       "      <td>0.659622</td>\n",
       "      <td>00:22</td>\n",
       "    </tr>\n",
       "    <tr>\n",
       "      <td>1</td>\n",
       "      <td>0.011940</td>\n",
       "      <td>0.009731</td>\n",
       "      <td>0.061538</td>\n",
       "      <td>0.098441</td>\n",
       "      <td>0.685434</td>\n",
       "      <td>00:21</td>\n",
       "    </tr>\n",
       "    <tr>\n",
       "      <td>2</td>\n",
       "      <td>0.012521</td>\n",
       "      <td>0.010669</td>\n",
       "      <td>0.062249</td>\n",
       "      <td>0.103058</td>\n",
       "      <td>0.723336</td>\n",
       "      <td>00:20</td>\n",
       "    </tr>\n",
       "    <tr>\n",
       "      <td>3</td>\n",
       "      <td>0.011922</td>\n",
       "      <td>0.009881</td>\n",
       "      <td>0.061954</td>\n",
       "      <td>0.099182</td>\n",
       "      <td>0.699885</td>\n",
       "      <td>00:19</td>\n",
       "    </tr>\n",
       "    <tr>\n",
       "      <td>4</td>\n",
       "      <td>0.011938</td>\n",
       "      <td>0.009422</td>\n",
       "      <td>0.059652</td>\n",
       "      <td>0.096888</td>\n",
       "      <td>0.642664</td>\n",
       "      <td>00:20</td>\n",
       "    </tr>\n",
       "    <tr>\n",
       "      <td>5</td>\n",
       "      <td>0.011474</td>\n",
       "      <td>0.009176</td>\n",
       "      <td>0.058642</td>\n",
       "      <td>0.095578</td>\n",
       "      <td>0.625016</td>\n",
       "      <td>00:20</td>\n",
       "    </tr>\n",
       "    <tr>\n",
       "      <td>6</td>\n",
       "      <td>0.011153</td>\n",
       "      <td>0.008718</td>\n",
       "      <td>0.058231</td>\n",
       "      <td>0.093156</td>\n",
       "      <td>0.620082</td>\n",
       "      <td>00:20</td>\n",
       "    </tr>\n",
       "    <tr>\n",
       "      <td>7</td>\n",
       "      <td>0.011139</td>\n",
       "      <td>0.008850</td>\n",
       "      <td>0.057535</td>\n",
       "      <td>0.093857</td>\n",
       "      <td>0.605339</td>\n",
       "      <td>00:20</td>\n",
       "    </tr>\n",
       "    <tr>\n",
       "      <td>8</td>\n",
       "      <td>0.010737</td>\n",
       "      <td>0.008643</td>\n",
       "      <td>0.056900</td>\n",
       "      <td>0.092752</td>\n",
       "      <td>0.590849</td>\n",
       "      <td>00:20</td>\n",
       "    </tr>\n",
       "    <tr>\n",
       "      <td>9</td>\n",
       "      <td>0.010524</td>\n",
       "      <td>0.008570</td>\n",
       "      <td>0.057328</td>\n",
       "      <td>0.092367</td>\n",
       "      <td>0.595767</td>\n",
       "      <td>00:20</td>\n",
       "    </tr>\n",
       "  </tbody>\n",
       "</table>"
      ],
      "text/plain": [
       "<IPython.core.display.HTML object>"
      ]
     },
     "metadata": {},
     "output_type": "display_data"
    },
    {
     "name": "stdout",
     "output_type": "stream",
     "text": [
      "Better model found at epoch 0 with GroupMeanLogMAE value: 0.6596221923828125.\n",
      "Better model found at epoch 4 with GroupMeanLogMAE value: 0.6426637172698975.\n",
      "Better model found at epoch 5 with GroupMeanLogMAE value: 0.6250155568122864.\n",
      "Better model found at epoch 6 with GroupMeanLogMAE value: 0.6200818419456482.\n",
      "Better model found at epoch 7 with GroupMeanLogMAE value: 0.6053394079208374.\n",
      "Better model found at epoch 8 with GroupMeanLogMAE value: 0.5908493995666504.\n"
     ]
    }
   ],
   "source": [
    "learn.fit_one_cycle(10, max_lr=2e-4, callbacks=[SaveModelCallback(learn, every='improvement', mode='min',\n",
    "                                                                  monitor='GroupMeanLogMAE',  name=f'starter')])"
   ]
  },
  {
   "cell_type": "code",
   "execution_count": 100,
   "metadata": {
    "scrolled": false
   },
   "outputs": [
    {
     "data": {
      "text/html": [
       "<table border=\"1\" class=\"dataframe\">\n",
       "  <thead>\n",
       "    <tr style=\"text-align: left;\">\n",
       "      <th>epoch</th>\n",
       "      <th>train_loss</th>\n",
       "      <th>valid_loss</th>\n",
       "      <th>mean_absolute_error</th>\n",
       "      <th>root_mean_squared_error</th>\n",
       "      <th>GroupMeanLogMAE</th>\n",
       "      <th>time</th>\n",
       "    </tr>\n",
       "  </thead>\n",
       "  <tbody>\n",
       "    <tr>\n",
       "      <td>0</td>\n",
       "      <td>0.010557</td>\n",
       "      <td>0.008611</td>\n",
       "      <td>0.058418</td>\n",
       "      <td>0.092600</td>\n",
       "      <td>0.620710</td>\n",
       "      <td>00:20</td>\n",
       "    </tr>\n",
       "    <tr>\n",
       "      <td>1</td>\n",
       "      <td>0.010457</td>\n",
       "      <td>0.008558</td>\n",
       "      <td>0.057077</td>\n",
       "      <td>0.092292</td>\n",
       "      <td>0.592842</td>\n",
       "      <td>00:20</td>\n",
       "    </tr>\n",
       "    <tr>\n",
       "      <td>2</td>\n",
       "      <td>0.010643</td>\n",
       "      <td>0.008884</td>\n",
       "      <td>0.057387</td>\n",
       "      <td>0.094029</td>\n",
       "      <td>0.604895</td>\n",
       "      <td>00:20</td>\n",
       "    </tr>\n",
       "    <tr>\n",
       "      <td>3</td>\n",
       "      <td>0.010783</td>\n",
       "      <td>0.008537</td>\n",
       "      <td>0.057493</td>\n",
       "      <td>0.092191</td>\n",
       "      <td>0.599090</td>\n",
       "      <td>00:21</td>\n",
       "    </tr>\n",
       "    <tr>\n",
       "      <td>4</td>\n",
       "      <td>0.010666</td>\n",
       "      <td>0.008888</td>\n",
       "      <td>0.058797</td>\n",
       "      <td>0.094050</td>\n",
       "      <td>0.649862</td>\n",
       "      <td>00:19</td>\n",
       "    </tr>\n",
       "    <tr>\n",
       "      <td>5</td>\n",
       "      <td>0.010804</td>\n",
       "      <td>0.008560</td>\n",
       "      <td>0.056794</td>\n",
       "      <td>0.092306</td>\n",
       "      <td>0.594242</td>\n",
       "      <td>00:19</td>\n",
       "    </tr>\n",
       "    <tr>\n",
       "      <td>6</td>\n",
       "      <td>0.010130</td>\n",
       "      <td>0.008439</td>\n",
       "      <td>0.057131</td>\n",
       "      <td>0.091658</td>\n",
       "      <td>0.597672</td>\n",
       "      <td>00:19</td>\n",
       "    </tr>\n",
       "    <tr>\n",
       "      <td>7</td>\n",
       "      <td>0.010332</td>\n",
       "      <td>0.008544</td>\n",
       "      <td>0.056290</td>\n",
       "      <td>0.092209</td>\n",
       "      <td>0.579569</td>\n",
       "      <td>00:19</td>\n",
       "    </tr>\n",
       "    <tr>\n",
       "      <td>8</td>\n",
       "      <td>0.010203</td>\n",
       "      <td>0.008502</td>\n",
       "      <td>0.056271</td>\n",
       "      <td>0.091985</td>\n",
       "      <td>0.580714</td>\n",
       "      <td>00:19</td>\n",
       "    </tr>\n",
       "    <tr>\n",
       "      <td>9</td>\n",
       "      <td>0.010372</td>\n",
       "      <td>0.008523</td>\n",
       "      <td>0.056492</td>\n",
       "      <td>0.092101</td>\n",
       "      <td>0.580836</td>\n",
       "      <td>00:19</td>\n",
       "    </tr>\n",
       "  </tbody>\n",
       "</table>"
      ],
      "text/plain": [
       "<IPython.core.display.HTML object>"
      ]
     },
     "metadata": {},
     "output_type": "display_data"
    },
    {
     "name": "stdout",
     "output_type": "stream",
     "text": [
      "Better model found at epoch 0 with GroupMeanLogMAE value: 0.6207100749015808.\n",
      "Better model found at epoch 1 with GroupMeanLogMAE value: 0.592842161655426.\n",
      "Better model found at epoch 7 with GroupMeanLogMAE value: 0.5795690417289734.\n"
     ]
    }
   ],
   "source": [
    "learn.fit_one_cycle(10, max_lr=4e-5, callbacks=[SaveModelCallback(learn, every='improvement', mode='min',\n",
    "                                                                  monitor='GroupMeanLogMAE',  name=f'starter')])"
   ]
  },
  {
   "cell_type": "code",
   "execution_count": 101,
   "metadata": {
    "scrolled": true
   },
   "outputs": [
    {
     "data": {
      "text/html": [
       "<table border=\"1\" class=\"dataframe\">\n",
       "  <thead>\n",
       "    <tr style=\"text-align: left;\">\n",
       "      <th>epoch</th>\n",
       "      <th>train_loss</th>\n",
       "      <th>valid_loss</th>\n",
       "      <th>mean_absolute_error</th>\n",
       "      <th>root_mean_squared_error</th>\n",
       "      <th>GroupMeanLogMAE</th>\n",
       "      <th>time</th>\n",
       "    </tr>\n",
       "  </thead>\n",
       "  <tbody>\n",
       "    <tr>\n",
       "      <td>0</td>\n",
       "      <td>0.009919</td>\n",
       "      <td>0.008432</td>\n",
       "      <td>0.057701</td>\n",
       "      <td>0.091621</td>\n",
       "      <td>0.608489</td>\n",
       "      <td>00:19</td>\n",
       "    </tr>\n",
       "    <tr>\n",
       "      <td>1</td>\n",
       "      <td>0.010226</td>\n",
       "      <td>0.008414</td>\n",
       "      <td>0.056481</td>\n",
       "      <td>0.091513</td>\n",
       "      <td>0.580918</td>\n",
       "      <td>00:19</td>\n",
       "    </tr>\n",
       "    <tr>\n",
       "      <td>2</td>\n",
       "      <td>0.010339</td>\n",
       "      <td>0.008755</td>\n",
       "      <td>0.056980</td>\n",
       "      <td>0.093338</td>\n",
       "      <td>0.602349</td>\n",
       "      <td>00:19</td>\n",
       "    </tr>\n",
       "    <tr>\n",
       "      <td>3</td>\n",
       "      <td>0.010350</td>\n",
       "      <td>0.008370</td>\n",
       "      <td>0.056277</td>\n",
       "      <td>0.091267</td>\n",
       "      <td>0.578771</td>\n",
       "      <td>00:19</td>\n",
       "    </tr>\n",
       "    <tr>\n",
       "      <td>4</td>\n",
       "      <td>0.010029</td>\n",
       "      <td>0.008417</td>\n",
       "      <td>0.056171</td>\n",
       "      <td>0.091524</td>\n",
       "      <td>0.577178</td>\n",
       "      <td>00:19</td>\n",
       "    </tr>\n",
       "    <tr>\n",
       "      <td>5</td>\n",
       "      <td>0.010236</td>\n",
       "      <td>0.008393</td>\n",
       "      <td>0.056115</td>\n",
       "      <td>0.091394</td>\n",
       "      <td>0.577814</td>\n",
       "      <td>00:19</td>\n",
       "    </tr>\n",
       "    <tr>\n",
       "      <td>6</td>\n",
       "      <td>0.010077</td>\n",
       "      <td>0.008364</td>\n",
       "      <td>0.056728</td>\n",
       "      <td>0.091240</td>\n",
       "      <td>0.591419</td>\n",
       "      <td>00:19</td>\n",
       "    </tr>\n",
       "    <tr>\n",
       "      <td>7</td>\n",
       "      <td>0.010215</td>\n",
       "      <td>0.008409</td>\n",
       "      <td>0.057473</td>\n",
       "      <td>0.091495</td>\n",
       "      <td>0.606966</td>\n",
       "      <td>00:19</td>\n",
       "    </tr>\n",
       "    <tr>\n",
       "      <td>8</td>\n",
       "      <td>0.010029</td>\n",
       "      <td>0.008393</td>\n",
       "      <td>0.056240</td>\n",
       "      <td>0.091391</td>\n",
       "      <td>0.577806</td>\n",
       "      <td>00:19</td>\n",
       "    </tr>\n",
       "    <tr>\n",
       "      <td>9</td>\n",
       "      <td>0.009850</td>\n",
       "      <td>0.008515</td>\n",
       "      <td>0.056243</td>\n",
       "      <td>0.092050</td>\n",
       "      <td>0.581022</td>\n",
       "      <td>00:20</td>\n",
       "    </tr>\n",
       "  </tbody>\n",
       "</table>"
      ],
      "text/plain": [
       "<IPython.core.display.HTML object>"
      ]
     },
     "metadata": {},
     "output_type": "display_data"
    },
    {
     "name": "stdout",
     "output_type": "stream",
     "text": [
      "Better model found at epoch 0 with GroupMeanLogMAE value: 0.6084885001182556.\n",
      "Better model found at epoch 1 with GroupMeanLogMAE value: 0.5809175968170166.\n",
      "Better model found at epoch 3 with GroupMeanLogMAE value: 0.5787707567214966.\n",
      "Better model found at epoch 4 with GroupMeanLogMAE value: 0.5771781802177429.\n"
     ]
    }
   ],
   "source": [
    "learn.fit_one_cycle(10, max_lr=1e-5, callbacks=[SaveModelCallback(learn, every='improvement', mode='min',\n",
    "                                                                  monitor='GroupMeanLogMAE',  name=f'starter')])"
   ]
  },
  {
   "cell_type": "code",
   "execution_count": 30,
   "metadata": {},
   "outputs": [],
   "source": [
    "pred, _ = learn.get_preds()\n",
    "pred_test, _ = learn.get_preds(DatasetType.Test)"
   ]
  }
 ],
 "metadata": {
  "kernelspec": {
   "display_name": "Python 3",
   "language": "python",
   "name": "python3"
  },
  "language_info": {
   "codemirror_mode": {
    "name": "ipython",
    "version": 3
   },
   "file_extension": ".py",
   "mimetype": "text/x-python",
   "name": "python",
   "nbconvert_exporter": "python",
   "pygments_lexer": "ipython3",
   "version": "3.6.8"
  }
 },
 "nbformat": 4,
 "nbformat_minor": 2
}
