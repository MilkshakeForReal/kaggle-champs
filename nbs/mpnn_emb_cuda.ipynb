{
 "cells": [
  {
   "cell_type": "code",
   "execution_count": 1,
   "metadata": {},
   "outputs": [],
   "source": [
    "import os\n",
    "import pandas as pd\n",
    "import numpy as np\n",
    "import matplotlib.pyplot as plt\n",
    "import seaborn as sns\n",
    "import deepchem as dc\n",
    "from tqdm import tqdm_notebook\n",
    "from scipy.spatial.distance import norm\n",
    "\n",
    "from fastai.tabular import *\n",
    "from fastai.callbacks import SaveModelCallback\n",
    "from fastai.basic_data import DataBunch\n",
    "\n",
    "import torch\n",
    "import torch.nn as nn\n",
    "import torch.nn.functional as F\n",
    "import torch.optim as optim\n",
    "from torch.utils.data import Dataset, DataLoader\n",
    "\n",
    "from sklearn.model_selection import train_test_split\n",
    "from sklearn.preprocessing import StandardScaler"
   ]
  },
  {
   "cell_type": "code",
   "execution_count": 2,
   "metadata": {},
   "outputs": [],
   "source": [
    "DATA_PATH = '../data/'\n",
    "# DATA_PATH = '../storage/CHAMPS/'\n",
    "PATH = '../tmp'"
   ]
  },
  {
   "cell_type": "code",
   "execution_count": 3,
   "metadata": {},
   "outputs": [
    {
     "data": {
      "text/plain": [
       "['scalar_coupling_contributions.csv',\n",
       " 'mulliken_charges.csv',\n",
       " 'structures.csv',\n",
       " 'test.csv',\n",
       " 'train.csv',\n",
       " 'magnetic_shielding_tensors.csv',\n",
       " 'dipole_moments.csv',\n",
       " 'sample_submission.csv',\n",
       " 'potential_energy.csv']"
      ]
     },
     "execution_count": 3,
     "metadata": {},
     "output_type": "execute_result"
    }
   ],
   "source": [
    "files = os.listdir(DATA_PATH)\n",
    "files = [f for f in files if f.find('.csv') != -1]\n",
    "files"
   ]
  },
  {
   "cell_type": "code",
   "execution_count": 4,
   "metadata": {},
   "outputs": [],
   "source": [
    "train_df = pd.read_csv(DATA_PATH+'train.csv')\n",
    "test_df = pd.read_csv(DATA_PATH+'test.csv')\n",
    "structures_df = pd.read_csv(DATA_PATH+'structures.csv')"
   ]
  },
  {
   "cell_type": "code",
   "execution_count": 5,
   "metadata": {},
   "outputs": [
    {
     "name": "stdout",
     "output_type": "stream",
     "text": [
      "CPU times: user 1.39 s, sys: 579 ms, total: 1.96 s\n",
      "Wall time: 1.2 s\n"
     ]
    }
   ],
   "source": [
    "%%time\n",
    "atoms_per_molecule_df = structures_df.groupby(['molecule_name', 'atom']).count()\n",
    "atoms_per_molecule_map = atoms_per_molecule_df['atom_index'].unstack().fillna(0).astype(int).to_dict()"
   ]
  },
  {
   "cell_type": "code",
   "execution_count": 6,
   "metadata": {},
   "outputs": [
    {
     "name": "stdout",
     "output_type": "stream",
     "text": [
      "CPU times: user 11.6 s, sys: 3.19 s, total: 14.8 s\n",
      "Wall time: 9.48 s\n"
     ]
    }
   ],
   "source": [
    "%%time\n",
    "pd.options.mode.chained_assignment = None\n",
    "atoms = structures_df['atom'].unique()\n",
    "train_df['num_atoms'] = 0\n",
    "test_df['num_atoms'] = 0\n",
    "for atom in atoms:\n",
    "    train_df[f'num_{atom}_atoms'] = train_df['molecule_name'].map(atoms_per_molecule_map[atom])\n",
    "    train_df['num_atoms'] += train_df[f'num_{atom}_atoms']\n",
    "    test_df[f'num_{atom}_atoms'] = test_df['molecule_name'].map(atoms_per_molecule_map[atom])\n",
    "    test_df['num_atoms'] += test_df[f'num_{atom}_atoms']"
   ]
  },
  {
   "cell_type": "code",
   "execution_count": 7,
   "metadata": {},
   "outputs": [
    {
     "data": {
      "text/plain": [
       "Index(['id', 'molecule_name', 'atom_index_0', 'atom_index_1', 'type',\n",
       "       'scalar_coupling_constant', 'num_atoms', 'num_C_atoms', 'num_H_atoms',\n",
       "       'num_N_atoms', 'num_O_atoms', 'num_F_atoms'],\n",
       "      dtype='object')"
      ]
     },
     "execution_count": 7,
     "metadata": {},
     "output_type": "execute_result"
    }
   ],
   "source": [
    "train_df.columns"
   ]
  },
  {
   "cell_type": "markdown",
   "metadata": {},
   "source": [
    "## Get Molecules"
   ]
  },
  {
   "cell_type": "code",
   "execution_count": 8,
   "metadata": {
    "code_folding": [
     0
    ]
   },
   "outputs": [],
   "source": [
    "##\n",
    "# Written by Jan H. Jensen based on this paper Yeonjoon Kim and Woo Youn Kim \n",
    "# \"Universal Structure Conversion Method for Organic Molecules: From Atomic Connectivity\n",
    "# to Three-Dimensional Geometry\" Bull. Korean Chem. Soc. 2015, Vol. 36, 1769-1777 DOI: 10.1002/bkcs.10334\n",
    "#\n",
    "from rdkit import Chem\n",
    "from rdkit.Chem import AllChem\n",
    "import itertools\n",
    "from rdkit.Chem import rdmolops\n",
    "from collections import defaultdict\n",
    "import copy\n",
    "import networkx as nx #uncomment if you don't want to use \"quick\"/install networkx\n",
    "\n",
    "\n",
    "global __ATOM_LIST__\n",
    "__ATOM_LIST__ = [ x.strip() for x in ['h ','he', \\\n",
    "      'li','be','b ','c ','n ','o ','f ','ne', \\\n",
    "      'na','mg','al','si','p ','s ','cl','ar', \\\n",
    "      'k ','ca','sc','ti','v ','cr','mn','fe','co','ni','cu', \\\n",
    "      'zn','ga','ge','as','se','br','kr', \\\n",
    "      'rb','sr','y ','zr','nb','mo','tc','ru','rh','pd','ag', \\\n",
    "      'cd','in','sn','sb','te','i ','xe', \\\n",
    "      'cs','ba','la','ce','pr','nd','pm','sm','eu','gd','tb','dy', \\\n",
    "      'ho','er','tm','yb','lu','hf','ta','w ','re','os','ir','pt', \\\n",
    "      'au','hg','tl','pb','bi','po','at','rn', \\\n",
    "      'fr','ra','ac','th','pa','u ','np','pu'] ]\n",
    "\n",
    "\n",
    "def get_atom(atom):\n",
    "    global __ATOM_LIST__\n",
    "    atom = atom.lower()\n",
    "    return __ATOM_LIST__.index(atom) + 1\n",
    "\n",
    "\n",
    "def getUA(maxValence_list, valence_list):\n",
    "    UA = []\n",
    "    DU = []\n",
    "    for i, (maxValence,valence) in enumerate(zip(maxValence_list, valence_list)):\n",
    "        if maxValence - valence > 0:\n",
    "            UA.append(i)\n",
    "            DU.append(maxValence - valence)\n",
    "    return UA,DU\n",
    "\n",
    "\n",
    "def get_BO(AC,UA,DU,valences,UA_pairs,quick):\n",
    "    BO = AC.copy()\n",
    "    DU_save = []\n",
    "\n",
    "    while DU_save != DU:\n",
    "        for i,j in UA_pairs:\n",
    "            BO[i,j] += 1\n",
    "            BO[j,i] += 1 \n",
    "        \n",
    "        BO_valence = list(BO.sum(axis=1))\n",
    "        DU_save = copy.copy(DU)\n",
    "        UA, DU = getUA(valences, BO_valence)\n",
    "        UA_pairs = get_UA_pairs(UA,AC,quick)[0]\n",
    "\n",
    "    return BO\n",
    "\n",
    "\n",
    "def valences_not_too_large(BO,valences):\n",
    "    number_of_bonds_list = BO.sum(axis=1)\n",
    "    for valence, number_of_bonds in zip(valences,number_of_bonds_list):\n",
    "        if number_of_bonds > valence:\n",
    "            return False\n",
    "\n",
    "    return True\n",
    "\n",
    "\n",
    "def BO_is_OK(BO,AC,charge,DU,atomic_valence_electrons,atomicNumList,charged_fragments):\n",
    "    Q = 0 # total charge\n",
    "    q_list = []\n",
    "    if charged_fragments:\n",
    "        BO_valences = list(BO.sum(axis=1))\n",
    "        for i,atom in enumerate(atomicNumList):\n",
    "            q = get_atomic_charge(atom,atomic_valence_electrons[atom],BO_valences[i])\n",
    "            Q += q\n",
    "            if atom == 6:\n",
    "                number_of_single_bonds_to_C = list(BO[i,:]).count(1)\n",
    "                if number_of_single_bonds_to_C == 2 and BO_valences[i] == 2:\n",
    "                    Q += 1\n",
    "                    q = 2\n",
    "                if number_of_single_bonds_to_C == 3 and Q + 1 < charge:\n",
    "                    Q += 2\n",
    "                    q = 1\n",
    "            \n",
    "            if q != 0:\n",
    "                q_list.append(q)\n",
    "\n",
    "    if (BO-AC).sum() == sum(DU) and charge == Q and len(q_list) <= abs(charge):\n",
    "        return True\n",
    "    else:\n",
    "        return False\n",
    "\n",
    "\n",
    "def get_atomic_charge(atom,atomic_valence_electrons,BO_valence):\n",
    "    if atom == 1:\n",
    "        charge = 1 - BO_valence\n",
    "    elif atom == 5:\n",
    "        charge = 3 - BO_valence\n",
    "    elif atom == 15 and BO_valence == 5:\n",
    "        charge = 0\n",
    "    elif atom == 16 and BO_valence == 6:\n",
    "        charge = 0\n",
    "    else:\n",
    "        charge = atomic_valence_electrons - 8 + BO_valence\n",
    "\n",
    "    return charge\n",
    "\n",
    "def clean_charges(mol):\n",
    "    # this hack should not be needed any more but is kept just in case\n",
    "\n",
    "    rxn_smarts = ['[N+:1]=[*:2]-[C-:3]>>[N+0:1]-[*:2]=[C-0:3]',\n",
    "                  '[N+:1]=[*:2]-[O-:3]>>[N+0:1]-[*:2]=[O-0:3]',\n",
    "                  '[N+:1]=[*:2]-[*:3]=[*:4]-[O-:5]>>[N+0:1]-[*:2]=[*:3]-[*:4]=[O-0:5]',\n",
    "                  '[#8:1]=[#6:2]([!-:6])[*:3]=[*:4][#6-:5]>>[*-:1][*:2]([*:6])=[*:3][*:4]=[*+0:5]',\n",
    "                  '[O:1]=[c:2][c-:3]>>[*-:1][*:2][*+0:3]',\n",
    "                  '[O:1]=[C:2][C-:3]>>[*-:1][*:2]=[*+0:3]']\n",
    "\n",
    "    fragments = Chem.GetMolFrags(mol,asMols=True,sanitizeFrags=False)\n",
    "\n",
    "    for i,fragment in enumerate(fragments):\n",
    "        for smarts in rxn_smarts:\n",
    "            patt = Chem.MolFromSmarts(smarts.split(\">>\")[0])\n",
    "            while fragment.HasSubstructMatch(patt):\n",
    "                rxn = AllChem.ReactionFromSmarts(smarts)\n",
    "                ps = rxn.RunReactants((fragment,))\n",
    "                fragment = ps[0][0]\n",
    "        if i == 0:\n",
    "            mol = fragment\n",
    "        else:\n",
    "            mol = Chem.CombineMols(mol,fragment)\n",
    "\n",
    "    return mol\n",
    "\n",
    "\n",
    "def BO2mol(mol,BO_matrix, atomicNumList,atomic_valence_electrons,mol_charge,charged_fragments):\n",
    "    # based on code written by Paolo Toscani\n",
    "\n",
    "    l = len(BO_matrix)\n",
    "    l2 = len(atomicNumList)\n",
    "    BO_valences = list(BO_matrix.sum(axis=1))\n",
    "\n",
    "    if (l != l2):\n",
    "        raise RuntimeError('sizes of adjMat ({0:d}) and atomicNumList '\n",
    "            '{1:d} differ'.format(l, l2))\n",
    "\n",
    "    rwMol = Chem.RWMol(mol)\n",
    "\n",
    "    bondTypeDict = {\n",
    "        1: Chem.BondType.SINGLE,\n",
    "        2: Chem.BondType.DOUBLE,\n",
    "        3: Chem.BondType.TRIPLE\n",
    "    }\n",
    "\n",
    "    for i in range(l):\n",
    "        for j in range(i + 1, l):\n",
    "            bo = int(round(BO_matrix[i, j]))\n",
    "            if (bo == 0):\n",
    "                continue\n",
    "            bt = bondTypeDict.get(bo, Chem.BondType.SINGLE)\n",
    "            rwMol.AddBond(i, j, bt)\n",
    "    mol = rwMol.GetMol()\n",
    "\n",
    "    if charged_fragments:\n",
    "        mol = set_atomic_charges(mol,atomicNumList,atomic_valence_electrons,BO_valences,BO_matrix,mol_charge)\n",
    "    else:\n",
    "        mol = set_atomic_radicals(mol,atomicNumList,atomic_valence_electrons,BO_valences)\n",
    "\n",
    "    return mol\n",
    "\n",
    "def set_atomic_charges(mol,atomicNumList,atomic_valence_electrons,BO_valences,BO_matrix,mol_charge):\n",
    "    q = 0\n",
    "    for i,atom in enumerate(atomicNumList):\n",
    "        a = mol.GetAtomWithIdx(i)\n",
    "        charge = get_atomic_charge(atom,atomic_valence_electrons[atom],BO_valences[i])\n",
    "        q += charge\n",
    "        if atom == 6:\n",
    "            number_of_single_bonds_to_C = list(BO_matrix[i,:]).count(1)\n",
    "            if number_of_single_bonds_to_C == 2 and BO_valences[i] == 2:\n",
    "                    q += 1\n",
    "                    charge = 0\n",
    "            if number_of_single_bonds_to_C == 3 and q + 1 < mol_charge:\n",
    "                    q += 2\n",
    "                    charge = 1\n",
    "\n",
    "        if (abs(charge) > 0):\n",
    "            a.SetFormalCharge(int(charge))\n",
    "\n",
    "    # shouldn't be needed anymore bit is kept just in case\n",
    "    #mol = clean_charges(mol)\n",
    "\n",
    "    return mol\n",
    "\n",
    "\n",
    "def set_atomic_radicals(mol,atomicNumList,atomic_valence_electrons,BO_valences):\n",
    "    # The number of radical electrons = absolute atomic charge\n",
    "    for i,atom in enumerate(atomicNumList):\n",
    "        a = mol.GetAtomWithIdx(i)\n",
    "        charge = get_atomic_charge(atom,atomic_valence_electrons[atom],BO_valences[i])\n",
    "\n",
    "        if (abs(charge) > 0):\n",
    "            a.SetNumRadicalElectrons(abs(int(charge)))\n",
    "\n",
    "    return mol\n",
    "\n",
    "def get_bonds(UA,AC):\n",
    "    bonds = []\n",
    "\n",
    "    for k,i in enumerate(UA):\n",
    "        for j in UA[k+1:]:\n",
    "            if AC[i,j] == 1:\n",
    "                bonds.append(tuple(sorted([i,j])))\n",
    "\n",
    "    return bonds\n",
    "\n",
    "def get_UA_pairs(UA,AC,quick):\n",
    "    bonds = get_bonds(UA,AC)\n",
    "    if len(bonds) == 0:\n",
    "        return [()]\n",
    "\n",
    "    if quick:\n",
    "        G=nx.Graph()\n",
    "        G.add_edges_from(bonds)\n",
    "        UA_pairs = [list(nx.max_weight_matching(G))]\n",
    "        return UA_pairs\n",
    "\n",
    "    max_atoms_in_combo = 0\n",
    "    UA_pairs = [()]\n",
    "    for combo in list(itertools.combinations(bonds, int(len(UA)/2))):\n",
    "        flat_list = [item for sublist in combo for item in sublist]\n",
    "        atoms_in_combo = len(set(flat_list))\n",
    "        if atoms_in_combo > max_atoms_in_combo:\n",
    "            max_atoms_in_combo = atoms_in_combo\n",
    "            UA_pairs = [combo]\n",
    " #           if quick and max_atoms_in_combo == 2*int(len(UA)/2):\n",
    " #               return UA_pairs\n",
    "        elif atoms_in_combo == max_atoms_in_combo:\n",
    "            UA_pairs.append(combo)\n",
    "\n",
    "    return UA_pairs\n",
    "\n",
    "def AC2BO(AC,atomicNumList,charge,charged_fragments,quick):\n",
    "    # TODO\n",
    "    atomic_valence = defaultdict(list)\n",
    "    atomic_valence[1] = [1]\n",
    "    atomic_valence[6] = [4]\n",
    "    atomic_valence[7] = [4,3]\n",
    "    atomic_valence[8] = [2,1]\n",
    "    atomic_valence[9] = [1]\n",
    "    atomic_valence[14] = [4]\n",
    "    atomic_valence[15] = [5,4,3]\n",
    "    atomic_valence[16] = [6,4,2]\n",
    "    atomic_valence[17] = [1]\n",
    "    atomic_valence[32] = [4]\n",
    "    atomic_valence[35] = [1]\n",
    "    atomic_valence[53] = [1]\n",
    "\n",
    "\n",
    "    atomic_valence_electrons = {}\n",
    "    atomic_valence_electrons[1] = 1\n",
    "    atomic_valence_electrons[6] = 4\n",
    "    atomic_valence_electrons[7] = 5\n",
    "    atomic_valence_electrons[8] = 6\n",
    "    atomic_valence_electrons[9] = 7\n",
    "    atomic_valence_electrons[14] = 4\n",
    "    atomic_valence_electrons[15] = 5\n",
    "    atomic_valence_electrons[16] = 6\n",
    "    atomic_valence_electrons[17] = 7\n",
    "    atomic_valence_electrons[32] = 4\n",
    "    atomic_valence_electrons[35] = 7\n",
    "    atomic_valence_electrons[53] = 7\n",
    "\n",
    "    # make a list of valences, e.g. for CO: [[4],[2,1]]\n",
    "    valences_list_of_lists = []\n",
    "    for atomicNum in atomicNumList:\n",
    "        valences_list_of_lists.append(atomic_valence[atomicNum])\n",
    "\n",
    "    # convert [[4],[2,1]] to [[4,2],[4,1]]\n",
    "    valences_list = list(itertools.product(*valences_list_of_lists))\n",
    "\n",
    "    best_BO = AC.copy()\n",
    "\n",
    "    # implemenation of algorithm shown in Figure 2\n",
    "    # UA: unsaturated atoms\n",
    "    # DU: degree of unsaturation (u matrix in Figure)\n",
    "    # best_BO: Bcurr in Figure \n",
    "    #\n",
    "\n",
    "    for valences in valences_list:\n",
    "        AC_valence = list(AC.sum(axis=1))\n",
    "        UA,DU_from_AC = getUA(valences, AC_valence)\n",
    "\n",
    "        if len(UA) == 0 and BO_is_OK(AC,AC,charge,DU_from_AC,atomic_valence_electrons,atomicNumList,charged_fragments):\n",
    "            return AC,atomic_valence_electrons\n",
    "        \n",
    "        UA_pairs_list = get_UA_pairs(UA,AC,quick) \n",
    "        for UA_pairs in UA_pairs_list:\n",
    "            BO = get_BO(AC,UA,DU_from_AC,valences,UA_pairs,quick)\n",
    "            if BO_is_OK(BO,AC,charge,DU_from_AC,atomic_valence_electrons,atomicNumList,charged_fragments):\n",
    "                return BO,atomic_valence_electrons\n",
    "\n",
    "            elif BO.sum() >= best_BO.sum() and valences_not_too_large(BO,valences):\n",
    "                best_BO = BO.copy()\n",
    "\n",
    "    return best_BO,atomic_valence_electrons\n",
    "\n",
    "\n",
    "def AC2mol(mol,AC,atomicNumList,charge,charged_fragments,quick):\n",
    "    # convert AC matrix to bond order (BO) matrix\n",
    "    BO,atomic_valence_electrons = AC2BO(AC,atomicNumList,charge,charged_fragments,quick)\n",
    "\n",
    "    # add BO connectivity and charge info to mol object\n",
    "    mol = BO2mol(mol,BO, atomicNumList,atomic_valence_electrons,charge,charged_fragments)\n",
    "\n",
    "    return mol\n",
    "\n",
    "\n",
    "def get_proto_mol(atomicNumList):\n",
    "    mol = Chem.MolFromSmarts(\"[#\"+str(atomicNumList[0])+\"]\")\n",
    "    rwMol = Chem.RWMol(mol)\n",
    "    for i in range(1,len(atomicNumList)):\n",
    "        a = Chem.Atom(atomicNumList[i])\n",
    "        rwMol.AddAtom(a)\n",
    "    \n",
    "    mol = rwMol.GetMol()\n",
    "\n",
    "    return mol\n",
    "\n",
    "\n",
    "def get_atomicNumList(atomic_symbols):\n",
    "    atomicNumList = []\n",
    "    for symbol in atomic_symbols:\n",
    "        atomicNumList.append(get_atom(symbol))\n",
    "    return atomicNumList\n",
    "\n",
    "\n",
    "def read_xyz_file(filename):\n",
    "\n",
    "    atomic_symbols = []\n",
    "    xyz_coordinates = []\n",
    "\n",
    "    with open(filename, \"r\") as file:\n",
    "        for line_number,line in enumerate(file):\n",
    "            if line_number == 0:\n",
    "                num_atoms = int(line)\n",
    "            elif line_number == 1:\n",
    "                if \"charge=\" in line:\n",
    "                    charge = int(line.split(\"=\")[1])\n",
    "                else:\n",
    "                    charge = 0\n",
    "            else:\n",
    "                atomic_symbol, x, y, z = line.split()\n",
    "                atomic_symbols.append(atomic_symbol)\n",
    "                xyz_coordinates.append([float(x),float(y),float(z)])\n",
    "\n",
    "    atomicNumList = get_atomicNumList(atomic_symbols)\n",
    "    \n",
    "    return atomicNumList,charge,xyz_coordinates\n",
    "\n",
    "def xyz2AC(atomicNumList,xyz):\n",
    "    import numpy as np\n",
    "    mol = get_proto_mol(atomicNumList)\n",
    "\n",
    "    conf = Chem.Conformer(mol.GetNumAtoms())\n",
    "    for i in range(mol.GetNumAtoms()):\n",
    "        conf.SetAtomPosition(i,(xyz[i][0],xyz[i][1],xyz[i][2]))\n",
    "    mol.AddConformer(conf)\n",
    "\n",
    "    dMat = Chem.Get3DDistanceMatrix(mol)\n",
    "    pt = Chem.GetPeriodicTable()\n",
    "\n",
    "    num_atoms = len(atomicNumList)\n",
    "    AC = np.zeros((num_atoms,num_atoms)).astype(int)\n",
    "\n",
    "    for i in range(num_atoms):\n",
    "        a_i = mol.GetAtomWithIdx(i)\n",
    "        Rcov_i = pt.GetRcovalent(a_i.GetAtomicNum())*1.30\n",
    "        for j in range(i+1,num_atoms):\n",
    "            a_j = mol.GetAtomWithIdx(j)\n",
    "            Rcov_j = pt.GetRcovalent(a_j.GetAtomicNum())*1.30\n",
    "            if dMat[i,j] <= Rcov_i + Rcov_j:\n",
    "                AC[i,j] = 1\n",
    "                AC[j,i] = 1\n",
    "\n",
    "    return AC,mol,dMat\n",
    "\n",
    "def chiral_stereo_check(mol):\n",
    "    Chem.SanitizeMol(mol)\n",
    "    Chem.DetectBondStereochemistry(mol,-1)\n",
    "    Chem.AssignStereochemistry(mol, flagPossibleStereoCenters=True, force=True)\n",
    "    Chem.AssignAtomChiralTagsFromStructure(mol,-1)\n",
    "\n",
    "    return mol\n"
   ]
  },
  {
   "cell_type": "code",
   "execution_count": 9,
   "metadata": {
    "code_folding": [
     0
    ]
   },
   "outputs": [],
   "source": [
    "def xyz2mol(atomicNumList, charge, xyz_coordinates, charged_fragments, quick):\n",
    "\n",
    "    # Get atom connectivity (AC) matrix, list of atomic numbers, molecular charge, \n",
    "    # and mol object with no connectivity information\n",
    "    AC,mol,dMat = xyz2AC(atomicNumList, xyz_coordinates)\n",
    "\n",
    "    # Convert AC to bond order matrix and add connectivity and charge info to mol object\n",
    "    new_mol = AC2mol(mol, AC, atomicNumList, charge, charged_fragments, quick)\n",
    "\n",
    "    # Check for stereocenters and chiral centers\n",
    "    new_mol = chiral_stereo_check(new_mol)\n",
    "\n",
    "    return new_mol,dMat"
   ]
  },
  {
   "cell_type": "code",
   "execution_count": 10,
   "metadata": {
    "code_folding": []
   },
   "outputs": [],
   "source": [
    "def mol_from_xyz(filepath, add_hs=True):\n",
    "    charged_fragments = True  # alternatively radicals are made\n",
    "\n",
    "    # quick is faster for large systems but requires networkx\n",
    "    # if you don't want to install networkx set quick=False and\n",
    "    # uncomment 'import networkx as nx' at the top of the file\n",
    "    quick = True\n",
    "\n",
    "    atomicNumList, charge, xyz_coordinates = read_xyz_file(filepath)\n",
    "    mol, dMat = xyz2mol(atomicNumList, charge, xyz_coordinates, charged_fragments, quick)\n",
    "    \n",
    "    # Compute distance from centroid\n",
    "    xyz_coord_array = np.array(xyz_coordinates)\n",
    "    centroid = xyz_coord_array.mean(axis=0)\n",
    "    dFromCentroid = norm(xyz_coord_array - centroid, axis=1)\n",
    "\n",
    "    # Canonical hack\n",
    "#     smiles = Chem.MolToSmiles(mol, isomericSmiles=True)\n",
    "#     mol = Chem.MolFromSmiles(smiles)\n",
    "#     if add_hs: mol = Chem.AddHs(mol)\n",
    "    return mol, dMat, dFromCentroid"
   ]
  },
  {
   "cell_type": "code",
   "execution_count": 11,
   "metadata": {},
   "outputs": [
    {
     "name": "stdout",
     "output_type": "stream",
     "text": [
      "total xyz filepath #  130775\n"
     ]
    }
   ],
   "source": [
    "from glob import glob\n",
    "xyz_filepath_list = list(glob(DATA_PATH+'structures/*.xyz'))\n",
    "xyz_filepath_list.sort()\n",
    "n_mols = len(xyz_filepath_list)\n",
    "print('total xyz filepath # ', n_mols)"
   ]
  },
  {
   "cell_type": "code",
   "execution_count": 12,
   "metadata": {
    "scrolled": false
   },
   "outputs": [
    {
     "data": {
      "application/vnd.jupyter.widget-view+json": {
       "model_id": "894d12e2658e4e93866ccb4925188c3a",
       "version_major": 2,
       "version_minor": 0
      },
      "text/plain": [
       "HBox(children=(IntProgress(value=0, max=130775), HTML(value='')))"
      ]
     },
     "metadata": {},
     "output_type": "display_data"
    },
    {
     "name": "stdout",
     "output_type": "stream",
     "text": [
      "dsgdb9nsd_017732 Sanitization error: Explicit valence for atom # 4 C greater than permitted\n",
      "dsgdb9nsd_037494 Sanitization error: Explicit valence for atom # 4 C greater than permitted\n",
      "dsgdb9nsd_037900 Sanitization error: Explicit valence for atom # 5 C greater than permitted\n",
      "dsgdb9nsd_042676 Sanitization error: Explicit valence for atom # 3 C greater than permitted\n",
      "dsgdb9nsd_042681 Sanitization error: Explicit valence for atom # 3 C greater than permitted\n",
      "dsgdb9nsd_044308 Sanitization error: Explicit valence for atom # 5 C greater than permitted\n",
      "dsgdb9nsd_044322 Sanitization error: Explicit valence for atom # 5 C greater than permitted\n",
      "dsgdb9nsd_048903 Sanitization error: Explicit valence for atom # 2 C greater than permitted\n",
      "dsgdb9nsd_066495 Sanitization error: Explicit valence for atom # 7 C greater than permitted\n",
      "dsgdb9nsd_067109 Sanitization error: Explicit valence for atom # 2 C greater than permitted\n",
      "dsgdb9nsd_073323 Sanitization error: Explicit valence for atom # 4 C greater than permitted\n",
      "dsgdb9nsd_090191 Sanitization error: Explicit valence for atom # 3 C greater than permitted\n",
      "dsgdb9nsd_090838 Sanitization error: Explicit valence for atom # 5 C greater than permitted\n",
      "dsgdb9nsd_107870 Sanitization error: Explicit valence for atom # 2 C greater than permitted\n",
      "dsgdb9nsd_133831 Sanitization error: Explicit valence for atom # 2 C greater than permitted\n",
      "\n"
     ]
    }
   ],
   "source": [
    "dist_matrices = {}\n",
    "mols = {}\n",
    "dist_from_centroids = {}\n",
    "for i in tqdm_notebook(range(n_mols)):\n",
    "    filepath = xyz_filepath_list[i]\n",
    "    mol_name = filepath.split('/')[-1][:-4]\n",
    "    try: \n",
    "        mol, dist_matrix, dist_from_centroid = mol_from_xyz(filepath)\n",
    "        mols[mol_name] = mol\n",
    "        dist_matrices[mol_name] = dist_matrix\n",
    "        dist_from_centroids[mol_name] = dist_from_centroid\n",
    "    except ValueError as e: \n",
    "        print(mol_name, e)"
   ]
  },
  {
   "cell_type": "code",
   "execution_count": 59,
   "metadata": {},
   "outputs": [],
   "source": [
    "N_EDGE_FEATURES        = 6\n",
    "N_ATOM_FEATURES        = 9\n",
    "N_MASTER_EDGE_FEATURES = 2\n",
    "N_MASTER_FEATURES      = 9\n",
    "MAX_N_ATOMS            = 29\n",
    "MAX_N_BONDS            = 58\n",
    "TYPES                  = train_df['type'].unique()\n",
    "TYPES_MAP              = {t: i + 1 for i, t in enumerate(TYPES)}"
   ]
  },
  {
   "cell_type": "code",
   "execution_count": 60,
   "metadata": {
    "code_folding": [
     0
    ]
   },
   "outputs": [],
   "source": [
    "def get_edge_features(mol, eucl_dist, row):\n",
    "    \"\"\"\n",
    "    Compute the following features for each entry in the adjacency matrix pf 'mol':\n",
    "        - bond type: categorical {1: single, 2: double, 3: triple, 4: aromatic}\n",
    "        - is conjugated: categorical {0, 1, 2} (0 for no bond at all)\n",
    "        - is in ring: categorical {0, 1, 2} (0 for no bond at all)\n",
    "        - graph distance: int\n",
    "        - euclidean distance: float\n",
    "        - type of scalar couplig type: categorical {1:8}\n",
    "    \"\"\"\n",
    "    n_atoms, n_bonds = mol.GetNumAtoms(), mol.GetNumBonds()\n",
    "    n_edge_features = (n_bonds + 1) * 2\n",
    "    features = np.zeros((n_edge_features, N_EDGE_FEATURES))\n",
    "    pairs_idx = np.zeros((n_edge_features, 2)) - 1\n",
    "    bond_type_map = {'SINGLE': 1, 'DOUBLE': 2, 'TRIPLE': 3, 'AROMATIC': 4}\n",
    "    \n",
    "    graph_dist = Chem.AllChem.GetDistanceMatrix(mol)\n",
    "    scalar_coupling_has_bond = False\n",
    "    for n, e in enumerate(mol.GetBonds()):\n",
    "        ix1 = 2 * n\n",
    "        ix2 = (2 * n) + 1\n",
    "        i = e.GetBeginAtomIdx()\n",
    "        j = e.GetEndAtomIdx()\n",
    "        dc_e_feats = dc.feat.graph_features.bond_features(e).astype(int)\n",
    "        for ix in [ix1, ix2]:\n",
    "            features[ix, 0] = bond_type_map[str(e.GetBondType())]\n",
    "            features[ix, 1] = int(e.GetIsConjugated()) + 1\n",
    "            features[ix, 2] = int(e.IsInRing()) + 1\n",
    "            features[ix, 3] = graph_dist[i, j]\n",
    "            features[ix, 4] = eucl_dist[i, j]\n",
    "            if (row['atom_index_0'], row['atom_index_1']) in [(i, j), (j, i)]:\n",
    "                features[ix, 5] = TYPES_MAP[row['type']]\n",
    "                scalar_coupling_has_bond = True\n",
    "        pairs_idx[ix1] = i, j\n",
    "        pairs_idx[ix2] = j, i\n",
    "    if not scalar_coupling_has_bond:\n",
    "        for ix in [-2, -1]:\n",
    "            features[ix, 3] = graph_dist[row['atom_index_0'], row['atom_index_1']]\n",
    "            features[ix, 4] = eucl_dist[row['atom_index_0'], row['atom_index_1']]\n",
    "            features[ix, 5] = TYPES_MAP[row['type']]\n",
    "        pairs_idx[-2] = row['atom_index_0'], row['atom_index_1']\n",
    "        pairs_idx[-1] = row['atom_index_1'], row['atom_index_0']\n",
    "    return features[pairs_idx[:,0].argsort()], pairs_idx[pairs_idx[:,0].argsort()]"
   ]
  },
  {
   "cell_type": "code",
   "execution_count": 64,
   "metadata": {
    "code_folding": [
     0,
     5
    ]
   },
   "outputs": [],
   "source": [
    "def get_atom_features(mol):\n",
    "    \"\"\"\n",
    "    Compute the following features for each atom in 'mol':\n",
    "        - atom type: categorical {H, C, N, O, F}\n",
    "        - degree: categorical {0, 1, 2, 3, 4}\n",
    "        - implicit valence: categorical {0, 1, 2, 3, 4, 5}\n",
    "        - Hybridization: categorical {SP, SP2, SP3, SP3D, SP3D2}\n",
    "        - is aromatic: bool\n",
    "        - formal charge: int\n",
    "        - num radical electrons: int\n",
    "        - atomic number: int\n",
    "    \"\"\"\n",
    "    n_atoms = mol.GetNumAtoms()\n",
    "    features = np.zeros((n_atoms, N_ATOM_FEATURES-1))\n",
    "    symbol_map = {'H': 0, 'C': 1, 'N': 2, 'O': 3, 'F': 4}\n",
    "    hybridization_map = {'S': 0, 'SP': 1, 'SP2': 2, 'SP3': 3, \n",
    "                         'SP3D': 4, 'SP3D2': 5, 'UNSPECIFIED': 6}\n",
    "    \n",
    "    for a in mol.GetAtoms():\n",
    "        a_feats = [symbol_map[a.GetSymbol()],\n",
    "                   a.GetDegree(),\n",
    "                   a.GetImplicitValence(),\n",
    "                   hybridization_map[str(a.GetHybridization())],\n",
    "                   a.GetIsAromatic(),\n",
    "                   a.GetFormalCharge(), \n",
    "                   a.GetNumRadicalElectrons(), \n",
    "                   a.GetAtomicNum()]\n",
    "        features[a.GetIdx(),:] = np.array(a_feats).astype(int)\n",
    "    return features"
   ]
  },
  {
   "cell_type": "code",
   "execution_count": 65,
   "metadata": {
    "scrolled": true
   },
   "outputs": [
    {
     "data": {
      "application/vnd.jupyter.widget-view+json": {
       "model_id": "92818d1f0ae9437db436d37661eba2fe",
       "version_major": 2,
       "version_minor": 0
      },
      "text/plain": [
       "HBox(children=(IntProgress(value=0, max=50000), HTML(value='')))"
      ]
     },
     "metadata": {},
     "output_type": "display_data"
    },
    {
     "name": "stdout",
     "output_type": "stream",
     "text": [
      "\n"
     ]
    }
   ],
   "source": [
    "n_obs = 50000 # len(mols)\n",
    "atomic_features = np.zeros((n_obs, MAX_N_ATOMS, N_ATOM_FEATURES))\n",
    "master_features = np.zeros((n_obs, N_MASTER_FEATURES))\n",
    "edge_features = np.zeros((n_obs, MAX_N_BONDS, N_EDGE_FEATURES))\n",
    "master_edge_features = np.zeros((n_obs, MAX_N_ATOMS, N_MASTER_EDGE_FEATURES))\n",
    "pairs_idx = np.zeros((n_obs, MAX_N_BONDS, 2)) - 1\n",
    "mask = np.zeros((n_obs, MAX_N_ATOMS))\n",
    "edge_mask = np.zeros((n_obs, MAX_N_BONDS))\n",
    "target = np.zeros(n_obs)\n",
    "keep = []\n",
    "mol_name = ''\n",
    "succesful_mols = list(mols.keys())\n",
    "for i in tqdm_notebook(range(n_obs)):\n",
    "    row = train_df.iloc[i,:]\n",
    "    new_mol_name = row['molecule_name']\n",
    "    if mol_name!=new_mol_name:\n",
    "        if new_mol_name in succesful_mols:\n",
    "            mol_name = new_mol_name\n",
    "            mol, dist_matrix = mols[mol_name], dist_matrices[mol_name]\n",
    "            dist_from_centroid = dist_from_centroids[mol_name]\n",
    "            n_atoms = mol.GetNumAtoms()\n",
    "            n_bonds = mol.GetNumBonds()\n",
    "            n_edge_features = (n_bonds + 1) * 2\n",
    "        else:\n",
    "            continue\n",
    "    atomic_features[i, :n_atoms, :-1] = get_atom_features(mol)\n",
    "    atomic_features[i, row['atom_index_0'], -1] = 1.\n",
    "    atomic_features[i, row['atom_index_1'], -1] = 1.\n",
    "    master_features[i, :6] = row[['num_atoms', 'num_C_atoms', 'num_H_atoms', \n",
    "                                  'num_N_atoms', 'num_O_atoms', 'num_F_atoms']]\n",
    "    master_features[i, 6:] = mol.GetNumHeavyAtoms(), n_bonds, mol.GetRingInfo().NumRings()\n",
    "    edge_features[i, :n_edge_features, :], pairs_idx[i, :n_edge_features, :] = \\\n",
    "        get_edge_features(mol, dist_matrix, row)\n",
    "    master_edge_features[i, :n_atoms, 0] = dist_from_centroid\n",
    "    master_edge_features[i, row['atom_index_0'], 1] = TYPES_MAP[row['type']]\n",
    "    master_edge_features[i, row['atom_index_1'], 1] = TYPES_MAP[row['type']]\n",
    "    mask[i, :n_atoms], edge_mask[i, pairs_idx[i,:,0] != -1] = 1., 1.\n",
    "    target[i] = row['scalar_coupling_constant']\n",
    "    keep.append(i)\n",
    "keep = np.array(keep)"
   ]
  },
  {
   "cell_type": "code",
   "execution_count": 66,
   "metadata": {},
   "outputs": [],
   "source": [
    "atomic_features      = atomic_features[keep]\n",
    "master_features      = master_features[keep]\n",
    "edge_features        = edge_features[keep]\n",
    "master_edge_features = master_edge_features[keep]\n",
    "pairs_idx            = pairs_idx[keep]\n",
    "mask                 = mask[keep]\n",
    "edge_mask            = edge_mask[keep]\n",
    "target               = target[keep]"
   ]
  },
  {
   "cell_type": "code",
   "execution_count": 71,
   "metadata": {
    "scrolled": true
   },
   "outputs": [
    {
     "data": {
      "text/plain": [
       "array([[2.505295, 0.      ],\n",
       "       [1.006628, 0.      ],\n",
       "       [1.302268, 0.      ],\n",
       "       [1.808148, 0.      ],\n",
       "       [1.891505, 0.      ],\n",
       "       [1.680229, 0.      ],\n",
       "       [1.263627, 0.      ],\n",
       "       [3.045063, 0.      ],\n",
       "       [3.129297, 0.      ],\n",
       "       [3.060299, 0.      ],\n",
       "       [2.367394, 0.      ],\n",
       "       [2.499349, 0.      ],\n",
       "       [2.711433, 6.      ],\n",
       "       [2.931557, 0.      ],\n",
       "       [2.28507 , 6.      ],\n",
       "       [2.166973, 0.      ],\n",
       "       [2.682558, 0.      ],\n",
       "       [2.001112, 0.      ],\n",
       "       [2.187803, 0.      ],\n",
       "       [0.      , 0.      ]])"
      ]
     },
     "execution_count": 71,
     "metadata": {},
     "output_type": "execute_result"
    }
   ],
   "source": [
    "master_features,master_edge_features\n",
    "master_edge_features[i-3,:20]"
   ]
  },
  {
   "cell_type": "code",
   "execution_count": 67,
   "metadata": {
    "scrolled": true
   },
   "outputs": [
    {
     "name": "stdout",
     "output_type": "stream",
     "text": [
      "atomic_features.shape\t\t: (50000, 29, 9)\n",
      "edge_features.shape\t\t: (50000, 58, 6)\n",
      "master_features.shape\t\t: (50000, 9)\n",
      "master_edge_features.shape\t: (50000, 29, 2)\n"
     ]
    }
   ],
   "source": [
    "print(f'atomic_features.shape\\t\\t: {atomic_features.shape}\\nedge_features.shape\\t\\t: {edge_features.shape}'\n",
    "      f'\\nmaster_features.shape\\t\\t: {master_features.shape}\\nmaster_edge_features.shape\\t: {master_edge_features.shape}')"
   ]
  },
  {
   "cell_type": "markdown",
   "metadata": {},
   "source": [
    "## Define MPNN Model"
   ]
  },
  {
   "cell_type": "code",
   "execution_count": 187,
   "metadata": {},
   "outputs": [],
   "source": [
    "enn_args = dict(layers=[50, 50, 50, 50], act=nn.ReLU(True), dropout=[0.0, 0.0, 0.0, 0.0], \n",
    "                emb_dropout=0.0, batch_norm=False)\n",
    "master_enn_args = dict(layers=[50, 50, 50, 50], act=nn.ReLU(True), dropout=[0.0, 0.0, 0.0, 0.0], \n",
    "                       emb_dropout=0.0, batch_norm=False)\n",
    "R_net_args = dict(layers=[200, 100], act=nn.ReLU(True), dropout=[0.0, 0.0], batch_norm=False)"
   ]
  },
  {
   "cell_type": "code",
   "execution_count": 238,
   "metadata": {
    "code_folding": [
     0
    ]
   },
   "outputs": [],
   "source": [
    "def hidden_layer(n_in, n_out, batch_norm, dropout, act=None):\n",
    "    layers = []\n",
    "    layers.append(nn.Linear(n_in, n_out))\n",
    "    if act: layers.append(act)\n",
    "    if batch_norm: layers.append(nn.BatchNorm1d(n_out))\n",
    "    if dropout != 0: layers.append(nn.Dropout(dropout))\n",
    "    return layers\n",
    "\n",
    "class FullyConnectedNet(nn.Module):\n",
    "    \n",
    "    def __init__(self, n_input, n_output, layers=[], act=nn.ReLU(True), dropout=[], batch_norm=False):\n",
    "        super().__init__()\n",
    "        sizes = [n_input] + layers + [n_output]\n",
    "        layers_ = []\n",
    "        for i, (n_in, n_out, dr) in enumerate(zip(sizes[:-1], sizes[1:], dropout+[0.0])):\n",
    "            act_ = act if i < len(layers) else None\n",
    "            batch_norm_ = batch_norm if i < len(layers) else False\n",
    "            layers_ += hidden_layer(n_in, n_out, batch_norm_, dr, act_)      \n",
    "        self.layers = nn.Sequential(*layers_)\n",
    "    \n",
    "    def forward(self, x):\n",
    "        return self.layers(x)\n",
    "\n",
    "class MyTabularModel(nn.Module):\n",
    "    def __init__(self, n_cont_vars, n_output, emb_sizes, cat_idx, layers=[], act=nn.ReLU(True), \n",
    "                 dropout=[], emb_dropout=0.0, batch_norm=False):\n",
    "        super().__init__()\n",
    "        self.cat_idx = cat_idx\n",
    "        self.cont_idx = [i for i in range(n_cont_vars + len(emb_sizes)) if i not in cat_idx]\n",
    "        self.embeddings = nn.ModuleList(\n",
    "            [nn.Embedding(n_cats, n_factors) for n_cats, n_factors in emb_sizes])\n",
    "        self.emb_drop = nn.Dropout(emb_dropout)\n",
    "        self.cont_bn = nn.BatchNorm1d(n_cont_vars) if batch_norm else None\n",
    "        \n",
    "        n_emb_out = sum(emb.embedding_dim for emb in self.embeddings)\n",
    "        sizes = [n_emb_out + n_cont_vars] + layers + [n_output]\n",
    "        layers_ = []\n",
    "        for i, (n_in, n_out, dr) in enumerate(zip(sizes[:-1], sizes[1:], dropout+[0.0])):\n",
    "            act_ = act if i < len(layers) else None\n",
    "            batch_norm_ = batch_norm if i < len(layers) else False\n",
    "            layers_ += hidden_layer(n_in, n_out, batch_norm_, dr, act_)                         \n",
    "        self.layers = nn.Sequential(*layers_)\n",
    "    \n",
    "    def forward(self, x):\n",
    "        x_cat, x_cont = x[:, self.cat_idx].type(torch.long), x[:, self.cont_idx]\n",
    "        x_ = [emb(x_cat[:,i]) for i, emb in enumerate(self.embeddings)]\n",
    "        x_ = torch.cat(x_, 1)\n",
    "        x_ = self.emb_drop(x_)\n",
    "        if self.cont_bn: x_cont = self.cont_bn(x_cont)\n",
    "        x_ = torch.cat([x_, x_cont], 1)\n",
    "        y = self.layers(x_)\n",
    "        return y"
   ]
  },
  {
   "cell_type": "code",
   "execution_count": 239,
   "metadata": {
    "code_folding": [
     0
    ]
   },
   "outputs": [],
   "source": [
    "class HiddenLSTMCell(nn.Module):\n",
    "    \"\"\"Implements the LSTM cell update described in the sec 4.2 of https://arxiv.org/pdf/1511.06391.pdf.\"\"\"\n",
    "    \n",
    "    def __init__(self, n_h_out):\n",
    "        \"\"\"This LSTM cell takes no external 'x' inputs, but has a hidden state appended with the \n",
    "        readout from a content based attention mechanism. Therefore the hidden state is of a dimension\n",
    "        that is two times the number of nodes in the set.\"\"\"\n",
    "        super().__init__()\n",
    "        self.n_h_out, self.n_h = n_h_out, n_h_out * 2 \n",
    "        self.w_h = nn.Parameter(torch.Tensor(self.n_h, n_h_out * 4))\n",
    "        self.b = nn.Parameter(torch.Tensor(n_h_out * 4))\n",
    "        self.init_weights()\n",
    "    \n",
    "    def init_weights(self):\n",
    "        for p in self.parameters():\n",
    "            if p.data.ndimension() >= 2: \n",
    "                nn.init.xavier_uniform_(p.data)\n",
    "            else: \n",
    "                nn.init.zeros_(p.data)\n",
    "                # initialize the forget gate bias to 1\n",
    "                p.data[self.n_h_out:self.n_h_out*2] = torch.ones(self.n_h_out)\n",
    "        \n",
    "    def forward(self, h_prev, c_prev):\n",
    "        \"\"\"Takes previuos hidden and cell states as arguments and performs a single LSTM step using \n",
    "        no external input.\n",
    "        \"\"\"\n",
    "        n_h_ = self.n_h_out # number of output hidden states\n",
    "        # batch the computations into a single matrix multiplication\n",
    "        gates = h_prev @ self.w_h + self.b\n",
    "        i_g, f_g, g, o_g = (\n",
    "            torch.sigmoid(gates[:, :n_h_]), # input\n",
    "            torch.sigmoid(gates[:, n_h_:n_h_*2]), # forget\n",
    "            torch.tanh(gates[:, n_h_*2:n_h_*3]),\n",
    "            torch.sigmoid(gates[:, n_h_*3:]), # output\n",
    "        )\n",
    "        c = f_g * c_prev + i_g * g\n",
    "        h = o_g * torch.tanh(c)\n",
    "        return h, c"
   ]
  },
  {
   "cell_type": "code",
   "execution_count": 240,
   "metadata": {
    "code_folding": [
     0
    ]
   },
   "outputs": [],
   "source": [
    "class Set2Set(nn.Module):\n",
    "    \"\"\"\n",
    "    Adapted from: https://rusty1s.github.io/pytorch_geometric/build/html/_modules/torch_geometric\\\n",
    "        /nn/glob/set2set.html#Set2Set\n",
    "    \"\"\"\n",
    "    def __init__(self, in_channels, proc_steps):\n",
    "        super().__init__()\n",
    "        self.in_channels = in_channels\n",
    "        self.out_channels = 2 * in_channels\n",
    "        self.proc_steps = proc_steps\n",
    "        self.lstm = HiddenLSTMCell(self.in_channels)\n",
    "\n",
    "    def forward(self, x, mask):\n",
    "        \"\"\"\n",
    "        x - input tensor of shape (batch_size, n_nodes, in_channels)\n",
    "        mask - integer tensor used to zero out nodes missing in a particualr graph \n",
    "            (not all graphs have 'n_nodes'). Is of shape (batch_size, n_nodes)\n",
    "        \"\"\"\n",
    "        batch_size, n_nodes = mask.size(0), mask.size(1)\n",
    "        batch_idx = torch.arange(0, batch_size).expand(n_nodes, batch_size).transpose(0, 1)\n",
    "        h = torch.zeros(batch_size, self.in_channels, device=x.device)\n",
    "        q_star = torch.zeros(batch_size, self.out_channels, device=x.device\n",
    "                            )\n",
    "        mask = (mask.float() - 1) * 1e6\n",
    "        for i in range(self.proc_steps):\n",
    "            q, h = self.lstm(q_star, h)\n",
    "            e = (x * q[batch_idx]).sum(dim=-1)\n",
    "            # set masked nodes not to large negative energy (attention mask will convert this to 0)\n",
    "            e += mask \n",
    "            a = F.softmax(e, dim=-1)\n",
    "            # sum a*x over node dimension \n",
    "            r = torch.sum(a.unsqueeze(-1) * x, dim=1)\n",
    "            q_star = torch.cat([q, r], dim=-1)\n",
    "            \n",
    "        return q_star\n",
    "    \n",
    "    def __repr__(self):\n",
    "        return '{}({}, {})'.format(self.__class__.__name__, self.in_channels, self.out_channels)"
   ]
  },
  {
   "cell_type": "code",
   "execution_count": 241,
   "metadata": {
    "code_folding": [
     0
    ]
   },
   "outputs": [],
   "source": [
    "def segment_sum(data, segment_ids):\n",
    "    \"\"\"\n",
    "    Computes the sum along segments of a tensor. Analogous to tf.unsorted_segment_sum.\n",
    "\n",
    "    :param data: A tensor whose segments are to be summed.\n",
    "    :param segment_ids: The segment indices tensor.\n",
    "    :return: A tensor of same data type as the data argument.\n",
    "    \"\"\"\n",
    "    assert all([i in data.shape for i in segment_ids.shape]), \"segment_ids.shape should be a prefix of data.shape\"\n",
    "        \n",
    "    # segment_ids is a 1-D tensor repeat it to have the same shape as data\n",
    "    if len(segment_ids.shape) == 1:\n",
    "        s = torch.prod(torch.tensor(data.shape[1:], device=data.device)).long()\n",
    "        segment_ids = segment_ids.repeat_interleave(s).view(segment_ids.shape[0], *data.shape[1:])\n",
    "\n",
    "    assert data.shape == segment_ids.shape, \"data.shape and segment_ids.shape should be equal\"\n",
    "\n",
    "    num_segments = len(torch.unique(segment_ids))\n",
    "    shape = [num_segments] + list(data.shape[1:])\n",
    "    tensor = torch.zeros(*shape, device=data.device).scatter_add(0, segment_ids, data.float())\n",
    "    tensor = tensor.type(data.dtype)\n",
    "    return tensor\n",
    "\n",
    "class EdgeNetwork(nn.Module):\n",
    "    \n",
    "    def __init__(self, n_h, n_e, emb_sizes, cat_idx, fully_connected_graph=False, \n",
    "                 use_master_node=False, n_h_m=0, n_e_m=0, emb_sizes_m=[], cat_idx_m=[], \n",
    "                 net_args={}, master_net_args={}):\n",
    "        super().__init__()\n",
    "        self.n_e, self.n_h, self.n_e_m, self.n_h_m = n_e, n_h, n_e_m, n_h_m\n",
    "        n_cont_e, n_cont_e_m = n_e - len(cat_idx), n_e_m - len(cat_idx_m)\n",
    "        self.fully_connected_graph = fully_connected_graph\n",
    "        self.use_master_node = use_master_node\n",
    "        self.adj_net = MyTabularModel(n_cont_e, n_h ** 2, emb_sizes, cat_idx, **net_args)\n",
    "        self.b = nn.Parameter(torch.Tensor(n_h)) # bias for the message function\n",
    "        nn.init.zeros_(self.b)\n",
    "        if use_master_node:\n",
    "            self.master_adj_net_in = MyTabularModel(n_cont_e_m, n_h * n_h_m, emb_sizes_m, \n",
    "                                                    cat_idx_m, **master_net_args)\n",
    "            self.master_adj_net_out = MyTabularModel(n_cont_e_m, n_h_m * n_h, emb_sizes_m, \n",
    "                                                     cat_idx_m, **master_net_args)\n",
    "            self.b_m = nn.Parameter(torch.Tensor(n_h_m)) # bias for the master message function\n",
    "            nn.init.zeros_(self.b_m)\n",
    "    \n",
    "    def forward(self, h, e, mask=None, pairs_idx=None, edge_mask=None, h_m=None, e_m=None):\n",
    "        \"\"\"\n",
    "        Compute message vector m_t given the previuos hidden state\n",
    "        h_t-1 and edge features e. e_out represents the same edge \n",
    "        features as e_in with adj matrix transposed.\n",
    "        - h is a collection of hidden states of shape (batch_size, n_nodes, n_h)\n",
    "        - e is a collection of edge features of shape \n",
    "            (batch_size, n_nodes, n_nodes, n_e) if fully_connected_graph\n",
    "            else shape is (batch_size, n_edges, n_e).\n",
    "        - mask is a tensor used to  zero out nodes missing in a particualr \n",
    "            graph (not all graphs have 'n_nodes'). Is of shape \n",
    "            (batch_size, n_nodes)\n",
    "        - pairs_idx: if self.fully_connected_graph = False this is a tensor\n",
    "            of shape (batch_size, n_edges, 2) mapping atom indexes \n",
    "            (first column) to the other atom indexes they form a bond with\n",
    "            (second column. \n",
    "        - edge_mask: if self.fully_connected_graph = False this is a tensor\n",
    "            of shape (batch_size, n_edges) masking non present edges.\n",
    "        - h_m: if not None, tensor of shape (batch_size, n_h_m) containing \n",
    "            hidden states for master node.\n",
    "        - e_m: if not None, tensor of shape (batch_size, n_nodes, n_e_m) containing \n",
    "            edge features for edges connected to the master node.\n",
    "        \"\"\"\n",
    "        batch_size, n_nodes = h.size(0), h.size(1)\n",
    "        \n",
    "        # compute a\n",
    "        a_vect = self.adj_net(e.view(-1, self.n_e))\n",
    "        if self.fully_connected_graph:\n",
    "            a_tmp = a_vect.view(-1, n_nodes, n_nodes, self.n_h, self.n_h).transpose(2, 3)\n",
    "            a = a_tmp.contiguous().view(-1, n_nodes * self.n_h, n_nodes * self.n_h)\n",
    "            h_flat = h.view(batch_size, n_nodes * self.n_h, 1)\n",
    "            m = torch.matmul(a, h_flat).view(batch_size * n_nodes, self.n_h)\n",
    "        else:\n",
    "            n_edges = e.size(1)\n",
    "            edge_mask_ = edge_mask.type(torch.uint8)==True\n",
    "            edge_mask_flat = edge_mask.view(-1).type(torch.uint8)==True\n",
    "            \n",
    "            a_mat = a_vect[edge_mask_flat].view(-1, self.n_h, self.n_h)\n",
    "            h_stacked = torch.cat([h[b,ix,:] for b, ix in enumerate(torch.unbind(pairs_idx[:,:,1]))])\n",
    "            h_stacked = h_stacked[edge_mask_flat]\n",
    "            ah = torch.einsum('bij,bjk->bik', h_stacked.unsqueeze(1), a_mat).squeeze(1)\n",
    "            \n",
    "            n_nodes_per_graph = pairs_idx[:,:,0].max(dim=1).values + 1\n",
    "            unique_idx = pairs_idx[:,:,0] + (torch.cat([\n",
    "                                                 torch.zeros(1, dtype=torch.long, device=h.device), \n",
    "                                                 n_nodes_per_graph[:-1].cumsum(dim=0)\n",
    "                                             ])).unsqueeze(-1).expand(-1, n_edges)\n",
    "            m_stacked = segment_sum(ah, unique_idx[edge_mask_])\n",
    "            \n",
    "            m_per_graph_lst = torch.split(m_stacked, n_nodes_per_graph.tolist())\n",
    "            m = torch.cat([F.pad(m_, pad=(0, 0, 0, n_nodes - n_nodes_)) \n",
    "                           for m_, n_nodes_ in zip(m_per_graph_lst, n_nodes_per_graph)]) \n",
    "            \n",
    "            if self.use_master_node:\n",
    "                a_mo_vect = self.master_adj_net_out(e_m.view(-1, self.n_e_m)) # dim(a_mo_vect) = (batch_size * n_nodes, n_h_m * n_h)\n",
    "                a_mo_mat = a_mo_vect.view(-1, self.n_h_m, self.n_h)\n",
    "                h_m_expanded = h_m.repeat_interleave(n_nodes, 0).unsqueeze(1)\n",
    "                ah_mo = torch.einsum('bij,bjk->bik', h_m_expanded, a_mo_mat).squeeze(1) # dim(ah_mo) = (batch_size * n_nodes, n_h)\n",
    "                m += ah_mo * mask.view(-1, 1)\n",
    "                \n",
    "                a_mi_vect = self.master_adj_net_in(e_m.view(-1, self.n_e_m)) # dim(a_mi_vect) = (batch_size * n_nodes, n_h * n_h_m)\n",
    "                a_mi_mat = a_mi_vect.view(-1, self.n_h, self.n_h_m)\n",
    "                ah_mi = torch.einsum('bij,bjk->bik', h.view(-1, self.n_h).unsqueeze(1), a_mi_mat).squeeze(1) # dim(ah_mi) = (batch_size, 1, n_h_m)\n",
    "                m_m = (ah_mi.view(-1, n_nodes, self.n_h_m) * mask.unsqueeze(-1)).sum(dim=1)\n",
    "            \n",
    "        m += self.b\n",
    "        \n",
    "        if self.use_master_node:\n",
    "            m_m += self.b_m\n",
    "            return m.view(batch_size, n_nodes, self.n_h), m_m\n",
    "        else:\n",
    "            return m.view(batch_size, n_nodes, self.n_h)"
   ]
  },
  {
   "cell_type": "code",
   "execution_count": 242,
   "metadata": {
    "code_folding": [
     0
    ]
   },
   "outputs": [],
   "source": [
    "class GRUUpdate(nn.Module):\n",
    "    def __init__(self, n_h):\n",
    "        super().__init__()\n",
    "        self.n_h = n_h\n",
    "        self.gru = nn.GRUCell(n_h, n_h)\n",
    "        \n",
    "    def forward(self, m, h_prev, mask):\n",
    "        \"\"\"\n",
    "        Update hidden state h.\n",
    "        - h_prev is vector of hidden states of shape (batch_size, n_nodes, n_h)\n",
    "        - m is vector of messages of shape (batch_size, n_nodes, n_h)\n",
    "        - mask is used to  zero out nodes missing in a particualr graph (not all graphs \n",
    "            have 'n_nodes'). Is of shape (batch_size, n_nodes)\n",
    "        \"\"\"\n",
    "        batch_size, n_nodes = h_prev.size(0), h_prev.size(1)\n",
    "        h = self.gru(m.view(-1, self.n_h), h_prev.view(-1, self.n_h))\n",
    "        return h.view(batch_size, n_nodes, self.n_h) * mask.unsqueeze(-1).expand(batch_size, n_nodes, self.n_h)"
   ]
  },
  {
   "cell_type": "code",
   "execution_count": 243,
   "metadata": {
    "code_folding": [
     0
    ]
   },
   "outputs": [],
   "source": [
    "class Set2SetOutput(nn.Module):\n",
    "    def __init__(self, n_x, n_h, proc_steps, net_args, use_master_node=False, n_x_m=0, n_h_m=0):\n",
    "        super().__init__()\n",
    "        self.n_h, self.n_x = n_h, n_x\n",
    "        self.use_master_node = use_master_node\n",
    "        self.R_proj = nn.Linear(n_h + n_x, n_h)\n",
    "        if use_master_node: self.R_proj_m = nn.Linear(n_h_m + n_x_m, n_h)\n",
    "        self.R_proc = Set2Set(n_h, proc_steps)\n",
    "        self.R_write = FullyConnectedNet(2 * n_h, 1, **net_args)\n",
    "    \n",
    "    def forward(self, h, x, mask, h_m=None, x_m=None):\n",
    "        \"\"\"\n",
    "        Update hidden state h.\n",
    "        - h is vector of hidden states of shape (batch_size, n_nodes, n_h)\n",
    "        - x is vector of input features of shape (batch_size, n_nodes, n_x)\n",
    "        - mask is used to  zero out nodes missing in a particualr graph (not all graphs \n",
    "            have 'n_nodes'). Is of shape (batch_size, n_nodes)\n",
    "        \"\"\"\n",
    "        batch_size, n_nodes = h.size(0), h.size(1)\n",
    "        m = self.R_proj(torch.cat([h.view(-1, self.n_h), x.view(-1, self.n_x)], dim=1))\n",
    "        m_reshaped = m.view(batch_size, n_nodes, self.n_h)\n",
    "        if self.use_master_node: \n",
    "            m_m = self.R_proj_m(torch.cat([h_m, x_m], dim=1))\n",
    "            m_reshaped = torch.cat([m_reshaped, m_m.unsqueeze(1)], dim=1)\n",
    "            mask_ = torch.cat([mask.clone(), torch.ones(batch_size, 1, device=x.device)], dim=1)\n",
    "        else:\n",
    "            mask_ = mask.clone()\n",
    "        q = self.R_proc(m_reshaped, mask_) \n",
    "        y = self.R_write(q) # dim(q) = (batch_size, n_h)\n",
    "        return y"
   ]
  },
  {
   "cell_type": "code",
   "execution_count": 257,
   "metadata": {
    "code_folding": []
   },
   "outputs": [],
   "source": [
    "class MPNN(nn.Module):\n",
    "    def __init__(self, n_cont_x, n_h, n_e, emb_sizes_x, cat_idx_x, emb_sizes_e, cat_idx_e, \n",
    "                 emb_dropout_x=0.0, update_steps=3, proc_steps=10, enn_args={}, R_net_args={},\n",
    "                 fully_connected_graph=False, use_master_node=False, n_x_m=0, n_h_m=0, \n",
    "                 n_e_m=0, emb_sizes_m=[], cat_idx_m=[], master_enn_args={}):\n",
    "        super().__init__()\n",
    "        self.n_h, self.n_h_m, self.n_x_m = n_h, n_h_m, n_x_m\n",
    "        self.use_master_node = use_master_node\n",
    "        self.cat_idx_x = cat_idx_x\n",
    "        self.cont_idx_x =[i for i in range(n_cont_x + len(emb_sizes_x)) if i not in cat_idx_x]\n",
    "        self.x_embeddings = nn.ModuleList(\n",
    "            [nn.Embedding(n_cats, n_factors) for n_cats, n_factors in emb_sizes_x])\n",
    "        self.n_x = sum(emb.embedding_dim for emb in self.x_embeddings) + n_cont_x\n",
    "        self.emb_drop_x = nn.Dropout(emb_dropout_x)\n",
    "        self.M = EdgeNetwork(n_h, n_e, emb_sizes_e, cat_idx_e, fully_connected_graph, \n",
    "                             use_master_node, n_h_m, n_e_m, emb_sizes_m, cat_idx_m, \n",
    "                             enn_args, master_enn_args)\n",
    "        self.U = GRUUpdate(n_h)\n",
    "        if use_master_node: self.U_m = GRUUpdate(n_h_m)\n",
    "        self.R = Set2SetOutput(self.n_x, n_h, proc_steps, R_net_args, use_master_node, n_x_m, n_h_m)\n",
    "        self.update_steps = update_steps\n",
    "        \n",
    "    def forward(self, x, e, mask, pairs_idx=None, edge_mask=None, x_m=None, e_m=None):\n",
    "        x_cat, x_cont = x[:, :, self.cat_idx_x].type(torch.long), x[:, :, self.cont_idx_x]\n",
    "        x_ = [emb(x_cat[:, :, i]) for i, emb in enumerate(self.x_embeddings)]\n",
    "        x_ = torch.cat(x_, 2)\n",
    "        x_ = self.emb_drop_x(x_)\n",
    "        x_ = torch.cat([x_, x_cont], 2)\n",
    "        h = F.pad(x_, pad=(0, self.n_h - self.n_x))\n",
    "        h_m = F.pad(x_m, pad=(0, self.n_h_m - self.n_x_m)) if self.use_master_node else None\n",
    "        for t in range(self.update_steps):\n",
    "            if self.use_master_node: \n",
    "                m, m_m = self.M(h, e, mask, pairs_idx, edge_mask, h_m, e_m)\n",
    "                h = self.U(m, h, mask)\n",
    "                h_m = self.U_m(m_m.unsqueeze(1), h_m.unsqueeze(1), \n",
    "                               torch.ones(1, 1, device=x.device)).squeeze(1)\n",
    "            else:\n",
    "                m = self.M(h, e, mask, pairs_idx, edge_mask, h_m, e_m)\n",
    "                h = self.U(m, h, mask)\n",
    "        y = self.R(h, x_, mask, h_m, x_m)\n",
    "        return y"
   ]
  },
  {
   "cell_type": "code",
   "execution_count": 258,
   "metadata": {},
   "outputs": [],
   "source": [
    "use_master_node = False"
   ]
  },
  {
   "cell_type": "code",
   "execution_count": 259,
   "metadata": {
    "scrolled": false
   },
   "outputs": [
    {
     "name": "stdout",
     "output_type": "stream",
     "text": [
      "MPNN(\n",
      "  (x_embeddings): ModuleList(\n",
      "    (0): Embedding(5, 3)\n",
      "    (1): Embedding(5, 3)\n",
      "    (2): Embedding(6, 3)\n",
      "    (3): Embedding(5, 3)\n",
      "  )\n",
      "  (emb_drop_x): Dropout(p=0.0)\n",
      "  (M): EdgeNetwork(\n",
      "    (adj_net): MyTabularModel(\n",
      "      (embeddings): ModuleList(\n",
      "        (0): Embedding(5, 3)\n",
      "        (1): Embedding(3, 2)\n",
      "        (2): Embedding(3, 2)\n",
      "        (3): Embedding(9, 5)\n",
      "      )\n",
      "      (emb_drop): Dropout(p=0.0)\n",
      "      (layers): Sequential(\n",
      "        (0): Linear(in_features=14, out_features=50, bias=True)\n",
      "        (1): ReLU(inplace)\n",
      "        (2): Linear(in_features=50, out_features=50, bias=True)\n",
      "        (3): ReLU(inplace)\n",
      "        (4): Linear(in_features=50, out_features=50, bias=True)\n",
      "        (5): ReLU(inplace)\n",
      "        (6): Linear(in_features=50, out_features=50, bias=True)\n",
      "        (7): ReLU(inplace)\n",
      "        (8): Linear(in_features=50, out_features=2500, bias=True)\n",
      "      )\n",
      "    )\n",
      "  )\n",
      "  (U): GRUUpdate(\n",
      "    (gru): GRUCell(50, 50)\n",
      "  )\n",
      "  (R): Set2SetOutput(\n",
      "    (R_proj): Linear(in_features=67, out_features=50, bias=True)\n",
      "    (R_proc): Set2Set(50, 100)\n",
      "    (R_write): FullyConnectedNet(\n",
      "      (layers): Sequential(\n",
      "        (0): Linear(in_features=100, out_features=200, bias=True)\n",
      "        (1): ReLU(inplace)\n",
      "        (2): Linear(in_features=200, out_features=100, bias=True)\n",
      "        (3): ReLU(inplace)\n",
      "        (4): Linear(in_features=100, out_features=1, bias=True)\n",
      "      )\n",
      "    )\n",
      "  )\n",
      ")\n",
      "tensor([[-0.0253],\n",
      "        [-0.0236],\n",
      "        [-0.0236],\n",
      "        [-0.0236],\n",
      "        [-0.0253],\n",
      "        [-0.0236],\n",
      "        [-0.0236],\n",
      "        [-0.0253],\n",
      "        [-0.0236],\n",
      "        [-0.0253],\n",
      "        [-0.0208],\n",
      "        [-0.0189],\n",
      "        [-0.0189],\n",
      "        [-0.0208],\n",
      "        [-0.0189],\n",
      "        [-0.0208],\n",
      "        [-0.0200],\n",
      "        [-0.0132],\n",
      "        [-0.0081],\n",
      "        [-0.0231]], grad_fn=<AddmmBackward>)\n",
      "torch.Size([20, 1])\n"
     ]
    }
   ],
   "source": [
    "batch_size, n_nodes, n_h, n_e, n_cont_x, n_edges = 20, MAX_N_ATOMS, 50, N_EDGE_FEATURES, 5, MAX_N_BONDS\n",
    "n_h_m, n_e_m, n_x_m = 100, N_MASTER_EDGE_FEATURES, N_MASTER_FEATURES\n",
    "emb_szs_x, cat_idx_x = [(5, 3), (5, 3), (6, 3), (5, 3)], [0, 1, 2, 3]\n",
    "emb_szs_e, cat_idx_e = [(5, 3), (3, 2), (3, 2), (9, 5)], [0, 1, 2, 5]\n",
    "emb_szs_m, cat_idx_m = [(8, 4)], [1]\n",
    "emb_dropout = 0.0\n",
    "x     = torch.tensor(atomic_features[:batch_size,:,:], dtype=torch.float)\n",
    "e     = torch.tensor(edge_features[:batch_size,:,:], dtype=torch.float)\n",
    "msk   = torch.tensor(mask[:batch_size,:], dtype=torch.float)\n",
    "p_idx = torch.tensor(pairs_idx[:batch_size,:,:], dtype=torch.long)\n",
    "e_msk = torch.tensor(edge_mask[:batch_size,:], dtype=torch.float)\n",
    "x_m   = torch.tensor(master_features[:batch_size,:], dtype=torch.float)\n",
    "e_m   = torch.tensor(master_edge_features[:batch_size,:,:], dtype=torch.float)\n",
    "\n",
    "if use_master_node:\n",
    "    mpnn = MPNN(n_cont_x, n_h, n_e, emb_szs_x, cat_idx_x, emb_szs_e, cat_idx_e, emb_dropout, \n",
    "                update_steps=5, proc_steps=10, enn_args=enn_args, R_net_args=R_net_args,\n",
    "                fully_connected_graph=False, use_master_node=use_master_node, n_x_m=n_x_m, n_h_m=n_h_m, \n",
    "                n_e_m=n_e_m, emb_sizes_m=emb_szs_m, cat_idx_m=cat_idx_m, master_enn_args=master_enn_args)\n",
    "else:\n",
    "    mpnn = MPNN(n_cont_x, n_h, n_e, emb_szs_x, cat_idx_x, emb_szs_e, cat_idx_e, emb_dropout, \n",
    "                update_steps=5, proc_steps=10, enn_args=enn_args, R_net_args=R_net_args,\n",
    "                fully_connected_graph=False, use_master_node=use_master_node)\n",
    "    \n",
    "print(mpnn)\n",
    "\n",
    "xs = (x, e, msk, p_idx, e_msk, x_m, e_m) if use_master_node else (x, e, msk, p_idx, e_msk)\n",
    "print(mpnn(*xs))\n",
    "print(mpnn(*xs).size())\n"
   ]
  },
  {
   "cell_type": "markdown",
   "metadata": {},
   "source": [
    "##  Fit MPNN"
   ]
  },
  {
   "cell_type": "code",
   "execution_count": 260,
   "metadata": {},
   "outputs": [],
   "source": [
    "train_idx, val_idx = train_test_split(np.arange(n_obs), test_size=0.25, shuffle=True, random_state=100)\n",
    "x_train, x_val     = atomic_features[train_idx], atomic_features[val_idx]\n",
    "e_train, e_val     = edge_features[train_idx], edge_features[val_idx]\n",
    "x_m_train, x_m_val = master_features[train_idx], master_features[val_idx]\n",
    "e_m_train, e_m_val = master_edge_features[train_idx], master_edge_features[val_idx]\n",
    "y_train, y_val     = target[train_idx], target[val_idx]\n",
    "mask_train, mask_val = mask[train_idx], mask[val_idx]\n",
    "edge_mask_train, edge_mask_val = edge_mask[train_idx], edge_mask[val_idx]\n",
    "pairs_idx_train, pairs_idx_val = pairs_idx[train_idx], pairs_idx[val_idx]"
   ]
  },
  {
   "cell_type": "code",
   "execution_count": 261,
   "metadata": {},
   "outputs": [],
   "source": [
    "ss_target = StandardScaler()\n",
    "y_train = ss_target.fit_transform(y_train.reshape(-1,1))\n",
    "y_val = ss_target.transform(y_val.reshape(-1,1))"
   ]
  },
  {
   "cell_type": "code",
   "execution_count": 262,
   "metadata": {
    "code_folding": []
   },
   "outputs": [],
   "source": [
    "class MoleculeDataset(Dataset):\n",
    "    \n",
    "    def __init__(self, y, x, e, mask, pairs_idx=None, use_master_node=True, \n",
    "                 edge_mask=None, x_m=None, e_m=None):\n",
    "        self.n = len(y)\n",
    "        self.y = y.astype(np.float32)\n",
    "        self.x = x.astype(np.float32)\n",
    "        self.e = e.astype(np.float32)\n",
    "        self.mask = mask.astype(np.float32)\n",
    "        self.fully_connected_graphs = edge_mask is None\n",
    "        if not self.fully_connected_graphs:\n",
    "            self.pairs_idx = pairs_idx.astype(np.long)\n",
    "            self.edge_mask = edge_mask.astype(np.float32)\n",
    "            self.use_master_node = use_master_node\n",
    "            if self.use_master_node:\n",
    "                self.x_m = x_m.astype(np.float32)\n",
    "                self.e_m = e_m.astype(np.float32)\n",
    "\n",
    "    def __len__(self):\n",
    "        return self.n\n",
    "\n",
    "    def __getitem__(self, idx):\n",
    "        if self.fully_connected_graphs:\n",
    "            xs = (self.x[idx], self.e[idx], self.mask[idx])\n",
    "        else:\n",
    "            if self.use_master_node:\n",
    "                xs = (self.x[idx], self.e[idx], self.mask[idx], self.pairs_idx[idx], \n",
    "                      self.edge_mask[idx], self.x_m[idx], self.e_m[idx])\n",
    "            else: \n",
    "                xs = (self.x[idx], self.e[idx], self.mask[idx], self.pairs_idx[idx], \n",
    "                      self.edge_mask[idx])\n",
    "        return xs, self.y[idx]"
   ]
  },
  {
   "cell_type": "code",
   "execution_count": 263,
   "metadata": {},
   "outputs": [],
   "source": [
    "batch_size = 20\n",
    "use_master_node = False"
   ]
  },
  {
   "cell_type": "code",
   "execution_count": 264,
   "metadata": {},
   "outputs": [],
   "source": [
    "train_ds = MoleculeDataset(y_train, x_train, e_train, mask_train, pairs_idx_train, \n",
    "                           use_master_node, edge_mask_train, x_m_train, e_m_train)\n",
    "val_ds   = MoleculeDataset(y_val, x_val, e_val, mask_val, pairs_idx_val, \n",
    "                           use_master_node, edge_mask_val, x_m_val, e_m_val)\n",
    "train_dl = DataLoader(train_ds, batch_size, shuffle=True, num_workers=8)\n",
    "val_dl   = DataLoader(val_ds, batch_size, num_workers=8)\n",
    "db = DataBunch(train_dl, val_dl)"
   ]
  },
  {
   "cell_type": "code",
   "execution_count": 297,
   "metadata": {
    "code_folding": [
     0,
     32
    ]
   },
   "outputs": [],
   "source": [
    "def group_mean_log_mae(y_true, y_pred, types):\n",
    "    y_true, y_pred, types = y_true.cpu().numpy().ravel(), y_pred.cpu().numpy().ravel(), types.cpu().numpy().ravel()\n",
    "    y_true = ss_target.mean_ + y_true * ss_target.scale_\n",
    "    y_pred = ss_target.mean_ + y_pred * ss_target.scale_\n",
    "    maes = pd.Series(y_true-y_pred).abs().groupby(types).mean()\n",
    "    return np.log(maes).mean()\n",
    "\n",
    "class GroupMeanLogMAE(Callback):\n",
    "    _order = -20 #Needs to run before the recorder\n",
    "    types_cidx = 2\n",
    "\n",
    "    def __init__(self, learn, **kwargs): self.learn = learn\n",
    "    def on_train_begin(self, **kwargs): self.learn.recorder.add_metric_names(['group_mean_log_mae'])\n",
    "    def on_epoch_begin(self, **kwargs): self.input, self.output, self.target = [], [], []\n",
    "    \n",
    "    def on_batch_end(self, last_target, last_output, last_input, train, **kwargs):\n",
    "        if not train:\n",
    "            last_e = last_input[1]\n",
    "            if len(last_e.size()) == 4: types = last_e[:,:,:,-1].max(dim=-1).values\n",
    "            else: types = last_e[:,:,-1].max(dim=-1).values\n",
    "            self.input.append(types)\n",
    "            self.output.append(last_output)\n",
    "            self.target.append(last_target)\n",
    "                \n",
    "    def on_epoch_end(self, last_metrics, **kwargs):\n",
    "        if (len(self.input) > 0) and (len(self.output) > 0):\n",
    "            inputs = torch.cat(self.input)\n",
    "            preds = torch.cat(self.output)\n",
    "            target = torch.cat(self.target)\n",
    "            metric = group_mean_log_mae(preds, target, inputs)\n",
    "            return add_metrics(last_metrics, [metric])\n",
    "\n",
    "def set_seed(seed=100):\n",
    "    # python RNG\n",
    "    random.seed(seed)\n",
    "\n",
    "    # pytorch RNGs\n",
    "    torch.manual_seed(seed)\n",
    "    torch.backends.cudnn.deterministic = True\n",
    "    if torch.cuda.is_available(): torch.cuda.manual_seed_all(seed)\n",
    "\n",
    "    # numpy RNG\n",
    "    np.random.seed(seed)"
   ]
  },
  {
   "cell_type": "code",
   "execution_count": 298,
   "metadata": {},
   "outputs": [],
   "source": [
    "wd, batch_norm = 1e-6, False\n",
    "update_steps, proc_steps = 5, 10\n",
    "n_cont_x, n_h, n_e = 5, 50, N_EDGE_FEATURES\n",
    "n_x_m, n_h_m, n_e_m = N_MASTER_FEATURES, 100, N_MASTER_EDGE_FEATURES\n",
    "emb_szs_x, cat_idx_x = [(5, 3), (5, 3), (6, 3), (5, 3)], [0, 1, 2, 3]\n",
    "emb_szs_e, cat_idx_e = [(5, 3), (3, 2), (3, 2), (9, 5)], [0, 1, 2, 5]\n",
    "emb_szs_m, cat_idx_m = [(8, 4)], [1]\n",
    "emb_dropout = 0.0\n",
    "enn_args = dict(layers=[50, 50, 50, 50], act=nn.ReLU(True), dropout=[0.0, 0.0, 0.0, 0.0], \n",
    "                emb_dropout=0.0, batch_norm=batch_norm)\n",
    "master_enn_args = dict(layers=[50, 50, 50, 50], act=nn.ReLU(True), dropout=[0.0, 0.0, 0.0, 0.0], \n",
    "                       emb_dropout=0.0, batch_norm=batch_norm)\n",
    "R_net_args = dict(layers=[200, 100], act=nn.ReLU(True), dropout=[0.0, 0.0], batch_norm=batch_norm)"
   ]
  },
  {
   "cell_type": "code",
   "execution_count": 299,
   "metadata": {},
   "outputs": [],
   "source": [
    "set_seed(100)\n",
    "if use_master_node:\n",
    "    model = MPNN(n_cont_x, n_h, n_e, emb_szs_x, cat_idx_x, emb_szs_e, cat_idx_e, emb_dropout, \n",
    "                 update_steps, proc_steps, enn_args, R_net_args, False, use_master_node, \n",
    "                 n_x_m, n_h_m, n_e_m, emb_szs_m, cat_idx_m, master_enn_args)\n",
    "else:\n",
    "    model = MPNN(n_cont_x, n_h, n_e, emb_szs_x, cat_idx_x, emb_szs_e, cat_idx_e, emb_dropout,\n",
    "                 update_steps, proc_steps, enn_args, R_net_args, False, use_master_node)"
   ]
  },
  {
   "cell_type": "code",
   "execution_count": 300,
   "metadata": {},
   "outputs": [],
   "source": [
    "learn = Learner(db, model, metrics=[mean_absolute_error], callback_fns=GroupMeanLogMAE, \n",
    "                wd=wd, loss_func=root_mean_squared_error)"
   ]
  },
  {
   "cell_type": "code",
   "execution_count": 271,
   "metadata": {
    "scrolled": true
   },
   "outputs": [
    {
     "data": {
      "text/html": [],
      "text/plain": [
       "<IPython.core.display.HTML object>"
      ]
     },
     "metadata": {},
     "output_type": "display_data"
    },
    {
     "name": "stdout",
     "output_type": "stream",
     "text": [
      "LR Finder is complete, type {learner_name}.recorder.plot() to see the graph.\n"
     ]
    },
    {
     "data": {
      "image/png": "[encoded data removed]",
      "text/plain": [
       "<Figure size 432x288 with 1 Axes>"
      ]
     },
     "metadata": {
      "needs_background": "light"
     },
     "output_type": "display_data"
    }
   ],
   "source": [
    "learn.lr_find(start_lr=1e-6, end_lr=1.0, num_it=1000, stop_div=True)\n",
    "learn.recorder.plot()"
   ]
  },
  {
   "cell_type": "code",
   "execution_count": 301,
   "metadata": {
    "scrolled": true
   },
   "outputs": [
    {
     "data": {
      "text/html": [
       "<table border=\"1\" class=\"dataframe\">\n",
       "  <thead>\n",
       "    <tr style=\"text-align: left;\">\n",
       "      <th>epoch</th>\n",
       "      <th>train_loss</th>\n",
       "      <th>valid_loss</th>\n",
       "      <th>mean_absolute_error</th>\n",
       "      <th>group_mean_log_mae</th>\n",
       "      <th>time</th>\n",
       "    </tr>\n",
       "  </thead>\n",
       "  <tbody>\n",
       "    <tr>\n",
       "      <td>0</td>\n",
       "      <td>0.140464</td>\n",
       "      <td>0.136233</td>\n",
       "      <td>0.090953</td>\n",
       "      <td>1.157710</td>\n",
       "      <td>16:49</td>\n",
       "    </tr>\n",
       "    <tr>\n",
       "      <td>1</td>\n",
       "      <td>0.128466</td>\n",
       "      <td>0.106341</td>\n",
       "      <td>0.074356</td>\n",
       "      <td>1.052399</td>\n",
       "      <td>16:40</td>\n",
       "    </tr>\n",
       "    <tr>\n",
       "      <td>2</td>\n",
       "      <td>0.093238</td>\n",
       "      <td>0.096094</td>\n",
       "      <td>0.072022</td>\n",
       "      <td>0.961742</td>\n",
       "      <td>16:16</td>\n",
       "    </tr>\n",
       "    <tr>\n",
       "      <td>3</td>\n",
       "      <td>0.076757</td>\n",
       "      <td>0.082834</td>\n",
       "      <td>0.059527</td>\n",
       "      <td>0.748792</td>\n",
       "      <td>15:29</td>\n",
       "    </tr>\n",
       "    <tr>\n",
       "      <td>4</td>\n",
       "      <td>0.066073</td>\n",
       "      <td>0.068054</td>\n",
       "      <td>0.048008</td>\n",
       "      <td>0.504129</td>\n",
       "      <td>15:16</td>\n",
       "    </tr>\n",
       "    <tr>\n",
       "      <td>5</td>\n",
       "      <td>0.059716</td>\n",
       "      <td>0.069895</td>\n",
       "      <td>0.048657</td>\n",
       "      <td>0.469455</td>\n",
       "      <td>15:21</td>\n",
       "    </tr>\n",
       "    <tr>\n",
       "      <td>6</td>\n",
       "      <td>0.053946</td>\n",
       "      <td>0.051549</td>\n",
       "      <td>0.036814</td>\n",
       "      <td>0.237037</td>\n",
       "      <td>15:27</td>\n",
       "    </tr>\n",
       "    <tr>\n",
       "      <td>7</td>\n",
       "      <td>0.048908</td>\n",
       "      <td>0.049339</td>\n",
       "      <td>0.035646</td>\n",
       "      <td>0.187064</td>\n",
       "      <td>15:27</td>\n",
       "    </tr>\n",
       "    <tr>\n",
       "      <td>8</td>\n",
       "      <td>0.042890</td>\n",
       "      <td>0.045633</td>\n",
       "      <td>0.031630</td>\n",
       "      <td>0.062312</td>\n",
       "      <td>16:38</td>\n",
       "    </tr>\n",
       "    <tr>\n",
       "      <td>9</td>\n",
       "      <td>0.042699</td>\n",
       "      <td>0.045079</td>\n",
       "      <td>0.031277</td>\n",
       "      <td>0.048441</td>\n",
       "      <td>15:26</td>\n",
       "    </tr>\n",
       "  </tbody>\n",
       "</table>"
      ],
      "text/plain": [
       "<IPython.core.display.HTML object>"
      ]
     },
     "metadata": {},
     "output_type": "display_data"
    },
    {
     "name": "stdout",
     "output_type": "stream",
     "text": [
      "Better model found at epoch 0 with group_mean_log_mae value: 1.1577102558371033.\n",
      "Better model found at epoch 1 with group_mean_log_mae value: 1.0523991412414073.\n",
      "Better model found at epoch 2 with group_mean_log_mae value: 0.9617417666287137.\n",
      "Better model found at epoch 3 with group_mean_log_mae value: 0.7487916903933169.\n",
      "Better model found at epoch 4 with group_mean_log_mae value: 0.5041291381858475.\n",
      "Better model found at epoch 5 with group_mean_log_mae value: 0.4694547366527228.\n",
      "Better model found at epoch 6 with group_mean_log_mae value: 0.23703715624728025.\n",
      "Better model found at epoch 7 with group_mean_log_mae value: 0.18706440263127908.\n",
      "Better model found at epoch 8 with group_mean_log_mae value: 0.062312212795362414.\n",
      "Better model found at epoch 9 with group_mean_log_mae value: 0.0484411002881532.\n"
     ]
    }
   ],
   "source": [
    "learn.fit_one_cycle(10, max_lr=1e-3, callbacks=[SaveModelCallback(learn, every='improvement', mode='min',\n",
    "                                                                  monitor='group_mean_log_mae',  name='mpnn1')])"
   ]
  },
  {
   "cell_type": "code",
   "execution_count": 306,
   "metadata": {},
   "outputs": [
    {
     "data": {
      "text/plain": [
       "(1, 2, 3, 9)"
      ]
     },
     "execution_count": 306,
     "metadata": {},
     "output_type": "execute_result"
    }
   ],
   "source": [
    "(1,2,3)+(9,)"
   ]
  },
  {
   "cell_type": "code",
   "execution_count": 302,
   "metadata": {
    "scrolled": true
   },
   "outputs": [
    {
     "data": {
      "image/png": "[encoded data removed]",
      "text/plain": [
       "<Figure size 432x288 with 1 Axes>"
      ]
     },
     "metadata": {
      "needs_background": "light"
     },
     "output_type": "display_data"
    }
   ],
   "source": [
    "learn.recorder.plot_losses()"
   ]
  },
  {
   "cell_type": "code",
   "execution_count": 303,
   "metadata": {
    "scrolled": true
   },
   "outputs": [
    {
     "data": {
      "text/html": [
       "<table border=\"1\" class=\"dataframe\">\n",
       "  <thead>\n",
       "    <tr style=\"text-align: left;\">\n",
       "      <th>epoch</th>\n",
       "      <th>train_loss</th>\n",
       "      <th>valid_loss</th>\n",
       "      <th>mean_absolute_error</th>\n",
       "      <th>group_mean_log_mae</th>\n",
       "      <th>time</th>\n",
       "    </tr>\n",
       "  </thead>\n",
       "  <tbody>\n",
       "    <tr>\n",
       "      <td>0</td>\n",
       "      <td>0.043933</td>\n",
       "      <td>0.045218</td>\n",
       "      <td>0.031594</td>\n",
       "      <td>0.065795</td>\n",
       "      <td>15:45</td>\n",
       "    </tr>\n",
       "    <tr>\n",
       "      <td>1</td>\n",
       "      <td>0.045252</td>\n",
       "      <td>0.046613</td>\n",
       "      <td>0.032211</td>\n",
       "      <td>0.063012</td>\n",
       "      <td>14:54</td>\n",
       "    </tr>\n",
       "    <tr>\n",
       "      <td>2</td>\n",
       "      <td>0.043752</td>\n",
       "      <td>0.048243</td>\n",
       "      <td>0.034366</td>\n",
       "      <td>0.179535</td>\n",
       "      <td>13:54</td>\n",
       "    </tr>\n",
       "    <tr>\n",
       "      <td>3</td>\n",
       "      <td>0.042804</td>\n",
       "      <td>0.045479</td>\n",
       "      <td>0.031864</td>\n",
       "      <td>0.076607</td>\n",
       "      <td>13:57</td>\n",
       "    </tr>\n",
       "    <tr>\n",
       "      <td>4</td>\n",
       "      <td>0.040823</td>\n",
       "      <td>0.045236</td>\n",
       "      <td>0.032030</td>\n",
       "      <td>0.077124</td>\n",
       "      <td>13:57</td>\n",
       "    </tr>\n",
       "    <tr>\n",
       "      <td>5</td>\n",
       "      <td>0.041748</td>\n",
       "      <td>0.043847</td>\n",
       "      <td>0.030559</td>\n",
       "      <td>0.018008</td>\n",
       "      <td>13:59</td>\n",
       "    </tr>\n",
       "    <tr>\n",
       "      <td>6</td>\n",
       "      <td>0.041217</td>\n",
       "      <td>0.043578</td>\n",
       "      <td>0.030025</td>\n",
       "      <td>-0.000038</td>\n",
       "      <td>13:56</td>\n",
       "    </tr>\n",
       "    <tr>\n",
       "      <td>7</td>\n",
       "      <td>0.038797</td>\n",
       "      <td>0.043029</td>\n",
       "      <td>0.029601</td>\n",
       "      <td>-0.018136</td>\n",
       "      <td>13:57</td>\n",
       "    </tr>\n",
       "    <tr>\n",
       "      <td>8</td>\n",
       "      <td>0.039032</td>\n",
       "      <td>0.042890</td>\n",
       "      <td>0.029414</td>\n",
       "      <td>-0.023050</td>\n",
       "      <td>13:55</td>\n",
       "    </tr>\n",
       "    <tr>\n",
       "      <td>9</td>\n",
       "      <td>0.038647</td>\n",
       "      <td>0.042739</td>\n",
       "      <td>0.029252</td>\n",
       "      <td>-0.033266</td>\n",
       "      <td>13:51</td>\n",
       "    </tr>\n",
       "  </tbody>\n",
       "</table>"
      ],
      "text/plain": [
       "<IPython.core.display.HTML object>"
      ]
     },
     "metadata": {},
     "output_type": "display_data"
    },
    {
     "name": "stdout",
     "output_type": "stream",
     "text": [
      "Better model found at epoch 0 with group_mean_log_mae value: 0.06579471516044402.\n",
      "Better model found at epoch 1 with group_mean_log_mae value: 0.06301188836562513.\n",
      "Better model found at epoch 5 with group_mean_log_mae value: 0.01800762813302756.\n",
      "Better model found at epoch 6 with group_mean_log_mae value: -3.847018881342201e-05.\n",
      "Better model found at epoch 7 with group_mean_log_mae value: -0.018135935267173386.\n",
      "Better model found at epoch 8 with group_mean_log_mae value: -0.02305009154587795.\n",
      "Better model found at epoch 9 with group_mean_log_mae value: -0.03326618054362552.\n"
     ]
    }
   ],
   "source": [
    "learn.fit_one_cycle(10, max_lr=1e-4, callbacks=[SaveModelCallback(learn, every='improvement', mode='min',\n",
    "                                                                  monitor='group_mean_log_mae',  name='mpnn2')])"
   ]
  },
  {
   "cell_type": "code",
   "execution_count": 304,
   "metadata": {},
   "outputs": [
    {
     "data": {
      "image/png": "[encoded data removed]",
      "text/plain": [
       "<Figure size 432x288 with 1 Axes>"
      ]
     },
     "metadata": {
      "needs_background": "light"
     },
     "output_type": "display_data"
    }
   ],
   "source": [
    "learn.recorder.plot_losses()"
   ]
  },
  {
   "cell_type": "code",
   "execution_count": null,
   "metadata": {
    "scrolled": false
   },
   "outputs": [],
   "source": [
    "learn.fit_one_cycle(10, max_lr=1e-5, callbacks=[SaveModelCallback(learn, every='improvement', mode='min',\n",
    "                                                                  monitor='group_mean_log_mae',  name='mpnn3')])"
   ]
  },
  {
   "cell_type": "code",
   "execution_count": null,
   "metadata": {},
   "outputs": [],
   "source": [
    "learn.recorder.plot_losses()"
   ]
  },
  {
   "cell_type": "code",
   "execution_count": null,
   "metadata": {
    "scrolled": true
   },
   "outputs": [],
   "source": [
    "learn.fit_one_cycle(10, max_lr=1e-6, callbacks=[SaveModelCallback(learn, every='improvement', mode='min',\n",
    "                                                                  monitor='group_mean_log_mae',  name='mpnn4')])"
   ]
  },
  {
   "cell_type": "code",
   "execution_count": null,
   "metadata": {},
   "outputs": [],
   "source": [
    "learn.recorder.plot_losses()"
   ]
  },
  {
   "cell_type": "code",
   "execution_count": 76,
   "metadata": {},
   "outputs": [
    {
     "ename": "RuntimeError",
     "evalue": "Expected object of backend CUDA but got backend CPU for argument #3 'index'",
     "output_type": "error",
     "traceback": [
      "\u001b[0;31m---------------------------------------------------------------------------\u001b[0m",
      "\u001b[0;31mRuntimeError\u001b[0m                              Traceback (most recent call last)",
      "\u001b[0;32m<ipython-input-76-dece9e0ff5d9>\u001b[0m in \u001b[0;36m<module>\u001b[0;34m\u001b[0m\n\u001b[0;32m----> 1\u001b[0;31m \u001b[0mpred\u001b[0m\u001b[0;34m,\u001b[0m \u001b[0m_\u001b[0m \u001b[0;34m=\u001b[0m \u001b[0mlearn\u001b[0m\u001b[0;34m.\u001b[0m\u001b[0mget_preds\u001b[0m\u001b[0;34m(\u001b[0m\u001b[0;34m)\u001b[0m\u001b[0;34m\u001b[0m\u001b[0;34m\u001b[0m\u001b[0m\n\u001b[0m\u001b[1;32m      2\u001b[0m \u001b[0mpred_test\u001b[0m\u001b[0;34m,\u001b[0m \u001b[0m_\u001b[0m \u001b[0;34m=\u001b[0m \u001b[0mlearn\u001b[0m\u001b[0;34m.\u001b[0m\u001b[0mget_preds\u001b[0m\u001b[0;34m(\u001b[0m\u001b[0mDatasetType\u001b[0m\u001b[0;34m.\u001b[0m\u001b[0mTest\u001b[0m\u001b[0;34m)\u001b[0m\u001b[0;34m\u001b[0m\u001b[0;34m\u001b[0m\u001b[0m\n",
      "\u001b[0;32m/opt/conda/envs/fastai/lib/python3.6/site-packages/fastai/basic_train.py\u001b[0m in \u001b[0;36mget_preds\u001b[0;34m(self, ds_type, with_loss, n_batch, pbar)\u001b[0m\n\u001b[1;32m    325\u001b[0m         \u001b[0mlf\u001b[0m \u001b[0;34m=\u001b[0m \u001b[0mself\u001b[0m\u001b[0;34m.\u001b[0m\u001b[0mloss_func\u001b[0m \u001b[0;32mif\u001b[0m \u001b[0mwith_loss\u001b[0m \u001b[0;32melse\u001b[0m \u001b[0;32mNone\u001b[0m\u001b[0;34m\u001b[0m\u001b[0;34m\u001b[0m\u001b[0m\n\u001b[1;32m    326\u001b[0m         return get_preds(self.model, self.dl(ds_type), cb_handler=CallbackHandler(self.callbacks),\n\u001b[0;32m--> 327\u001b[0;31m                          activ=_loss_func2activ(self.loss_func), loss_func=lf, n_batch=n_batch, pbar=pbar)\n\u001b[0m\u001b[1;32m    328\u001b[0m \u001b[0;34m\u001b[0m\u001b[0m\n\u001b[1;32m    329\u001b[0m     \u001b[0;32mdef\u001b[0m \u001b[0mpred_batch\u001b[0m\u001b[0;34m(\u001b[0m\u001b[0mself\u001b[0m\u001b[0;34m,\u001b[0m \u001b[0mds_type\u001b[0m\u001b[0;34m:\u001b[0m\u001b[0mDatasetType\u001b[0m\u001b[0;34m=\u001b[0m\u001b[0mDatasetType\u001b[0m\u001b[0;34m.\u001b[0m\u001b[0mValid\u001b[0m\u001b[0;34m,\u001b[0m \u001b[0mbatch\u001b[0m\u001b[0;34m:\u001b[0m\u001b[0mTuple\u001b[0m\u001b[0;34m=\u001b[0m\u001b[0;32mNone\u001b[0m\u001b[0;34m,\u001b[0m \u001b[0mreconstruct\u001b[0m\u001b[0;34m:\u001b[0m\u001b[0mbool\u001b[0m\u001b[0;34m=\u001b[0m\u001b[0;32mFalse\u001b[0m\u001b[0;34m)\u001b[0m \u001b[0;34m->\u001b[0m \u001b[0mList\u001b[0m\u001b[0;34m[\u001b[0m\u001b[0mTensor\u001b[0m\u001b[0;34m]\u001b[0m\u001b[0;34m:\u001b[0m\u001b[0;34m\u001b[0m\u001b[0;34m\u001b[0m\u001b[0m\n",
      "\u001b[0;32m/opt/conda/envs/fastai/lib/python3.6/site-packages/fastai/basic_train.py\u001b[0m in \u001b[0;36mget_preds\u001b[0;34m(model, dl, pbar, cb_handler, activ, loss_func, n_batch)\u001b[0m\n\u001b[1;32m     41\u001b[0m     \u001b[0;34m\"Tuple of predictions and targets, and optional losses (if `loss_func`) using `dl`, max batches `n_batch`.\"\u001b[0m\u001b[0;34m\u001b[0m\u001b[0;34m\u001b[0m\u001b[0m\n\u001b[1;32m     42\u001b[0m     res = [torch.cat(o).cpu() for o in\n\u001b[0;32m---> 43\u001b[0;31m            zip(*validate(model, dl, cb_handler=cb_handler, pbar=pbar, average=False, n_batch=n_batch))]\n\u001b[0m\u001b[1;32m     44\u001b[0m     \u001b[0;32mif\u001b[0m \u001b[0mloss_func\u001b[0m \u001b[0;32mis\u001b[0m \u001b[0;32mnot\u001b[0m \u001b[0;32mNone\u001b[0m\u001b[0;34m:\u001b[0m\u001b[0;34m\u001b[0m\u001b[0;34m\u001b[0m\u001b[0m\n\u001b[1;32m     45\u001b[0m         \u001b[0;32mwith\u001b[0m \u001b[0mNoneReduceOnCPU\u001b[0m\u001b[0;34m(\u001b[0m\u001b[0mloss_func\u001b[0m\u001b[0;34m)\u001b[0m \u001b[0;32mas\u001b[0m \u001b[0mlf\u001b[0m\u001b[0;34m:\u001b[0m \u001b[0mres\u001b[0m\u001b[0;34m.\u001b[0m\u001b[0mappend\u001b[0m\u001b[0;34m(\u001b[0m\u001b[0mlf\u001b[0m\u001b[0;34m(\u001b[0m\u001b[0mres\u001b[0m\u001b[0;34m[\u001b[0m\u001b[0;36m0\u001b[0m\u001b[0;34m]\u001b[0m\u001b[0;34m,\u001b[0m \u001b[0mres\u001b[0m\u001b[0;34m[\u001b[0m\u001b[0;36m1\u001b[0m\u001b[0;34m]\u001b[0m\u001b[0;34m)\u001b[0m\u001b[0;34m)\u001b[0m\u001b[0;34m\u001b[0m\u001b[0;34m\u001b[0m\u001b[0m\n",
      "\u001b[0;32m/opt/conda/envs/fastai/lib/python3.6/site-packages/fastai/basic_train.py\u001b[0m in \u001b[0;36mvalidate\u001b[0;34m(model, dl, loss_func, cb_handler, pbar, average, n_batch)\u001b[0m\n\u001b[1;32m     56\u001b[0m         \u001b[0;32mfor\u001b[0m \u001b[0mxb\u001b[0m\u001b[0;34m,\u001b[0m\u001b[0myb\u001b[0m \u001b[0;32min\u001b[0m \u001b[0mprogress_bar\u001b[0m\u001b[0;34m(\u001b[0m\u001b[0mdl\u001b[0m\u001b[0;34m,\u001b[0m \u001b[0mparent\u001b[0m\u001b[0;34m=\u001b[0m\u001b[0mpbar\u001b[0m\u001b[0;34m,\u001b[0m \u001b[0mleave\u001b[0m\u001b[0;34m=\u001b[0m\u001b[0;34m(\u001b[0m\u001b[0mpbar\u001b[0m \u001b[0;32mis\u001b[0m \u001b[0;32mnot\u001b[0m \u001b[0;32mNone\u001b[0m\u001b[0;34m)\u001b[0m\u001b[0;34m)\u001b[0m\u001b[0;34m:\u001b[0m\u001b[0;34m\u001b[0m\u001b[0;34m\u001b[0m\u001b[0m\n\u001b[1;32m     57\u001b[0m             \u001b[0;32mif\u001b[0m \u001b[0mcb_handler\u001b[0m\u001b[0;34m:\u001b[0m \u001b[0mxb\u001b[0m\u001b[0;34m,\u001b[0m \u001b[0myb\u001b[0m \u001b[0;34m=\u001b[0m \u001b[0mcb_handler\u001b[0m\u001b[0;34m.\u001b[0m\u001b[0mon_batch_begin\u001b[0m\u001b[0;34m(\u001b[0m\u001b[0mxb\u001b[0m\u001b[0;34m,\u001b[0m \u001b[0myb\u001b[0m\u001b[0;34m,\u001b[0m \u001b[0mtrain\u001b[0m\u001b[0;34m=\u001b[0m\u001b[0;32mFalse\u001b[0m\u001b[0;34m)\u001b[0m\u001b[0;34m\u001b[0m\u001b[0;34m\u001b[0m\u001b[0m\n\u001b[0;32m---> 58\u001b[0;31m             \u001b[0mval_loss\u001b[0m \u001b[0;34m=\u001b[0m \u001b[0mloss_batch\u001b[0m\u001b[0;34m(\u001b[0m\u001b[0mmodel\u001b[0m\u001b[0;34m,\u001b[0m \u001b[0mxb\u001b[0m\u001b[0;34m,\u001b[0m \u001b[0myb\u001b[0m\u001b[0;34m,\u001b[0m \u001b[0mloss_func\u001b[0m\u001b[0;34m,\u001b[0m \u001b[0mcb_handler\u001b[0m\u001b[0;34m=\u001b[0m\u001b[0mcb_handler\u001b[0m\u001b[0;34m)\u001b[0m\u001b[0;34m\u001b[0m\u001b[0;34m\u001b[0m\u001b[0m\n\u001b[0m\u001b[1;32m     59\u001b[0m             \u001b[0mval_losses\u001b[0m\u001b[0;34m.\u001b[0m\u001b[0mappend\u001b[0m\u001b[0;34m(\u001b[0m\u001b[0mval_loss\u001b[0m\u001b[0;34m)\u001b[0m\u001b[0;34m\u001b[0m\u001b[0;34m\u001b[0m\u001b[0m\n\u001b[1;32m     60\u001b[0m             \u001b[0;32mif\u001b[0m \u001b[0;32mnot\u001b[0m \u001b[0mis_listy\u001b[0m\u001b[0;34m(\u001b[0m\u001b[0myb\u001b[0m\u001b[0;34m)\u001b[0m\u001b[0;34m:\u001b[0m \u001b[0myb\u001b[0m \u001b[0;34m=\u001b[0m \u001b[0;34m[\u001b[0m\u001b[0myb\u001b[0m\u001b[0;34m]\u001b[0m\u001b[0;34m\u001b[0m\u001b[0;34m\u001b[0m\u001b[0m\n",
      "\u001b[0;32m/opt/conda/envs/fastai/lib/python3.6/site-packages/fastai/basic_train.py\u001b[0m in \u001b[0;36mloss_batch\u001b[0;34m(model, xb, yb, loss_func, opt, cb_handler)\u001b[0m\n\u001b[1;32m     23\u001b[0m     \u001b[0;32mif\u001b[0m \u001b[0;32mnot\u001b[0m \u001b[0mis_listy\u001b[0m\u001b[0;34m(\u001b[0m\u001b[0mxb\u001b[0m\u001b[0;34m)\u001b[0m\u001b[0;34m:\u001b[0m \u001b[0mxb\u001b[0m \u001b[0;34m=\u001b[0m \u001b[0;34m[\u001b[0m\u001b[0mxb\u001b[0m\u001b[0;34m]\u001b[0m\u001b[0;34m\u001b[0m\u001b[0;34m\u001b[0m\u001b[0m\n\u001b[1;32m     24\u001b[0m     \u001b[0;32mif\u001b[0m \u001b[0;32mnot\u001b[0m \u001b[0mis_listy\u001b[0m\u001b[0;34m(\u001b[0m\u001b[0myb\u001b[0m\u001b[0;34m)\u001b[0m\u001b[0;34m:\u001b[0m \u001b[0myb\u001b[0m \u001b[0;34m=\u001b[0m \u001b[0;34m[\u001b[0m\u001b[0myb\u001b[0m\u001b[0;34m]\u001b[0m\u001b[0;34m\u001b[0m\u001b[0;34m\u001b[0m\u001b[0m\n\u001b[0;32m---> 25\u001b[0;31m     \u001b[0mout\u001b[0m \u001b[0;34m=\u001b[0m \u001b[0mmodel\u001b[0m\u001b[0;34m(\u001b[0m\u001b[0;34m*\u001b[0m\u001b[0mxb\u001b[0m\u001b[0;34m)\u001b[0m\u001b[0;34m\u001b[0m\u001b[0;34m\u001b[0m\u001b[0m\n\u001b[0m\u001b[1;32m     26\u001b[0m     \u001b[0mout\u001b[0m \u001b[0;34m=\u001b[0m \u001b[0mcb_handler\u001b[0m\u001b[0;34m.\u001b[0m\u001b[0mon_loss_begin\u001b[0m\u001b[0;34m(\u001b[0m\u001b[0mout\u001b[0m\u001b[0;34m)\u001b[0m\u001b[0;34m\u001b[0m\u001b[0;34m\u001b[0m\u001b[0m\n\u001b[1;32m     27\u001b[0m \u001b[0;34m\u001b[0m\u001b[0m\n",
      "\u001b[0;32m/opt/conda/envs/fastai/lib/python3.6/site-packages/torch/nn/modules/module.py\u001b[0m in \u001b[0;36m__call__\u001b[0;34m(self, *input, **kwargs)\u001b[0m\n\u001b[1;32m    491\u001b[0m             \u001b[0mresult\u001b[0m \u001b[0;34m=\u001b[0m \u001b[0mself\u001b[0m\u001b[0;34m.\u001b[0m\u001b[0m_slow_forward\u001b[0m\u001b[0;34m(\u001b[0m\u001b[0;34m*\u001b[0m\u001b[0minput\u001b[0m\u001b[0;34m,\u001b[0m \u001b[0;34m**\u001b[0m\u001b[0mkwargs\u001b[0m\u001b[0;34m)\u001b[0m\u001b[0;34m\u001b[0m\u001b[0;34m\u001b[0m\u001b[0m\n\u001b[1;32m    492\u001b[0m         \u001b[0;32melse\u001b[0m\u001b[0;34m:\u001b[0m\u001b[0;34m\u001b[0m\u001b[0;34m\u001b[0m\u001b[0m\n\u001b[0;32m--> 493\u001b[0;31m             \u001b[0mresult\u001b[0m \u001b[0;34m=\u001b[0m \u001b[0mself\u001b[0m\u001b[0;34m.\u001b[0m\u001b[0mforward\u001b[0m\u001b[0;34m(\u001b[0m\u001b[0;34m*\u001b[0m\u001b[0minput\u001b[0m\u001b[0;34m,\u001b[0m \u001b[0;34m**\u001b[0m\u001b[0mkwargs\u001b[0m\u001b[0;34m)\u001b[0m\u001b[0;34m\u001b[0m\u001b[0;34m\u001b[0m\u001b[0m\n\u001b[0m\u001b[1;32m    494\u001b[0m         \u001b[0;32mfor\u001b[0m \u001b[0mhook\u001b[0m \u001b[0;32min\u001b[0m \u001b[0mself\u001b[0m\u001b[0;34m.\u001b[0m\u001b[0m_forward_hooks\u001b[0m\u001b[0;34m.\u001b[0m\u001b[0mvalues\u001b[0m\u001b[0;34m(\u001b[0m\u001b[0;34m)\u001b[0m\u001b[0;34m:\u001b[0m\u001b[0;34m\u001b[0m\u001b[0;34m\u001b[0m\u001b[0m\n\u001b[1;32m    495\u001b[0m             \u001b[0mhook_result\u001b[0m \u001b[0;34m=\u001b[0m \u001b[0mhook\u001b[0m\u001b[0;34m(\u001b[0m\u001b[0mself\u001b[0m\u001b[0;34m,\u001b[0m \u001b[0minput\u001b[0m\u001b[0;34m,\u001b[0m \u001b[0mresult\u001b[0m\u001b[0;34m)\u001b[0m\u001b[0;34m\u001b[0m\u001b[0;34m\u001b[0m\u001b[0m\n",
      "\u001b[0;32m<ipython-input-64-a1d0aa2c73ac>\u001b[0m in \u001b[0;36mforward\u001b[0;34m(self, x, e, mask, pairs_idx, edge_mask, x_m, e_m)\u001b[0m\n\u001b[1;32m     18\u001b[0m         \u001b[0;32mfor\u001b[0m \u001b[0mt\u001b[0m \u001b[0;32min\u001b[0m \u001b[0mrange\u001b[0m\u001b[0;34m(\u001b[0m\u001b[0mself\u001b[0m\u001b[0;34m.\u001b[0m\u001b[0mupdate_steps\u001b[0m\u001b[0;34m)\u001b[0m\u001b[0;34m:\u001b[0m\u001b[0;34m\u001b[0m\u001b[0;34m\u001b[0m\u001b[0m\n\u001b[1;32m     19\u001b[0m             \u001b[0;32mif\u001b[0m \u001b[0mself\u001b[0m\u001b[0;34m.\u001b[0m\u001b[0muse_master_node\u001b[0m\u001b[0;34m:\u001b[0m\u001b[0;34m\u001b[0m\u001b[0;34m\u001b[0m\u001b[0m\n\u001b[0;32m---> 20\u001b[0;31m                 \u001b[0mm\u001b[0m\u001b[0;34m,\u001b[0m \u001b[0mm_m\u001b[0m \u001b[0;34m=\u001b[0m \u001b[0mself\u001b[0m\u001b[0;34m.\u001b[0m\u001b[0mM\u001b[0m\u001b[0;34m(\u001b[0m\u001b[0mh\u001b[0m\u001b[0;34m,\u001b[0m \u001b[0me\u001b[0m\u001b[0;34m,\u001b[0m \u001b[0mmask\u001b[0m\u001b[0;34m,\u001b[0m \u001b[0mpairs_idx\u001b[0m\u001b[0;34m,\u001b[0m \u001b[0medge_mask\u001b[0m\u001b[0;34m,\u001b[0m \u001b[0mh_m\u001b[0m\u001b[0;34m,\u001b[0m \u001b[0me_m\u001b[0m\u001b[0;34m)\u001b[0m\u001b[0;34m\u001b[0m\u001b[0;34m\u001b[0m\u001b[0m\n\u001b[0m\u001b[1;32m     21\u001b[0m                 \u001b[0mh\u001b[0m \u001b[0;34m=\u001b[0m \u001b[0mself\u001b[0m\u001b[0;34m.\u001b[0m\u001b[0mU\u001b[0m\u001b[0;34m(\u001b[0m\u001b[0mm\u001b[0m\u001b[0;34m,\u001b[0m \u001b[0mh\u001b[0m\u001b[0;34m,\u001b[0m \u001b[0mmask\u001b[0m\u001b[0;34m)\u001b[0m\u001b[0;34m\u001b[0m\u001b[0;34m\u001b[0m\u001b[0m\n\u001b[1;32m     22\u001b[0m                 \u001b[0mh_m\u001b[0m \u001b[0;34m=\u001b[0m \u001b[0mself\u001b[0m\u001b[0;34m.\u001b[0m\u001b[0mU_m\u001b[0m\u001b[0;34m(\u001b[0m\u001b[0mm_m\u001b[0m\u001b[0;34m.\u001b[0m\u001b[0munsqueeze\u001b[0m\u001b[0;34m(\u001b[0m\u001b[0;36m1\u001b[0m\u001b[0;34m)\u001b[0m\u001b[0;34m,\u001b[0m \u001b[0mh_m\u001b[0m\u001b[0;34m.\u001b[0m\u001b[0munsqueeze\u001b[0m\u001b[0;34m(\u001b[0m\u001b[0;36m1\u001b[0m\u001b[0;34m)\u001b[0m\u001b[0;34m,\u001b[0m \u001b[0mtorch\u001b[0m\u001b[0;34m.\u001b[0m\u001b[0mones\u001b[0m\u001b[0;34m(\u001b[0m\u001b[0;36m1\u001b[0m\u001b[0;34m,\u001b[0m\u001b[0;36m1\u001b[0m\u001b[0;34m)\u001b[0m\u001b[0;34m)\u001b[0m\u001b[0;34m.\u001b[0m\u001b[0msqueeze\u001b[0m\u001b[0;34m(\u001b[0m\u001b[0;36m1\u001b[0m\u001b[0;34m)\u001b[0m\u001b[0;34m\u001b[0m\u001b[0;34m\u001b[0m\u001b[0m\n",
      "\u001b[0;32m/opt/conda/envs/fastai/lib/python3.6/site-packages/torch/nn/modules/module.py\u001b[0m in \u001b[0;36m__call__\u001b[0;34m(self, *input, **kwargs)\u001b[0m\n\u001b[1;32m    491\u001b[0m             \u001b[0mresult\u001b[0m \u001b[0;34m=\u001b[0m \u001b[0mself\u001b[0m\u001b[0;34m.\u001b[0m\u001b[0m_slow_forward\u001b[0m\u001b[0;34m(\u001b[0m\u001b[0;34m*\u001b[0m\u001b[0minput\u001b[0m\u001b[0;34m,\u001b[0m \u001b[0;34m**\u001b[0m\u001b[0mkwargs\u001b[0m\u001b[0;34m)\u001b[0m\u001b[0;34m\u001b[0m\u001b[0;34m\u001b[0m\u001b[0m\n\u001b[1;32m    492\u001b[0m         \u001b[0;32melse\u001b[0m\u001b[0;34m:\u001b[0m\u001b[0;34m\u001b[0m\u001b[0;34m\u001b[0m\u001b[0m\n\u001b[0;32m--> 493\u001b[0;31m             \u001b[0mresult\u001b[0m \u001b[0;34m=\u001b[0m \u001b[0mself\u001b[0m\u001b[0;34m.\u001b[0m\u001b[0mforward\u001b[0m\u001b[0;34m(\u001b[0m\u001b[0;34m*\u001b[0m\u001b[0minput\u001b[0m\u001b[0;34m,\u001b[0m \u001b[0;34m**\u001b[0m\u001b[0mkwargs\u001b[0m\u001b[0;34m)\u001b[0m\u001b[0;34m\u001b[0m\u001b[0;34m\u001b[0m\u001b[0m\n\u001b[0m\u001b[1;32m    494\u001b[0m         \u001b[0;32mfor\u001b[0m \u001b[0mhook\u001b[0m \u001b[0;32min\u001b[0m \u001b[0mself\u001b[0m\u001b[0;34m.\u001b[0m\u001b[0m_forward_hooks\u001b[0m\u001b[0;34m.\u001b[0m\u001b[0mvalues\u001b[0m\u001b[0;34m(\u001b[0m\u001b[0;34m)\u001b[0m\u001b[0;34m:\u001b[0m\u001b[0;34m\u001b[0m\u001b[0;34m\u001b[0m\u001b[0m\n\u001b[1;32m    495\u001b[0m             \u001b[0mhook_result\u001b[0m \u001b[0;34m=\u001b[0m \u001b[0mhook\u001b[0m\u001b[0;34m(\u001b[0m\u001b[0mself\u001b[0m\u001b[0;34m,\u001b[0m \u001b[0minput\u001b[0m\u001b[0;34m,\u001b[0m \u001b[0mresult\u001b[0m\u001b[0;34m)\u001b[0m\u001b[0;34m\u001b[0m\u001b[0;34m\u001b[0m\u001b[0m\n",
      "\u001b[0;32m<ipython-input-61-24023d0184b1>\u001b[0m in \u001b[0;36mforward\u001b[0;34m(self, h, e, mask, pairs_idx, edge_mask, h_m, e_m)\u001b[0m\n\u001b[1;32m     85\u001b[0m                                                  \u001b[0mn_nodes_per_graph\u001b[0m\u001b[0;34m[\u001b[0m\u001b[0;34m:\u001b[0m\u001b[0;34m-\u001b[0m\u001b[0;36m1\u001b[0m\u001b[0;34m]\u001b[0m\u001b[0;34m.\u001b[0m\u001b[0mcumsum\u001b[0m\u001b[0;34m(\u001b[0m\u001b[0mdim\u001b[0m\u001b[0;34m=\u001b[0m\u001b[0;36m0\u001b[0m\u001b[0;34m)\u001b[0m\u001b[0;34m\u001b[0m\u001b[0;34m\u001b[0m\u001b[0m\n\u001b[1;32m     86\u001b[0m                                              ])).unsqueeze(-1).expand(-1, n_edges)\n\u001b[0;32m---> 87\u001b[0;31m             \u001b[0mm_stacked\u001b[0m \u001b[0;34m=\u001b[0m \u001b[0msegment_sum\u001b[0m\u001b[0;34m(\u001b[0m\u001b[0mah\u001b[0m\u001b[0;34m,\u001b[0m \u001b[0munique_idx\u001b[0m\u001b[0;34m[\u001b[0m\u001b[0medge_mask_\u001b[0m\u001b[0;34m]\u001b[0m\u001b[0;34m)\u001b[0m\u001b[0;34m\u001b[0m\u001b[0;34m\u001b[0m\u001b[0m\n\u001b[0m\u001b[1;32m     88\u001b[0m \u001b[0;34m\u001b[0m\u001b[0m\n\u001b[1;32m     89\u001b[0m             \u001b[0mm_per_graph_lst\u001b[0m \u001b[0;34m=\u001b[0m \u001b[0mtorch\u001b[0m\u001b[0;34m.\u001b[0m\u001b[0msplit\u001b[0m\u001b[0;34m(\u001b[0m\u001b[0mm_stacked\u001b[0m\u001b[0;34m,\u001b[0m \u001b[0mn_nodes_per_graph\u001b[0m\u001b[0;34m.\u001b[0m\u001b[0mtolist\u001b[0m\u001b[0;34m(\u001b[0m\u001b[0;34m)\u001b[0m\u001b[0;34m)\u001b[0m\u001b[0;34m\u001b[0m\u001b[0;34m\u001b[0m\u001b[0m\n",
      "\u001b[0;32m<ipython-input-61-24023d0184b1>\u001b[0m in \u001b[0;36msegment_sum\u001b[0;34m(data, segment_ids)\u001b[0m\n\u001b[1;32m     12\u001b[0m     \u001b[0;32mif\u001b[0m \u001b[0mlen\u001b[0m\u001b[0;34m(\u001b[0m\u001b[0msegment_ids\u001b[0m\u001b[0;34m.\u001b[0m\u001b[0mshape\u001b[0m\u001b[0;34m)\u001b[0m \u001b[0;34m==\u001b[0m \u001b[0;36m1\u001b[0m\u001b[0;34m:\u001b[0m\u001b[0;34m\u001b[0m\u001b[0;34m\u001b[0m\u001b[0m\n\u001b[1;32m     13\u001b[0m         \u001b[0ms\u001b[0m \u001b[0;34m=\u001b[0m \u001b[0mtorch\u001b[0m\u001b[0;34m.\u001b[0m\u001b[0mprod\u001b[0m\u001b[0;34m(\u001b[0m\u001b[0mtorch\u001b[0m\u001b[0;34m.\u001b[0m\u001b[0mtensor\u001b[0m\u001b[0;34m(\u001b[0m\u001b[0mdata\u001b[0m\u001b[0;34m.\u001b[0m\u001b[0mshape\u001b[0m\u001b[0;34m[\u001b[0m\u001b[0;36m1\u001b[0m\u001b[0;34m:\u001b[0m\u001b[0;34m]\u001b[0m\u001b[0;34m)\u001b[0m\u001b[0;34m)\u001b[0m\u001b[0;34m.\u001b[0m\u001b[0mlong\u001b[0m\u001b[0;34m(\u001b[0m\u001b[0;34m)\u001b[0m\u001b[0;34m\u001b[0m\u001b[0;34m\u001b[0m\u001b[0m\n\u001b[0;32m---> 14\u001b[0;31m         \u001b[0msegment_ids\u001b[0m \u001b[0;34m=\u001b[0m \u001b[0msegment_ids\u001b[0m\u001b[0;34m.\u001b[0m\u001b[0mrepeat_interleave\u001b[0m\u001b[0;34m(\u001b[0m\u001b[0ms\u001b[0m\u001b[0;34m)\u001b[0m\u001b[0;34m.\u001b[0m\u001b[0mview\u001b[0m\u001b[0;34m(\u001b[0m\u001b[0msegment_ids\u001b[0m\u001b[0;34m.\u001b[0m\u001b[0mshape\u001b[0m\u001b[0;34m[\u001b[0m\u001b[0;36m0\u001b[0m\u001b[0;34m]\u001b[0m\u001b[0;34m,\u001b[0m \u001b[0;34m*\u001b[0m\u001b[0mdata\u001b[0m\u001b[0;34m.\u001b[0m\u001b[0mshape\u001b[0m\u001b[0;34m[\u001b[0m\u001b[0;36m1\u001b[0m\u001b[0;34m:\u001b[0m\u001b[0;34m]\u001b[0m\u001b[0;34m)\u001b[0m\u001b[0;34m\u001b[0m\u001b[0;34m\u001b[0m\u001b[0m\n\u001b[0m\u001b[1;32m     15\u001b[0m \u001b[0;34m\u001b[0m\u001b[0m\n\u001b[1;32m     16\u001b[0m     \u001b[0;32massert\u001b[0m \u001b[0mdata\u001b[0m\u001b[0;34m.\u001b[0m\u001b[0mshape\u001b[0m \u001b[0;34m==\u001b[0m \u001b[0msegment_ids\u001b[0m\u001b[0;34m.\u001b[0m\u001b[0mshape\u001b[0m\u001b[0;34m,\u001b[0m \u001b[0;34m\"data.shape and segment_ids.shape should be equal\"\u001b[0m\u001b[0;34m\u001b[0m\u001b[0;34m\u001b[0m\u001b[0m\n",
      "\u001b[0;31mRuntimeError\u001b[0m: Expected object of backend CUDA but got backend CPU for argument #3 'index'"
     ]
    }
   ],
   "source": [
    "pred, _ = learn.get_preds()\n",
    "pred_test, _ = learn.get_preds(DatasetType.Test)"
   ]
  },
  {
   "cell_type": "code",
   "execution_count": null,
   "metadata": {},
   "outputs": [],
   "source": []
  }
 ],
 "metadata": {
  "kernelspec": {
   "display_name": "Python 3",
   "language": "python",
   "name": "python3"
  },
  "language_info": {
   "codemirror_mode": {
    "name": "ipython",
    "version": 3
   },
   "file_extension": ".py",
   "mimetype": "text/x-python",
   "name": "python",
   "nbconvert_exporter": "python",
   "pygments_lexer": "ipython3",
   "version": "3.6.8"
  }
 },
 "nbformat": 4,
 "nbformat_minor": 2
}
