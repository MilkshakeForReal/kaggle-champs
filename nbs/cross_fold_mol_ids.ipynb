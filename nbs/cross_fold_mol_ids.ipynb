{
 "cells": [
  {
   "cell_type": "code",
   "execution_count": 107,
   "metadata": {},
   "outputs": [],
   "source": [
    "import pandas as pd\n",
    "import numpy as np\n",
    "import random\n",
    "\n",
    "from sklearn.model_selection import KFold"
   ]
  },
  {
   "cell_type": "code",
   "execution_count": 108,
   "metadata": {},
   "outputs": [],
   "source": [
    "N_FOLDS = 4"
   ]
  },
  {
   "cell_type": "code",
   "execution_count": 109,
   "metadata": {},
   "outputs": [],
   "source": [
    "DATA_PATH = '../data/'\n",
    "PATH = '../tmp/'"
   ]
  },
  {
   "cell_type": "code",
   "execution_count": 110,
   "metadata": {},
   "outputs": [
    {
     "name": "stderr",
     "output_type": "stream",
     "text": [
      "/anaconda2/envs/python36/lib/python3.6/site-packages/numpy/lib/arraysetops.py:522: FutureWarning: elementwise comparison failed; returning scalar instead, but in the future will perform elementwise comparison\n",
      "  mask |= (ar1 == a)\n"
     ]
    }
   ],
   "source": [
    "train_df = pd.read_csv(PATH+'train_proc_df.csv', index_col=0)"
   ]
  },
  {
   "cell_type": "code",
   "execution_count": 111,
   "metadata": {},
   "outputs": [],
   "source": [
    "type_cols = ['type_0', 'type_1', 'type_2', 'type_3', 'type_4', 'type_5', 'type_6', 'type_7']\n",
    "types_per_mol_id = train_df.groupby('molecule_id')[type_cols].sum()"
   ]
  },
  {
   "cell_type": "code",
   "execution_count": 112,
   "metadata": {
    "scrolled": true
   },
   "outputs": [
    {
     "data": {
      "text/plain": [
       "type_0    0.152296\n",
       "type_1    0.081156\n",
       "type_2    0.009309\n",
       "type_3    0.025601\n",
       "type_4    0.244877\n",
       "type_5    0.126791\n",
       "type_6    0.324245\n",
       "type_7    0.035726\n",
       "dtype: float64"
      ]
     },
     "execution_count": 112,
     "metadata": {},
     "output_type": "execute_result"
    }
   ],
   "source": [
    "(types_per_mol_id.sum() / types_per_mol_id.sum().sum())"
   ]
  },
  {
   "cell_type": "code",
   "execution_count": 113,
   "metadata": {},
   "outputs": [],
   "source": [
    "mol_ids = train_df['molecule_id'].unique()"
   ]
  },
  {
   "cell_type": "code",
   "execution_count": 114,
   "metadata": {},
   "outputs": [],
   "source": [
    "folds = KFold(N_FOLDS, shuffle=True, random_state=100).split(mol_ids)\n",
    "folds = [(pd.Series(mol_ids[f[0]]), pd.Series(mol_ids[f[1]])) for f in folds]\n",
    "train_idxs = pd.concat([f[0] for f in folds], axis=1)#.dropna().astype(int)\n",
    "val_idxs = pd.concat([f[1] for f in folds], axis=1)#.dropna().astype(int)"
   ]
  },
  {
   "cell_type": "code",
   "execution_count": 115,
   "metadata": {
    "scrolled": true
   },
   "outputs": [
    {
     "name": "stdout",
     "output_type": "stream",
     "text": [
      "fold 0\n",
      "train: \n",
      "type_0    0.152227\n",
      "type_1    0.081123\n",
      "type_2    0.009284\n",
      "type_3    0.025594\n",
      "type_4    0.244877\n",
      "type_5    0.126880\n",
      "type_6    0.324319\n",
      "type_7    0.035696\n",
      "dtype: float64\n",
      "val: \n",
      "type_0    0.152504\n",
      "type_1    0.081256\n",
      "type_2    0.009383\n",
      "type_3    0.025621\n",
      "type_4    0.244877\n",
      "type_5    0.126524\n",
      "type_6    0.324019\n",
      "type_7    0.035816\n",
      "dtype: float64\n",
      "fold 1\n",
      "train: \n",
      "type_0    0.152331\n",
      "type_1    0.081155\n",
      "type_2    0.009297\n",
      "type_3    0.025642\n",
      "type_4    0.244843\n",
      "type_5    0.126885\n",
      "type_6    0.324213\n",
      "type_7    0.035633\n",
      "dtype: float64\n",
      "val: \n",
      "type_0    0.152190\n",
      "type_1    0.081157\n",
      "type_2    0.009346\n",
      "type_3    0.025476\n",
      "type_4    0.244979\n",
      "type_5    0.126509\n",
      "type_6    0.324340\n",
      "type_7    0.036002\n",
      "dtype: float64\n",
      "fold 2\n",
      "train: \n",
      "type_0    0.152302\n",
      "type_1    0.081145\n",
      "type_2    0.009292\n",
      "type_3    0.025583\n",
      "type_4    0.244930\n",
      "type_5    0.126753\n",
      "type_6    0.324218\n",
      "type_7    0.035777\n",
      "dtype: float64\n",
      "val: \n",
      "type_0    0.152276\n",
      "type_1    0.081190\n",
      "type_2    0.009361\n",
      "type_3    0.025654\n",
      "type_4    0.244718\n",
      "type_5    0.126906\n",
      "type_6    0.324326\n",
      "type_7    0.035570\n",
      "dtype: float64\n",
      "fold 3\n",
      "train: \n",
      "type_0    0.152323\n",
      "type_1    0.081201\n",
      "type_2    0.009364\n",
      "type_3    0.025584\n",
      "type_4    0.244858\n",
      "type_5    0.126646\n",
      "type_6    0.324229\n",
      "type_7    0.035796\n",
      "dtype: float64\n",
      "val: \n",
      "type_0    0.152215\n",
      "type_1    0.081022\n",
      "type_2    0.009146\n",
      "type_3    0.025652\n",
      "type_4    0.244935\n",
      "type_5    0.127223\n",
      "type_6    0.324292\n",
      "type_7    0.035515\n",
      "dtype: float64\n"
     ]
    },
    {
     "name": "stderr",
     "output_type": "stream",
     "text": [
      "/anaconda2/envs/python36/lib/python3.6/site-packages/ipykernel_launcher.py:3: FutureWarning: \n",
      "Passing list-likes to .loc or [] with any missing label will raise\n",
      "KeyError in the future, you can use .reindex() as an alternative.\n",
      "\n",
      "See the documentation here:\n",
      "https://pandas.pydata.org/pandas-docs/stable/indexing.html#deprecate-loc-reindex-listlike\n",
      "  This is separate from the ipykernel package so we can avoid doing imports until\n",
      "/anaconda2/envs/python36/lib/python3.6/site-packages/ipykernel_launcher.py:6: FutureWarning: \n",
      "Passing list-likes to .loc or [] with any missing label will raise\n",
      "KeyError in the future, you can use .reindex() as an alternative.\n",
      "\n",
      "See the documentation here:\n",
      "https://pandas.pydata.org/pandas-docs/stable/indexing.html#deprecate-loc-reindex-listlike\n",
      "  \n"
     ]
    }
   ],
   "source": [
    "for i in range(N_FOLDS):\n",
    "    print(f'fold {i}')\n",
    "    types_per_mol_id_ = types_per_mol_id.loc[train_idxs[i]]\n",
    "    print('train: ')\n",
    "    print((types_per_mol_id_.sum() / types_per_mol_id_.sum().sum()))\n",
    "    types_per_mol_id_ = types_per_mol_id.loc[val_idxs[i]]\n",
    "    print('val: ')\n",
    "    print((types_per_mol_id_.sum() / types_per_mol_id_.sum().sum()))"
   ]
  },
  {
   "cell_type": "code",
   "execution_count": 116,
   "metadata": {},
   "outputs": [],
   "source": [
    "train_idxs.to_csv(f'{PATH}train_idxs_{N_FOLDS}_fold_cv.csv')\n",
    "val_idxs.to_csv(f'{PATH}val_idxs_{N_FOLDS}_fold_cv.csv')"
   ]
  },
  {
   "cell_type": "code",
   "execution_count": null,
   "metadata": {},
   "outputs": [],
   "source": []
  }
 ],
 "metadata": {
  "kernelspec": {
   "display_name": "Python 3",
   "language": "python",
   "name": "python3"
  },
  "language_info": {
   "codemirror_mode": {
    "name": "ipython",
    "version": 3
   },
   "file_extension": ".py",
   "mimetype": "text/x-python",
   "name": "python",
   "nbconvert_exporter": "python",
   "pygments_lexer": "ipython3",
   "version": "3.6.8"
  }
 },
 "nbformat": 4,
 "nbformat_minor": 2
}
