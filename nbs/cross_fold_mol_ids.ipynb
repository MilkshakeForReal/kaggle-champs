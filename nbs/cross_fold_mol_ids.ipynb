{
 "cells": [
  {
   "cell_type": "code",
   "execution_count": 1,
   "metadata": {},
   "outputs": [],
   "source": [
    "import pandas as pd\n",
    "import numpy as np\n",
    "import random\n",
    "\n",
    "from sklearn.model_selection import KFold"
   ]
  },
  {
   "cell_type": "code",
   "execution_count": 2,
   "metadata": {},
   "outputs": [],
   "source": [
    "N_FOLDS = 8"
   ]
  },
  {
   "cell_type": "code",
   "execution_count": 3,
   "metadata": {},
   "outputs": [],
   "source": [
    "DATA_PATH = '../data/'\n",
    "PATH = '../tmp/'"
   ]
  },
  {
   "cell_type": "code",
   "execution_count": 4,
   "metadata": {},
   "outputs": [
    {
     "name": "stderr",
     "output_type": "stream",
     "text": [
      "/anaconda2/envs/python36/lib/python3.6/site-packages/numpy/lib/arraysetops.py:522: FutureWarning: elementwise comparison failed; returning scalar instead, but in the future will perform elementwise comparison\n",
      "  mask |= (ar1 == a)\n"
     ]
    }
   ],
   "source": [
    "train_df = pd.read_csv(PATH+'train_proc_df.csv', index_col=0)"
   ]
  },
  {
   "cell_type": "code",
   "execution_count": 5,
   "metadata": {},
   "outputs": [],
   "source": [
    "type_cols = ['type_0', 'type_1', 'type_2', 'type_3', 'type_4', 'type_5', 'type_6', 'type_7']\n",
    "types_per_mol_id = train_df.groupby('molecule_id')[type_cols].sum()"
   ]
  },
  {
   "cell_type": "code",
   "execution_count": 6,
   "metadata": {
    "scrolled": true
   },
   "outputs": [
    {
     "data": {
      "text/plain": [
       "type_0    0.152296\n",
       "type_1    0.081156\n",
       "type_2    0.009309\n",
       "type_3    0.025601\n",
       "type_4    0.244877\n",
       "type_5    0.126791\n",
       "type_6    0.324245\n",
       "type_7    0.035726\n",
       "dtype: float64"
      ]
     },
     "execution_count": 6,
     "metadata": {},
     "output_type": "execute_result"
    }
   ],
   "source": [
    "(types_per_mol_id.sum() / types_per_mol_id.sum().sum())"
   ]
  },
  {
   "cell_type": "code",
   "execution_count": 7,
   "metadata": {},
   "outputs": [],
   "source": [
    "mol_ids = train_df['molecule_id'].unique()"
   ]
  },
  {
   "cell_type": "code",
   "execution_count": 8,
   "metadata": {},
   "outputs": [],
   "source": [
    "folds = KFold(N_FOLDS, shuffle=True, random_state=100).split(mol_ids)\n",
    "folds = [(pd.Series(mol_ids[f[0]]), pd.Series(mol_ids[f[1]])) for f in folds]\n",
    "train_idxs = pd.concat([f[0] for f in folds], axis=1)#.dropna().astype(int)\n",
    "val_idxs = pd.concat([f[1] for f in folds], axis=1)#.dropna().astype(int)"
   ]
  },
  {
   "cell_type": "code",
   "execution_count": 9,
   "metadata": {
    "scrolled": true
   },
   "outputs": [
    {
     "name": "stdout",
     "output_type": "stream",
     "text": [
      "fold 0\n",
      "train: \n",
      "type_0    0.152267\n",
      "type_1    0.081159\n",
      "type_2    0.009320\n",
      "type_3    0.025628\n",
      "type_4    0.244846\n",
      "type_5    0.126804\n",
      "type_6    0.324247\n",
      "type_7    0.035730\n",
      "dtype: float64\n",
      "val: \n",
      "type_0    0.152498\n",
      "type_1    0.081136\n",
      "type_2    0.009235\n",
      "type_3    0.025411\n",
      "type_4    0.245095\n",
      "type_5    0.126702\n",
      "type_6    0.324228\n",
      "type_7    0.035695\n",
      "dtype: float64\n",
      "fold 1\n",
      "train: \n",
      "type_0    0.152266\n",
      "type_1    0.081125\n",
      "type_2    0.009278\n",
      "type_3    0.025569\n",
      "type_4    0.244908\n",
      "type_5    0.126855\n",
      "type_6    0.324304\n",
      "type_7    0.035696\n",
      "dtype: float64\n",
      "val: \n",
      "type_0    0.152508\n",
      "type_1    0.081373\n",
      "type_2    0.009530\n",
      "type_3    0.025827\n",
      "type_4    0.244664\n",
      "type_5    0.126337\n",
      "type_6    0.323828\n",
      "type_7    0.035932\n",
      "dtype: float64\n",
      "fold 2\n",
      "train: \n",
      "type_0    0.152352\n",
      "type_1    0.081190\n",
      "type_2    0.009305\n",
      "type_3    0.025626\n",
      "type_4    0.244827\n",
      "type_5    0.126833\n",
      "type_6    0.324178\n",
      "type_7    0.035689\n",
      "dtype: float64\n",
      "val: \n",
      "type_0    0.151901\n",
      "type_1    0.080914\n",
      "type_2    0.009338\n",
      "type_3    0.025428\n",
      "type_4    0.245225\n",
      "type_5    0.126500\n",
      "type_6    0.324711\n",
      "type_7    0.035984\n",
      "dtype: float64\n",
      "fold 3\n",
      "train: \n",
      "type_0    0.152270\n",
      "type_1    0.081121\n",
      "type_2    0.009303\n",
      "type_3    0.025612\n",
      "type_4    0.244899\n",
      "type_5    0.126831\n",
      "type_6    0.324282\n",
      "type_7    0.035684\n",
      "dtype: float64\n",
      "val: \n",
      "type_0    0.152478\n",
      "type_1    0.081404\n",
      "type_2    0.009355\n",
      "type_3    0.025524\n",
      "type_4    0.244723\n",
      "type_5    0.126512\n",
      "type_6    0.323984\n",
      "type_7    0.036020\n",
      "dtype: float64\n",
      "fold 4\n",
      "train: \n",
      "type_0    0.152328\n",
      "type_1    0.081156\n",
      "type_2    0.009280\n",
      "type_3    0.025566\n",
      "type_4    0.244964\n",
      "type_5    0.126869\n",
      "type_6    0.324138\n",
      "type_7    0.035701\n",
      "dtype: float64\n"
     ]
    },
    {
     "name": "stderr",
     "output_type": "stream",
     "text": [
      "/anaconda2/envs/python36/lib/python3.6/site-packages/ipykernel_launcher.py:3: FutureWarning: \n",
      "Passing list-likes to .loc or [] with any missing label will raise\n",
      "KeyError in the future, you can use .reindex() as an alternative.\n",
      "\n",
      "See the documentation here:\n",
      "https://pandas.pydata.org/pandas-docs/stable/indexing.html#deprecate-loc-reindex-listlike\n",
      "  This is separate from the ipykernel package so we can avoid doing imports until\n",
      "/anaconda2/envs/python36/lib/python3.6/site-packages/ipykernel_launcher.py:6: FutureWarning: \n",
      "Passing list-likes to .loc or [] with any missing label will raise\n",
      "KeyError in the future, you can use .reindex() as an alternative.\n",
      "\n",
      "See the documentation here:\n",
      "https://pandas.pydata.org/pandas-docs/stable/indexing.html#deprecate-loc-reindex-listlike\n",
      "  \n"
     ]
    },
    {
     "name": "stdout",
     "output_type": "stream",
     "text": [
      "val: \n",
      "type_0    0.152074\n",
      "type_1    0.081157\n",
      "type_2    0.009514\n",
      "type_3    0.025846\n",
      "type_4    0.244273\n",
      "type_5    0.126248\n",
      "type_6    0.324988\n",
      "type_7    0.035899\n",
      "dtype: float64\n",
      "fold 5\n",
      "train: \n",
      "type_0    0.152269\n",
      "type_1    0.081146\n",
      "type_2    0.009323\n",
      "type_3    0.025620\n",
      "type_4    0.244836\n",
      "type_5    0.126678\n",
      "type_6    0.324333\n",
      "type_7    0.035794\n",
      "dtype: float64\n",
      "val: \n",
      "type_0    0.152482\n",
      "type_1    0.081222\n",
      "type_2    0.009209\n",
      "type_3    0.025465\n",
      "type_4    0.245169\n",
      "type_5    0.127579\n",
      "type_6    0.323627\n",
      "type_7    0.035247\n",
      "dtype: float64\n",
      "fold 6\n",
      "train: \n",
      "type_0    0.152311\n",
      "type_1    0.081184\n",
      "type_2    0.009333\n",
      "type_3    0.025596\n",
      "type_4    0.244881\n",
      "type_5    0.126798\n",
      "type_6    0.324117\n",
      "type_7    0.035781\n",
      "dtype: float64\n",
      "val: \n",
      "type_0    0.152191\n",
      "type_1    0.080959\n",
      "type_2    0.009145\n",
      "type_3    0.025634\n",
      "type_4    0.244853\n",
      "type_5    0.126740\n",
      "type_6    0.325138\n",
      "type_7    0.035340\n",
      "dtype: float64\n",
      "fold 7\n",
      "train: \n",
      "type_0    0.152304\n",
      "type_1    0.081166\n",
      "type_2    0.009332\n",
      "type_3    0.025591\n",
      "type_4    0.244857\n",
      "type_5    0.126660\n",
      "type_6    0.324359\n",
      "type_7    0.035731\n",
      "dtype: float64\n",
      "val: \n",
      "type_0    0.152238\n",
      "type_1    0.081084\n",
      "type_2    0.009148\n",
      "type_3    0.025670\n",
      "type_4    0.245016\n",
      "type_5    0.127705\n",
      "type_6    0.323449\n",
      "type_7    0.035690\n",
      "dtype: float64\n"
     ]
    }
   ],
   "source": [
    "for i in range(N_FOLDS):\n",
    "    print(f'fold {i}')\n",
    "    types_per_mol_id_ = types_per_mol_id.loc[train_idxs[i]]\n",
    "    print('train: ')\n",
    "    print((types_per_mol_id_.sum() / types_per_mol_id_.sum().sum()))\n",
    "    types_per_mol_id_ = types_per_mol_id.loc[val_idxs[i]]\n",
    "    print('val: ')\n",
    "    print((types_per_mol_id_.sum() / types_per_mol_id_.sum().sum()))"
   ]
  },
  {
   "cell_type": "code",
   "execution_count": 10,
   "metadata": {},
   "outputs": [],
   "source": [
    "train_idxs.to_csv(f'{PATH}train_idxs_{N_FOLDS}_fold_cv.csv')\n",
    "val_idxs.to_csv(f'{PATH}val_idxs_{N_FOLDS}_fold_cv.csv')"
   ]
  },
  {
   "cell_type": "code",
   "execution_count": null,
   "metadata": {},
   "outputs": [],
   "source": []
  }
 ],
 "metadata": {
  "kernelspec": {
   "display_name": "Python 3",
   "language": "python",
   "name": "python3"
  },
  "language_info": {
   "codemirror_mode": {
    "name": "ipython",
    "version": 3
   },
   "file_extension": ".py",
   "mimetype": "text/x-python",
   "name": "python",
   "nbconvert_exporter": "python",
   "pygments_lexer": "ipython3",
   "version": "3.6.8"
  }
 },
 "nbformat": 4,
 "nbformat_minor": 2
}
