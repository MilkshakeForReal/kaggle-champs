{
 "cells": [
  {
   "cell_type": "code",
   "execution_count": 27,
   "metadata": {},
   "outputs": [],
   "source": [
    "import numpy as np\n",
    "import pandas as pd"
   ]
  },
  {
   "cell_type": "code",
   "execution_count": 28,
   "metadata": {},
   "outputs": [],
   "source": [
    "TARGET_COL = 'scalar_coupling_constant'\n",
    "SUB_NAME = 'mixt_mpnn_v2_moltrans_v1_3folds'\n",
    "PATH = '../tmp/'\n",
    "SUB_PATH = '../submissions/'\n",
    "OOF_PATH = '../oofs/'"
   ]
  },
  {
   "cell_type": "code",
   "execution_count": 29,
   "metadata": {},
   "outputs": [
    {
     "name": "stderr",
     "output_type": "stream",
     "text": [
      "/anaconda2/envs/python36/lib/python3.6/site-packages/numpy/lib/arraysetops.py:522: FutureWarning: elementwise comparison failed; returning scalar instead, but in the future will perform elementwise comparison\n",
      "  mask |= (ar1 == a)\n"
     ]
    }
   ],
   "source": [
    "train_df = pd.read_csv(PATH+'train_proc_df.csv', index_col=0)\n",
    "val_idxs = pd.read_csv(PATH+'val_idxs_8_fold_cv.csv', index_col=0)"
   ]
  },
  {
   "cell_type": "code",
   "execution_count": 30,
   "metadata": {
    "scrolled": true
   },
   "outputs": [
    {
     "name": "stderr",
     "output_type": "stream",
     "text": [
      "/anaconda2/envs/python36/lib/python3.6/site-packages/numpy/lib/arraysetops.py:522: FutureWarning: elementwise comparison failed; returning scalar instead, but in the future will perform elementwise comparison\n",
      "  mask |= (ar1 == a)\n"
     ]
    }
   ],
   "source": [
    "sub_files = ['mol_transformer_dropout01_v1_fold1-submission', \n",
    "             'mol_transformer_v1_fold1-submission',\n",
    "             'mol_transformer_v1_fold2-submission',\n",
    "             'mol_transformer_v1_fold3-submission',\n",
    "             'mpnn-v2-submission'\n",
    "            ]\n",
    "preds = pd.concat([pd.read_csv(SUB_PATH+f+'.csv', index_col=0) for f in sub_files], axis=1)"
   ]
  },
  {
   "cell_type": "code",
   "execution_count": 31,
   "metadata": {},
   "outputs": [
    {
     "data": {
      "text/html": [
       "<div>\n",
       "<style scoped>\n",
       "    .dataframe tbody tr th:only-of-type {\n",
       "        vertical-align: middle;\n",
       "    }\n",
       "\n",
       "    .dataframe tbody tr th {\n",
       "        vertical-align: top;\n",
       "    }\n",
       "\n",
       "    .dataframe thead th {\n",
       "        text-align: right;\n",
       "    }\n",
       "</style>\n",
       "<table border=\"1\" class=\"dataframe\">\n",
       "  <thead>\n",
       "    <tr style=\"text-align: right;\">\n",
       "      <th></th>\n",
       "      <th>scalar_coupling_constant</th>\n",
       "      <th>scalar_coupling_constant</th>\n",
       "      <th>scalar_coupling_constant</th>\n",
       "      <th>scalar_coupling_constant</th>\n",
       "      <th>scalar_coupling_constant</th>\n",
       "    </tr>\n",
       "    <tr>\n",
       "      <th>id</th>\n",
       "      <th></th>\n",
       "      <th></th>\n",
       "      <th></th>\n",
       "      <th></th>\n",
       "      <th></th>\n",
       "    </tr>\n",
       "  </thead>\n",
       "  <tbody>\n",
       "    <tr>\n",
       "      <th>4658147</th>\n",
       "      <td>13.284237</td>\n",
       "      <td>17.397339</td>\n",
       "      <td>18.553896</td>\n",
       "      <td>20.341736</td>\n",
       "      <td>15.146106</td>\n",
       "    </tr>\n",
       "    <tr>\n",
       "      <th>4658148</th>\n",
       "      <td>175.875340</td>\n",
       "      <td>174.604720</td>\n",
       "      <td>190.257780</td>\n",
       "      <td>183.075060</td>\n",
       "      <td>189.054861</td>\n",
       "    </tr>\n",
       "    <tr>\n",
       "      <th>4658149</th>\n",
       "      <td>0.993330</td>\n",
       "      <td>3.171642</td>\n",
       "      <td>3.578642</td>\n",
       "      <td>5.365023</td>\n",
       "      <td>1.804049</td>\n",
       "    </tr>\n",
       "    <tr>\n",
       "      <th>4658150</th>\n",
       "      <td>174.627170</td>\n",
       "      <td>178.436360</td>\n",
       "      <td>192.943820</td>\n",
       "      <td>182.046650</td>\n",
       "      <td>189.054860</td>\n",
       "    </tr>\n",
       "    <tr>\n",
       "      <th>4658151</th>\n",
       "      <td>14.346939</td>\n",
       "      <td>16.862960</td>\n",
       "      <td>18.965857</td>\n",
       "      <td>19.822737</td>\n",
       "      <td>15.146106</td>\n",
       "    </tr>\n",
       "  </tbody>\n",
       "</table>\n",
       "</div>"
      ],
      "text/plain": [
       "         scalar_coupling_constant  scalar_coupling_constant  \\\n",
       "id                                                            \n",
       "4658147                 13.284237                 17.397339   \n",
       "4658148                175.875340                174.604720   \n",
       "4658149                  0.993330                  3.171642   \n",
       "4658150                174.627170                178.436360   \n",
       "4658151                 14.346939                 16.862960   \n",
       "\n",
       "         scalar_coupling_constant  scalar_coupling_constant  \\\n",
       "id                                                            \n",
       "4658147                 18.553896                 20.341736   \n",
       "4658148                190.257780                183.075060   \n",
       "4658149                  3.578642                  5.365023   \n",
       "4658150                192.943820                182.046650   \n",
       "4658151                 18.965857                 19.822737   \n",
       "\n",
       "         scalar_coupling_constant  \n",
       "id                                 \n",
       "4658147                 15.146106  \n",
       "4658148                189.054861  \n",
       "4658149                  1.804049  \n",
       "4658150                189.054860  \n",
       "4658151                 15.146106  "
      ]
     },
     "execution_count": 31,
     "metadata": {},
     "output_type": "execute_result"
    }
   ],
   "source": [
    "preds.head()"
   ]
  },
  {
   "cell_type": "code",
   "execution_count": 32,
   "metadata": {},
   "outputs": [
    {
     "data": {
      "text/html": [
       "<div>\n",
       "<style scoped>\n",
       "    .dataframe tbody tr th:only-of-type {\n",
       "        vertical-align: middle;\n",
       "    }\n",
       "\n",
       "    .dataframe tbody tr th {\n",
       "        vertical-align: top;\n",
       "    }\n",
       "\n",
       "    .dataframe thead th {\n",
       "        text-align: right;\n",
       "    }\n",
       "</style>\n",
       "<table border=\"1\" class=\"dataframe\">\n",
       "  <thead>\n",
       "    <tr style=\"text-align: right;\">\n",
       "      <th></th>\n",
       "      <th>scalar_coupling_constant</th>\n",
       "    </tr>\n",
       "    <tr>\n",
       "      <th>id</th>\n",
       "      <th></th>\n",
       "    </tr>\n",
       "  </thead>\n",
       "  <tbody>\n",
       "    <tr>\n",
       "      <th>4658147</th>\n",
       "      <td>16.944663</td>\n",
       "    </tr>\n",
       "    <tr>\n",
       "      <th>4658148</th>\n",
       "      <td>182.573552</td>\n",
       "    </tr>\n",
       "    <tr>\n",
       "      <th>4658149</th>\n",
       "      <td>2.982537</td>\n",
       "    </tr>\n",
       "    <tr>\n",
       "      <th>4658150</th>\n",
       "      <td>183.421772</td>\n",
       "    </tr>\n",
       "    <tr>\n",
       "      <th>4658151</th>\n",
       "      <td>17.028920</td>\n",
       "    </tr>\n",
       "  </tbody>\n",
       "</table>\n",
       "</div>"
      ],
      "text/plain": [
       "         scalar_coupling_constant\n",
       "id                               \n",
       "4658147                 16.944663\n",
       "4658148                182.573552\n",
       "4658149                  2.982537\n",
       "4658150                183.421772\n",
       "4658151                 17.028920"
      ]
     },
     "execution_count": 32,
     "metadata": {},
     "output_type": "execute_result"
    }
   ],
   "source": [
    "sub_ens = pd.DataFrame(preds.mean(axis=1), columns=[TARGET_COL])\n",
    "sub_ens.head()"
   ]
  },
  {
   "cell_type": "code",
   "execution_count": 33,
   "metadata": {},
   "outputs": [],
   "source": [
    "sub_ens.to_csv(SUB_PATH+f'{SUB_NAME}-submission.csv')"
   ]
  },
  {
   "cell_type": "code",
   "execution_count": null,
   "metadata": {},
   "outputs": [],
   "source": []
  }
 ],
 "metadata": {
  "kernelspec": {
   "display_name": "Python 3",
   "language": "python",
   "name": "python3"
  },
  "language_info": {
   "codemirror_mode": {
    "name": "ipython",
    "version": 3
   },
   "file_extension": ".py",
   "mimetype": "text/x-python",
   "name": "python",
   "nbconvert_exporter": "python",
   "pygments_lexer": "ipython3",
   "version": "3.6.8"
  }
 },
 "nbformat": 4,
 "nbformat_minor": 2
}
